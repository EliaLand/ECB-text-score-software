{
 "cells": [
  {
   "cell_type": "markdown",
   "metadata": {},
   "source": [
    "# **FED Textual Analysis Software (Beta version)**"
   ]
  },
  {
   "cell_type": "markdown",
   "metadata": {},
   "source": [
    "We acknowledge the support of Elia Landini, Jessie Cameron & Lina Avril (Pantheon-Sorbonne University) in the development of this project."
   ]
  },
  {
   "cell_type": "markdown",
   "metadata": {},
   "source": [
    "### **INTRODUCTION**"
   ]
  },
  {
   "cell_type": "markdown",
   "metadata": {},
   "source": [
    "The project aims to conduct textual analysis of the Federal Reserve's (FED) Monetary Policy Reports through the deployment of Python-based software. This report is written semi-annually and provided to Congress containing discussions on the \"conduct of monetary policy and economic developments and prospects for the future.\" \n",
    "\n",
    "First, we develop a web scraping script to extract textual data from the FED's website. Subsequently, we use the Natural Language Toolkit (NLTK) package to preprocess the text, including tokenization, stemming, and converting words to lowercase. Next, the Loughran McDonald Sentiment Dictionary is employed to transform the cleaned qualitative text data into a quantitative measure of the FED's communication tone. This communication measure is then be regressed against the output gap and inflation gap, obtained via API, to assess the sensitivity of the FED's communication to these macroeconomic variables. Throughout the project, we employ various visualisation and analysis packages to explore the data and conduct preliminary analysis. \n",
    "\n",
    "Finally, we plan to develop a user-friendly interface for easy access and interpretation of our findings. **IF WE GET TIME**"
   ]
  },
  {
   "cell_type": "markdown",
   "metadata": {},
   "source": [
    "### **INSTALL PACKAGES**"
   ]
  },
  {
   "cell_type": "code",
   "execution_count": 22,
   "metadata": {
    "scrolled": true
   },
   "outputs": [
    {
     "name": "stdout",
     "output_type": "stream",
     "text": [
      "Requirement already satisfied: pandas in c:\\users\\jessi\\miniconda3\\envs\\econ\\lib\\site-packages (2.1.4)\n",
      "Requirement already satisfied: numpy<2,>=1.23.2 in c:\\users\\jessi\\miniconda3\\envs\\econ\\lib\\site-packages (from pandas) (1.26.2)\n",
      "Requirement already satisfied: python-dateutil>=2.8.2 in c:\\users\\jessi\\miniconda3\\envs\\econ\\lib\\site-packages (from pandas) (2.8.2)\n",
      "Requirement already satisfied: pytz>=2020.1 in c:\\users\\jessi\\miniconda3\\envs\\econ\\lib\\site-packages (from pandas) (2023.3.post1)\n",
      "Requirement already satisfied: tzdata>=2022.1 in c:\\users\\jessi\\miniconda3\\envs\\econ\\lib\\site-packages (from pandas) (2023.3)\n",
      "Requirement already satisfied: six>=1.5 in c:\\users\\jessi\\miniconda3\\envs\\econ\\lib\\site-packages (from python-dateutil>=2.8.2->pandas) (1.16.0)\n",
      "Requirement already satisfied: matplotlib in c:\\users\\jessi\\miniconda3\\envs\\econ\\lib\\site-packages (3.8.2)\n",
      "Requirement already satisfied: contourpy>=1.0.1 in c:\\users\\jessi\\miniconda3\\envs\\econ\\lib\\site-packages (from matplotlib) (1.2.0)\n",
      "Requirement already satisfied: cycler>=0.10 in c:\\users\\jessi\\miniconda3\\envs\\econ\\lib\\site-packages (from matplotlib) (0.12.1)\n",
      "Requirement already satisfied: fonttools>=4.22.0 in c:\\users\\jessi\\miniconda3\\envs\\econ\\lib\\site-packages (from matplotlib) (4.47.0)\n",
      "Requirement already satisfied: kiwisolver>=1.3.1 in c:\\users\\jessi\\miniconda3\\envs\\econ\\lib\\site-packages (from matplotlib) (1.4.5)\n",
      "Requirement already satisfied: numpy<2,>=1.21 in c:\\users\\jessi\\miniconda3\\envs\\econ\\lib\\site-packages (from matplotlib) (1.26.2)\n",
      "Requirement already satisfied: packaging>=20.0 in c:\\users\\jessi\\miniconda3\\envs\\econ\\lib\\site-packages (from matplotlib) (23.2)\n",
      "Requirement already satisfied: pillow>=8 in c:\\users\\jessi\\miniconda3\\envs\\econ\\lib\\site-packages (from matplotlib) (10.1.0)\n",
      "Requirement already satisfied: pyparsing>=2.3.1 in c:\\users\\jessi\\miniconda3\\envs\\econ\\lib\\site-packages (from matplotlib) (3.1.1)\n",
      "Requirement already satisfied: python-dateutil>=2.7 in c:\\users\\jessi\\miniconda3\\envs\\econ\\lib\\site-packages (from matplotlib) (2.8.2)\n",
      "Requirement already satisfied: six>=1.5 in c:\\users\\jessi\\miniconda3\\envs\\econ\\lib\\site-packages (from python-dateutil>=2.7->matplotlib) (1.16.0)\n",
      "Requirement already satisfied: requests-html in c:\\users\\jessi\\miniconda3\\envs\\econ\\lib\\site-packages (0.10.0)\n",
      "Requirement already satisfied: requests in c:\\users\\jessi\\miniconda3\\envs\\econ\\lib\\site-packages (from requests-html) (2.31.0)\n",
      "Requirement already satisfied: pyquery in c:\\users\\jessi\\miniconda3\\envs\\econ\\lib\\site-packages (from requests-html) (2.0.0)\n",
      "Requirement already satisfied: fake-useragent in c:\\users\\jessi\\miniconda3\\envs\\econ\\lib\\site-packages (from requests-html) (1.5.1)\n",
      "Requirement already satisfied: parse in c:\\users\\jessi\\miniconda3\\envs\\econ\\lib\\site-packages (from requests-html) (1.20.1)\n",
      "Requirement already satisfied: bs4 in c:\\users\\jessi\\miniconda3\\envs\\econ\\lib\\site-packages (from requests-html) (0.0.2)\n",
      "Requirement already satisfied: w3lib in c:\\users\\jessi\\miniconda3\\envs\\econ\\lib\\site-packages (from requests-html) (2.1.2)\n",
      "Requirement already satisfied: pyppeteer>=0.0.14 in c:\\users\\jessi\\miniconda3\\envs\\econ\\lib\\site-packages (from requests-html) (2.0.0)\n",
      "Requirement already satisfied: appdirs<2.0.0,>=1.4.3 in c:\\users\\jessi\\miniconda3\\envs\\econ\\lib\\site-packages (from pyppeteer>=0.0.14->requests-html) (1.4.4)\n",
      "Requirement already satisfied: certifi>=2023 in c:\\users\\jessi\\miniconda3\\envs\\econ\\lib\\site-packages (from pyppeteer>=0.0.14->requests-html) (2023.11.17)\n",
      "Requirement already satisfied: importlib-metadata>=1.4 in c:\\users\\jessi\\miniconda3\\envs\\econ\\lib\\site-packages (from pyppeteer>=0.0.14->requests-html) (7.0.1)\n",
      "Requirement already satisfied: pyee<12.0.0,>=11.0.0 in c:\\users\\jessi\\miniconda3\\envs\\econ\\lib\\site-packages (from pyppeteer>=0.0.14->requests-html) (11.1.0)\n",
      "Requirement already satisfied: tqdm<5.0.0,>=4.42.1 in c:\\users\\jessi\\miniconda3\\envs\\econ\\lib\\site-packages (from pyppeteer>=0.0.14->requests-html) (4.66.1)\n",
      "Requirement already satisfied: urllib3<2.0.0,>=1.25.8 in c:\\users\\jessi\\miniconda3\\envs\\econ\\lib\\site-packages (from pyppeteer>=0.0.14->requests-html) (1.26.18)\n",
      "Requirement already satisfied: websockets<11.0,>=10.0 in c:\\users\\jessi\\miniconda3\\envs\\econ\\lib\\site-packages (from pyppeteer>=0.0.14->requests-html) (10.4)\n",
      "Requirement already satisfied: beautifulsoup4 in c:\\users\\jessi\\miniconda3\\envs\\econ\\lib\\site-packages (from bs4->requests-html) (4.12.2)\n",
      "Requirement already satisfied: lxml>=2.1 in c:\\users\\jessi\\miniconda3\\envs\\econ\\lib\\site-packages (from pyquery->requests-html) (5.0.0)\n",
      "Requirement already satisfied: cssselect>=1.2.0 in c:\\users\\jessi\\miniconda3\\envs\\econ\\lib\\site-packages (from pyquery->requests-html) (1.2.0)\n",
      "Requirement already satisfied: charset-normalizer<4,>=2 in c:\\users\\jessi\\miniconda3\\envs\\econ\\lib\\site-packages (from requests->requests-html) (3.3.2)\n",
      "Requirement already satisfied: idna<4,>=2.5 in c:\\users\\jessi\\miniconda3\\envs\\econ\\lib\\site-packages (from requests->requests-html) (3.6)\n",
      "Requirement already satisfied: zipp>=0.5 in c:\\users\\jessi\\miniconda3\\envs\\econ\\lib\\site-packages (from importlib-metadata>=1.4->pyppeteer>=0.0.14->requests-html) (3.17.0)\n",
      "Requirement already satisfied: typing-extensions in c:\\users\\jessi\\miniconda3\\envs\\econ\\lib\\site-packages (from pyee<12.0.0,>=11.0.0->pyppeteer>=0.0.14->requests-html) (4.9.0)\n",
      "Requirement already satisfied: colorama in c:\\users\\jessi\\miniconda3\\envs\\econ\\lib\\site-packages (from tqdm<5.0.0,>=4.42.1->pyppeteer>=0.0.14->requests-html) (0.4.6)\n",
      "Requirement already satisfied: soupsieve>1.2 in c:\\users\\jessi\\miniconda3\\envs\\econ\\lib\\site-packages (from beautifulsoup4->bs4->requests-html) (2.5)\n",
      "Requirement already satisfied: seaborn in c:\\users\\jessi\\miniconda3\\envs\\econ\\lib\\site-packages (0.13.0)\n",
      "Requirement already satisfied: numpy!=1.24.0,>=1.20 in c:\\users\\jessi\\miniconda3\\envs\\econ\\lib\\site-packages (from seaborn) (1.26.2)\n",
      "Requirement already satisfied: pandas>=1.2 in c:\\users\\jessi\\miniconda3\\envs\\econ\\lib\\site-packages (from seaborn) (2.1.4)\n",
      "Requirement already satisfied: matplotlib!=3.6.1,>=3.3 in c:\\users\\jessi\\miniconda3\\envs\\econ\\lib\\site-packages (from seaborn) (3.8.2)\n",
      "Requirement already satisfied: contourpy>=1.0.1 in c:\\users\\jessi\\miniconda3\\envs\\econ\\lib\\site-packages (from matplotlib!=3.6.1,>=3.3->seaborn) (1.2.0)\n",
      "Requirement already satisfied: cycler>=0.10 in c:\\users\\jessi\\miniconda3\\envs\\econ\\lib\\site-packages (from matplotlib!=3.6.1,>=3.3->seaborn) (0.12.1)\n",
      "Requirement already satisfied: fonttools>=4.22.0 in c:\\users\\jessi\\miniconda3\\envs\\econ\\lib\\site-packages (from matplotlib!=3.6.1,>=3.3->seaborn) (4.47.0)\n",
      "Requirement already satisfied: kiwisolver>=1.3.1 in c:\\users\\jessi\\miniconda3\\envs\\econ\\lib\\site-packages (from matplotlib!=3.6.1,>=3.3->seaborn) (1.4.5)\n",
      "Requirement already satisfied: packaging>=20.0 in c:\\users\\jessi\\miniconda3\\envs\\econ\\lib\\site-packages (from matplotlib!=3.6.1,>=3.3->seaborn) (23.2)\n",
      "Requirement already satisfied: pillow>=8 in c:\\users\\jessi\\miniconda3\\envs\\econ\\lib\\site-packages (from matplotlib!=3.6.1,>=3.3->seaborn) (10.1.0)\n",
      "Requirement already satisfied: pyparsing>=2.3.1 in c:\\users\\jessi\\miniconda3\\envs\\econ\\lib\\site-packages (from matplotlib!=3.6.1,>=3.3->seaborn) (3.1.1)\n",
      "Requirement already satisfied: python-dateutil>=2.7 in c:\\users\\jessi\\miniconda3\\envs\\econ\\lib\\site-packages (from matplotlib!=3.6.1,>=3.3->seaborn) (2.8.2)\n",
      "Requirement already satisfied: pytz>=2020.1 in c:\\users\\jessi\\miniconda3\\envs\\econ\\lib\\site-packages (from pandas>=1.2->seaborn) (2023.3.post1)\n",
      "Requirement already satisfied: tzdata>=2022.1 in c:\\users\\jessi\\miniconda3\\envs\\econ\\lib\\site-packages (from pandas>=1.2->seaborn) (2023.3)\n",
      "Requirement already satisfied: six>=1.5 in c:\\users\\jessi\\miniconda3\\envs\\econ\\lib\\site-packages (from python-dateutil>=2.7->matplotlib!=3.6.1,>=3.3->seaborn) (1.16.0)\n",
      "Requirement already satisfied: numpy in c:\\users\\jessi\\miniconda3\\envs\\econ\\lib\\site-packages (1.26.2)\n",
      "Requirement already satisfied: schedule in c:\\users\\jessi\\miniconda3\\envs\\econ\\lib\\site-packages (1.2.2)\n",
      "Requirement already satisfied: statsmodels in c:\\users\\jessi\\miniconda3\\envs\\econ\\lib\\site-packages (0.14.1)\n",
      "Requirement already satisfied: numpy<2,>=1.18 in c:\\users\\jessi\\miniconda3\\envs\\econ\\lib\\site-packages (from statsmodels) (1.26.2)\n",
      "Requirement already satisfied: scipy!=1.9.2,>=1.4 in c:\\users\\jessi\\miniconda3\\envs\\econ\\lib\\site-packages (from statsmodels) (1.11.4)\n",
      "Requirement already satisfied: pandas!=2.1.0,>=1.0 in c:\\users\\jessi\\miniconda3\\envs\\econ\\lib\\site-packages (from statsmodels) (2.1.4)\n",
      "Requirement already satisfied: patsy>=0.5.4 in c:\\users\\jessi\\miniconda3\\envs\\econ\\lib\\site-packages (from statsmodels) (0.5.5)\n",
      "Requirement already satisfied: packaging>=21.3 in c:\\users\\jessi\\miniconda3\\envs\\econ\\lib\\site-packages (from statsmodels) (23.2)\n",
      "Requirement already satisfied: python-dateutil>=2.8.2 in c:\\users\\jessi\\miniconda3\\envs\\econ\\lib\\site-packages (from pandas!=2.1.0,>=1.0->statsmodels) (2.8.2)\n",
      "Requirement already satisfied: pytz>=2020.1 in c:\\users\\jessi\\miniconda3\\envs\\econ\\lib\\site-packages (from pandas!=2.1.0,>=1.0->statsmodels) (2023.3.post1)\n",
      "Requirement already satisfied: tzdata>=2022.1 in c:\\users\\jessi\\miniconda3\\envs\\econ\\lib\\site-packages (from pandas!=2.1.0,>=1.0->statsmodels) (2023.3)\n",
      "Requirement already satisfied: six in c:\\users\\jessi\\miniconda3\\envs\\econ\\lib\\site-packages (from patsy>=0.5.4->statsmodels) (1.16.0)\n",
      "Requirement already satisfied: reportlab in c:\\users\\jessi\\miniconda3\\envs\\econ\\lib\\site-packages (4.2.0)\n",
      "Requirement already satisfied: pillow>=9.0.0 in c:\\users\\jessi\\miniconda3\\envs\\econ\\lib\\site-packages (from reportlab) (10.1.0)\n",
      "Requirement already satisfied: chardet in c:\\users\\jessi\\miniconda3\\envs\\econ\\lib\\site-packages (from reportlab) (5.2.0)\n",
      "Requirement already satisfied: scipy in c:\\users\\jessi\\miniconda3\\envs\\econ\\lib\\site-packages (1.11.4)\n",
      "Requirement already satisfied: numpy<1.28.0,>=1.21.6 in c:\\users\\jessi\\miniconda3\\envs\\econ\\lib\\site-packages (from scipy) (1.26.2)\n",
      "Requirement already satisfied: linearmodels in c:\\users\\jessi\\miniconda3\\envs\\econ\\lib\\site-packages (0.0.0)\n",
      "Requirement already satisfied: numpy>=1.19.0 in c:\\users\\jessi\\miniconda3\\envs\\econ\\lib\\site-packages (from linearmodels) (1.26.2)\n",
      "Requirement already satisfied: pandas>=1.1.0 in c:\\users\\jessi\\miniconda3\\envs\\econ\\lib\\site-packages (from linearmodels) (2.1.4)\n",
      "Requirement already satisfied: scipy>=1.5.0 in c:\\users\\jessi\\miniconda3\\envs\\econ\\lib\\site-packages (from linearmodels) (1.11.4)\n",
      "Requirement already satisfied: statsmodels>=0.12.0 in c:\\users\\jessi\\miniconda3\\envs\\econ\\lib\\site-packages (from linearmodels) (0.14.1)\n",
      "Requirement already satisfied: mypy-extensions>=0.4 in c:\\users\\jessi\\miniconda3\\envs\\econ\\lib\\site-packages (from linearmodels) (1.0.0)\n",
      "Requirement already satisfied: Cython>=0.29.34 in c:\\users\\jessi\\miniconda3\\envs\\econ\\lib\\site-packages (from linearmodels) (3.0.10)\n",
      "Requirement already satisfied: pyhdfe>=0.1 in c:\\users\\jessi\\miniconda3\\envs\\econ\\lib\\site-packages (from linearmodels) (0.2.0)\n",
      "Requirement already satisfied: formulaic>=0.6.5 in c:\\users\\jessi\\miniconda3\\envs\\econ\\lib\\site-packages (from linearmodels) (1.0.1)\n",
      "Requirement already satisfied: setuptools-scm<8.0.0,>=7.0.0 in c:\\users\\jessi\\miniconda3\\envs\\econ\\lib\\site-packages (from setuptools-scm[toml]<8.0.0,>=7.0.0->linearmodels) (7.1.0)\n",
      "Requirement already satisfied: interface-meta>=1.2.0 in c:\\users\\jessi\\miniconda3\\envs\\econ\\lib\\site-packages (from formulaic>=0.6.5->linearmodels) (1.3.0)\n",
      "Requirement already satisfied: typing-extensions>=4.2.0 in c:\\users\\jessi\\miniconda3\\envs\\econ\\lib\\site-packages (from formulaic>=0.6.5->linearmodels) (4.9.0)\n",
      "Requirement already satisfied: wrapt>=1.0 in c:\\users\\jessi\\miniconda3\\envs\\econ\\lib\\site-packages (from formulaic>=0.6.5->linearmodels) (1.16.0)\n",
      "Requirement already satisfied: python-dateutil>=2.8.2 in c:\\users\\jessi\\miniconda3\\envs\\econ\\lib\\site-packages (from pandas>=1.1.0->linearmodels) (2.8.2)\n",
      "Requirement already satisfied: pytz>=2020.1 in c:\\users\\jessi\\miniconda3\\envs\\econ\\lib\\site-packages (from pandas>=1.1.0->linearmodels) (2023.3.post1)\n",
      "Requirement already satisfied: tzdata>=2022.1 in c:\\users\\jessi\\miniconda3\\envs\\econ\\lib\\site-packages (from pandas>=1.1.0->linearmodels) (2023.3)\n",
      "Requirement already satisfied: packaging>=20.0 in c:\\users\\jessi\\miniconda3\\envs\\econ\\lib\\site-packages (from setuptools-scm<8.0.0,>=7.0.0->setuptools-scm[toml]<8.0.0,>=7.0.0->linearmodels) (23.2)\n",
      "Requirement already satisfied: setuptools in c:\\users\\jessi\\miniconda3\\envs\\econ\\lib\\site-packages (from setuptools-scm<8.0.0,>=7.0.0->setuptools-scm[toml]<8.0.0,>=7.0.0->linearmodels) (68.2.2)\n",
      "Requirement already satisfied: patsy>=0.5.4 in c:\\users\\jessi\\miniconda3\\envs\\econ\\lib\\site-packages (from statsmodels>=0.12.0->linearmodels) (0.5.5)\n",
      "Requirement already satisfied: six in c:\\users\\jessi\\miniconda3\\envs\\econ\\lib\\site-packages (from patsy>=0.5.4->statsmodels>=0.12.0->linearmodels) (1.16.0)\n",
      "Requirement already satisfied: openai in c:\\users\\jessi\\miniconda3\\envs\\econ\\lib\\site-packages (1.30.3)\n",
      "Requirement already satisfied: anyio<5,>=3.5.0 in c:\\users\\jessi\\miniconda3\\envs\\econ\\lib\\site-packages (from openai) (4.2.0)\n",
      "Requirement already satisfied: distro<2,>=1.7.0 in c:\\users\\jessi\\miniconda3\\envs\\econ\\lib\\site-packages (from openai) (1.9.0)\n",
      "Requirement already satisfied: httpx<1,>=0.23.0 in c:\\users\\jessi\\miniconda3\\envs\\econ\\lib\\site-packages (from openai) (0.27.0)\n",
      "Requirement already satisfied: pydantic<3,>=1.9.0 in c:\\users\\jessi\\miniconda3\\envs\\econ\\lib\\site-packages (from openai) (2.6.1)\n",
      "Requirement already satisfied: sniffio in c:\\users\\jessi\\miniconda3\\envs\\econ\\lib\\site-packages (from openai) (1.3.0)\n",
      "Requirement already satisfied: tqdm>4 in c:\\users\\jessi\\miniconda3\\envs\\econ\\lib\\site-packages (from openai) (4.66.1)\n",
      "Requirement already satisfied: typing-extensions<5,>=4.7 in c:\\users\\jessi\\miniconda3\\envs\\econ\\lib\\site-packages (from openai) (4.9.0)\n",
      "Requirement already satisfied: idna>=2.8 in c:\\users\\jessi\\miniconda3\\envs\\econ\\lib\\site-packages (from anyio<5,>=3.5.0->openai) (3.6)\n",
      "Requirement already satisfied: certifi in c:\\users\\jessi\\miniconda3\\envs\\econ\\lib\\site-packages (from httpx<1,>=0.23.0->openai) (2023.11.17)\n",
      "Requirement already satisfied: httpcore==1.* in c:\\users\\jessi\\miniconda3\\envs\\econ\\lib\\site-packages (from httpx<1,>=0.23.0->openai) (1.0.5)\n",
      "Requirement already satisfied: h11<0.15,>=0.13 in c:\\users\\jessi\\miniconda3\\envs\\econ\\lib\\site-packages (from httpcore==1.*->httpx<1,>=0.23.0->openai) (0.14.0)\n",
      "Requirement already satisfied: annotated-types>=0.4.0 in c:\\users\\jessi\\miniconda3\\envs\\econ\\lib\\site-packages (from pydantic<3,>=1.9.0->openai) (0.6.0)\n",
      "Requirement already satisfied: pydantic-core==2.16.2 in c:\\users\\jessi\\miniconda3\\envs\\econ\\lib\\site-packages (from pydantic<3,>=1.9.0->openai) (2.16.2)\n",
      "Requirement already satisfied: colorama in c:\\users\\jessi\\miniconda3\\envs\\econ\\lib\\site-packages (from tqdm>4->openai) (0.4.6)\n",
      "Requirement already satisfied: fredapi in c:\\users\\jessi\\miniconda3\\envs\\econ\\lib\\site-packages (0.5.2)\n",
      "Requirement already satisfied: pandas in c:\\users\\jessi\\miniconda3\\envs\\econ\\lib\\site-packages (from fredapi) (2.1.4)\n",
      "Requirement already satisfied: numpy<2,>=1.23.2 in c:\\users\\jessi\\miniconda3\\envs\\econ\\lib\\site-packages (from pandas->fredapi) (1.26.2)\n",
      "Requirement already satisfied: python-dateutil>=2.8.2 in c:\\users\\jessi\\miniconda3\\envs\\econ\\lib\\site-packages (from pandas->fredapi) (2.8.2)\n",
      "Requirement already satisfied: pytz>=2020.1 in c:\\users\\jessi\\miniconda3\\envs\\econ\\lib\\site-packages (from pandas->fredapi) (2023.3.post1)\n",
      "Requirement already satisfied: tzdata>=2022.1 in c:\\users\\jessi\\miniconda3\\envs\\econ\\lib\\site-packages (from pandas->fredapi) (2023.3)\n",
      "Requirement already satisfied: six>=1.5 in c:\\users\\jessi\\miniconda3\\envs\\econ\\lib\\site-packages (from python-dateutil>=2.8.2->pandas->fredapi) (1.16.0)\n"
     ]
    }
   ],
   "source": [
    "!pip install pandas\n",
    "!pip install matplotlib\n",
    "!pip install requests-html\n",
    "!pip install seaborn\n",
    "!pip install numpy\n",
    "!pip install schedule\n",
    "!pip install statsmodels\n",
    "!pip install reportlab\n",
    "!pip install scipy\n",
    "!pip install linearmodels\n",
    "!pip install openai\n",
    "!pip install fredapi"
   ]
  },
  {
   "cell_type": "markdown",
   "metadata": {},
   "source": [
    "### **1. IMPORT TEXTUAL DATA: FED WEB SCRAPPING**"
   ]
  },
  {
   "cell_type": "markdown",
   "metadata": {},
   "source": [
    "The following function retrives and filters text-based resources of the Fed's semi-annual Monetary Policy Report. The function is customised to scrape artciles and filter text based on the topic and typology of the publication. \n",
    "\n",
    "Base URL-FED: https://www.federalreserve.gov/monetarypolicy/publications/mpr_default.htm"
   ]
  },
  {
   "cell_type": "markdown",
   "metadata": {},
   "source": [
    " #### 1.1 Fed Monetary Policy Report URL retrieval "
   ]
  },
  {
   "cell_type": "code",
   "execution_count": 83,
   "metadata": {},
   "outputs": [],
   "source": [
    "import requests\n",
    "from bs4 import BeautifulSoup"
   ]
  },
  {
   "cell_type": "code",
   "execution_count": 84,
   "metadata": {
    "scrolled": true
   },
   "outputs": [],
   "source": [
    "# FED Scraping Function \n",
    "\n",
    "def fed_get_articles(topic, publication_type, sub_class):\n",
    "    # Construct the base URL for fetching articles based on the topic, publication type, and subclass\n",
    "    base_url = f\"https://www.federalreserve.gov/{topic}/{publication_type}/mpr_default.htm\"\n",
    "    # Define the base domain for constructing full URLs from relative links\n",
    "    base_domain = f\"https://www.federalreserve.gov\"\n",
    "\n",
    "    # Create an empty list to store article URLs\n",
    "    article_urls = []\n",
    "\n",
    "    try: # From the base URL, we now extract all the available URLs on the page by deploying Request and BeatifulSoup packages \n",
    "        response = requests.get(base_url)\n",
    "        response.raise_for_status()\n",
    "        soup = BeautifulSoup(response.content, \"html.parser\")\n",
    "\n",
    "        # Find and filter article URLs, ruling out other structural URL non-inherent to the analysis\n",
    "        # We are also interested only in full report publications and not summaries. In our case this difference is highlighted by the subclass \"testimony\" in which full report publications are stored\n",
    "        # It is also worth noticing that the publications' URL has slightly changed throughout time (from 2016 onwards)\n",
    "       \n",
    "        for link in soup.find_all(\"a\", href=True):\n",
    "            article_url = link[\"href\"]\n",
    "            # To limit the research to the first 5 results, we may want to activate this loop\n",
    "            # if len(article_urls) >= 5:  \n",
    "            if not article_url.startswith(\"http\"):\n",
    "                article_url = base_domain + article_url\n",
    "\n",
    "            # Check if the URL contains the subclass or specific paths for older press conferences\n",
    "            # Necessary specifications to filter URLs and include even the 2000's press confereneces, which follow a slightly different structure:\n",
    "            if sub_class in article_url or \"/hh/2000/February/Testimony.htm\" in article_url or \"/hh/2000/July/Testimony.htm\" in article_url:\n",
    "                # Add the URL to the list of article URLs\n",
    "                article_urls.append(article_url)\n",
    "        \n",
    "        # Use list comprehension to remove any unwanted general folder URL from the list\n",
    "        article_urls = [url for url in article_urls if url != f\"https://www.federalreserve.gov/newsevents/{sub_class}.htm\"]\n",
    "\n",
    "    # Handle exceptions that occur during the HTTP request\n",
    "    except requests.RequestException as e:\n",
    "        # Print an error message if an exception is caught\n",
    "        print(f\"Error fetching articles: {e}\")\n",
    "\n",
    "    # Return the list of filtered article URLs\n",
    "    return article_urls"
   ]
  },
  {
   "cell_type": "code",
   "execution_count": 85,
   "metadata": {
    "scrolled": true
   },
   "outputs": [
    {
     "name": "stdout",
     "output_type": "stream",
     "text": [
      "['https://www.federalreserve.gov/newsevents/testimony/powell20240306a.htm', 'https://www.federalreserve.gov/newsevents/testimony/powell20230307a.htm', 'https://www.federalreserve.gov/newsevents/testimony/powell20230621a.htm', 'https://www.federalreserve.gov/newsevents/testimony/powell20220302a.htm', 'https://www.federalreserve.gov/newsevents/testimony/powell20220622a.htm', 'https://www.federalreserve.gov/newsevents/testimony/powell20210223a.htm', 'https://www.federalreserve.gov/newsevents/testimony/powell20210714a.htm', 'https://www.federalreserve.gov/newsevents/testimony/powell20200211a.htm', 'https://www.federalreserve.gov/newsevents/testimony/powell20200616a.htm', 'https://www.federalreserve.gov/newsevents/testimony/powell20190226a.htm', 'https://www.federalreserve.gov/newsevents/testimony/powell20190710a.htm', 'https://www.federalreserve.gov/newsevents/testimony/powell20180226a.htm', 'https://www.federalreserve.gov/newsevents/testimony/powell20180717a.htm', 'https://www.federalreserve.gov/newsevents/testimony/yellen20170214a.htm', 'https://www.federalreserve.gov/newsevents/testimony/yellen20170712a.htm', 'https://www.federalreserve.gov/newsevents/testimony/yellen20160210a.htm', 'https://www.federalreserve.gov/newsevents/testimony/yellen20160621a.htm', 'https://www.federalreserve.gov/newsevents/testimony/yellen20150224a.htm', 'https://www.federalreserve.gov/newsevents/testimony/yellen20150715a.htm', 'https://www.federalreserve.gov/newsevents/testimony/yellen20140211a.htm', 'https://www.federalreserve.gov/newsevents/testimony/yellen20140715a.htm', 'https://www.federalreserve.gov/newsevents/testimony/bernanke20130226a.htm', 'https://www.federalreserve.gov/newsevents/testimony/bernanke20130717a.htm', 'https://www.federalreserve.gov/newsevents/testimony/bernanke20120229a.htm', 'https://www.federalreserve.gov/newsevents/testimony/bernanke20120717a.htm', 'https://www.federalreserve.gov/newsevents/testimony/bernanke20110301a.htm', 'https://www.federalreserve.gov/newsevents/testimony/bernanke20110713a.htm', 'https://www.federalreserve.gov/newsevents/testimony/bernanke20100224a.htm', 'https://www.federalreserve.gov/newsevents/testimony/bernanke20100721a.htm', 'https://www.federalreserve.gov/newsevents/testimony/bernanke20090224a.htm', 'https://www.federalreserve.gov/newsevents/testimony/bernanke20090721a.htm', 'https://www.federalreserve.gov/newsevents/testimony/bernanke20080227a.htm', 'https://www.federalreserve.gov/newsevents/testimony/bernanke20080715a.htm', 'https://www.federalreserve.gov/newsevents/testimony/bernanke20070214a.htm', 'https://www.federalreserve.gov/newsevents/testimony/bernanke20070718a.htm', 'https://www.federalreserve.gov/newsevents/testimony/bernanke20060215a.htm', 'https://www.federalreserve.gov/newsevents/testimony/bernanke20060719a.htm', 'https://www.federalreserve.gov/boarddocs/hh/2005/february/testimony.htm', 'https://www.federalreserve.gov/boarddocs/hh/2005/july/testimony.htm', 'https://www.federalreserve.gov/boarddocs/hh/2004/february/testimony.htm', 'https://www.federalreserve.gov/boarddocs/hh/2004/july/testimony.htm', 'https://www.federalreserve.gov/boarddocs/hh/2003/february/testimony.htm', 'https://www.federalreserve.gov/boarddocs/hh/2003/april/testimony.htm', 'https://www.federalreserve.gov/boarddocs/hh/2003/july/testimony.htm', 'https://www.federalreserve.gov/boarddocs/hh/2002/february/testimony.htm', 'https://www.federalreserve.gov/boarddocs/hh/2002/july/testimony.htm', 'https://www.federalreserve.gov/boarddocs/hh/2001/february/testimony2.htm', 'https://www.federalreserve.gov/boarddocs/hh/2001/july/testimony.htm', 'https://www.federalreserve.gov/boarddocs/hh/2000/February/Testimony.htm', 'https://www.federalreserve.gov/boarddocs/hh/2000/July/Testimony.htm', 'https://www.federalreserve.gov/boarddocs/hh/1999/february/testimony.htm', 'https://www.federalreserve.gov/boarddocs/hh/1999/July/testimony.htm', 'https://www.federalreserve.gov/boarddocs/hh/1998/february/testimony.htm', 'https://www.federalreserve.gov/boarddocs/hh/1998/july/testimony.htm', 'https://www.federalreserve.gov/boarddocs/hh/1997/february/testimony.htm', 'https://www.federalreserve.gov/boarddocs/hh/1997/july/testimony.htm', 'https://www.federalreserve.gov/boarddocs/hh/1996/july/testimony.htm']\n"
     ]
    }
   ],
   "source": [
    "# Retrieving FED semiannual reports' URLs through the previous function by specifying the value of each parameter to fit our research scope\n",
    "topic = \"monetarypolicy\"\n",
    "publication_type = \"publications\"\n",
    "sub_class = \"testimony\"\n",
    "\n",
    "print(fed_get_articles(topic, publication_type, sub_class))"
   ]
  },
  {
   "cell_type": "markdown",
   "metadata": {},
   "source": [
    "#### 1.2 Text-based Sources Retriveal"
   ]
  },
  {
   "cell_type": "code",
   "execution_count": 86,
   "metadata": {},
   "outputs": [],
   "source": [
    "import requests\n",
    "from bs4 import BeautifulSoup\n",
    "import re"
   ]
  },
  {
   "cell_type": "code",
   "execution_count": 90,
   "metadata": {},
   "outputs": [],
   "source": [
    "# Text-based sources retrieving for the target article (num = ID/Index article)\n",
    "def fed_article_txt(article_urls, num):\n",
    "\n",
    "    try: ## Fetch article content (the \"response\" function takes the HTML text from the URL)\n",
    "        article_url = article_urls[num]\n",
    "        response = requests.get(article_url)\n",
    "        response.raise_for_status()\n",
    "        soup = BeautifulSoup(response.content, \"html.parser\")\n",
    "        return soup.get_text()\n",
    "        \n",
    "    except requests.RequestException as e:\n",
    "        print(f\"Error fetching article text from {article_url}: {e}\")\n",
    "        return \"\"\n",
    "        \n",
    "    except IndexError:\n",
    "        print(f\"Error: Index {num} is out of bounds for the article URLs list.\")\n",
    "        return \"\""
   ]
  },
  {
   "cell_type": "markdown",
   "metadata": {},
   "source": [
    "#### 1.3 Text Cleaning"
   ]
  },
  {
   "cell_type": "code",
   "execution_count": 96,
   "metadata": {},
   "outputs": [],
   "source": [
    "import requests\n",
    "from bs4 import BeautifulSoup\n",
    "import re\n",
    "import pandas as pd"
   ]
  },
  {
   "cell_type": "code",
   "execution_count": 97,
   "metadata": {},
   "outputs": [],
   "source": [
    "# Text-based soruces retrieving for the target article (num = ID/Index article)\n",
    "def fed_article_cleaning(pattern, text):\n",
    "\n",
    "    ## Combine previous functions to directly pass to input to the new function in order to eventually clean the text from unhelpful and irrelevant texts\n",
    "    extracted_text = re.search(pattern, text, re.DOTALL)\n",
    "    if extracted_text:\n",
    "        return extracted_text.group(1).strip()\n",
    "    else:\n",
    "        return \"Text not found\""
   ]
  },
  {
   "cell_type": "code",
   "execution_count": 98,
   "metadata": {},
   "outputs": [],
   "source": [
    "def process_article(num, topic, publication_type, sub_class, patterns):\n",
    "\n",
    "    article_urls = fed_get_articles(topic, publication_type, sub_class)\n",
    "    article_text = fed_article_txt(article_urls, num)\n",
    "    \n",
    "    cleaned_texts = [fed_article_cleaning(pattern, article_text) for pattern in patterns]\n",
    "    \n",
    "    return \" \".join(cleaned_texts)"
   ]
  },
  {
   "cell_type": "markdown",
   "metadata": {},
   "source": [
    "##### 1.3.1 Reports with Similar Structures"
   ]
  },
  {
   "cell_type": "code",
   "execution_count": 238,
   "metadata": {},
   "outputs": [],
   "source": [
    "# Define common patterns\n",
    "patterns_0 = [\n",
    "    r\"Current Economic Situation and Outlook\\r?\\n(.*?)\\r?\\nMonetary Policy\",\n",
    "    r\"Monetary Policy\\r?\\n(.*?)\\r?\\nThank you\"\n",
    "]\n",
    "\n",
    "# List of indices for monetary policy reports which have common patterns_0\n",
    "common_pattern_indices = [0, 1, 2, 3, 4, 5, 6, 7, 9, 11, 12, 13, 14]\n",
    "\n",
    "# Dictionary to store article texts\n",
    "article_texts = {}\n",
    "\n",
    "# Process articles with common patterns\n",
    "for index in common_pattern_indices:\n",
    "    article_texts[f\"article{index}_text\"] = process_article(index, \"monetarypolicy\", \"publications\", \"testimony\", patterns_0)"
   ]
  },
  {
   "cell_type": "code",
   "execution_count": 329,
   "metadata": {},
   "outputs": [],
   "source": [
    "#print(article_texts[\"article6_text\"])"
   ]
  },
  {
   "cell_type": "markdown",
   "metadata": {},
   "source": [
    "##### 1.3.2 Reports with Changing Structures"
   ]
  },
  {
   "cell_type": "code",
   "execution_count": 331,
   "metadata": {},
   "outputs": [],
   "source": [
    "# Article 8 [Powell, Jun 2020]\n",
    "\n",
    "patterns_8 = [\n",
    "    r\"Current Economic Situation and Outlook\\r?\\n(.*?)\\r?\\nMonetary Policy\",\n",
    "    r\"Monetary Policy and Federal Reserve Actions to Support the Flow of Credit\\r?\\n(.*?)\\r?\\nThank you\"\n",
    "]\n",
    "article8_text = process_article(8, \"monetarypolicy\", \"publications\", \"testimony\", patterns_8)\n",
    "#print(article8_text)"
   ]
  },
  {
   "cell_type": "code",
   "execution_count": 285,
   "metadata": {},
   "outputs": [],
   "source": [
    "# Article 10 [Powell, Jul 2019]\n",
    "# Here we cope with issues caused by italic styled words \n",
    "\n",
    "patterns_10 = [\n",
    "    \"Current Economic Situation and Outlook\" + r\"(.*?)\" + \"A box in the July\",\n",
    "    \"different levels of education.\" + r\"(.*?)\" + \"address these issues.\",\n",
    "    \"Against this backdrop,\" + r\"(.*?)\" + \"The July\",\n",
    "    \"The FOMC routinely looks\" + r\"(.*?)\" + \"The review has started\"\n",
    "]\n",
    "article10_text = process_article(10, \"monetarypolicy\", \"publications\", \"testimony\", patterns_10)\n",
    "#print(article10_text)"
   ]
  },
  {
   "cell_type": "code",
   "execution_count": 286,
   "metadata": {
    "scrolled": true
   },
   "outputs": [],
   "source": [
    "# Article 15 [Yellen, Feb 2016]\n",
    "\n",
    "patterns_15 = [\n",
    "     r\"Current Economic Situation and Outlook\\r?\\n(.*?)\\r?\\nMonetary Policy\",\n",
    "    \"Turning to monetary policy\" + r\"(.*?)\" + \"Thank you\"\n",
    "]\n",
    "article15_text = process_article(15, \"monetarypolicy\", \"publications\", \"testimony\", patterns_15)\n",
    "#print(article15_text)"
   ]
  },
  {
   "cell_type": "code",
   "execution_count": 287,
   "metadata": {
    "scrolled": true
   },
   "outputs": [],
   "source": [
    "# Article 16 [Yellen, Jun 2016] \n",
    "\n",
    "patterns_16 = [\n",
    "    \"Since my last appearance\" + r\"(.*?)\" + \"In addition, as\",\n",
    "    \"including for African Americans and Hispanics.\" + r\"(.*?)\" + \"Monetary Policy\",\n",
    "    \"I will turn next to monetary policy.\" + r\"(.*?)\" + \"Thank you.\"\n",
    "]\n",
    "article16_text = process_article(16, \"monetarypolicy\", \"publications\", \"testimony\", patterns_16)\n",
    "#print(article16_text)"
   ]
  },
  {
   "cell_type": "code",
   "execution_count": 288,
   "metadata": {
    "scrolled": true
   },
   "outputs": [],
   "source": [
    "# Article 17 [Yellen, Feb 2015] \n",
    "\n",
    "patterns_17 = [\n",
    "    \"Since my appearance\" + r\"(.*?)\" + \"Monetary Policy\",\n",
    "    \"I will now turn to monetary policy.\" + r\"(.*?)\" + \"Policy Normalization\",\n",
    "    \"Let me now\" + r\"(.*?)\" + \"Summary\",\n",
    "    \", there has been important\" + r\"(.*?)\" + \"Thank you\"\n",
    "]\n",
    "article17_text = process_article(17, \"monetarypolicy\", \"publications\", \"testimony\", patterns_17)\n",
    "#print(article17_text)"
   ]
  },
  {
   "cell_type": "code",
   "execution_count": 289,
   "metadata": {
    "scrolled": true
   },
   "outputs": [],
   "source": [
    "# Article 18 [Yellen, Jul 2015] \n",
    "\n",
    "patterns_18 = [\n",
    "    \"Since my appearance\" + r\"(.*?)\" + \"Monetary Policy\",\n",
    "    \"Regarding monetary policy,\" + r\"(.*?)\" + \"Federal Reserve Transparency and Accountability\",\n",
    "    \"These statements pertaining to policy normalization\" + r\"(.*?)\" + \"Summary\",\n",
    "    \", we have seen,\" + r\"(.*?)\" + \"Thank you\"\n",
    "]\n",
    "article18_text = process_article(18, \"monetarypolicy\", \"publications\", \"testimony\", patterns_18)\n",
    "#print(article18_text)"
   ]
  },
  {
   "cell_type": "code",
   "execution_count": 290,
   "metadata": {
    "scrolled": true
   },
   "outputs": [],
   "source": [
    "# Article 19 [Yellen, Feb 2014] \n",
    "\n",
    "patterns_19 = [\n",
    "    \"The economic\" + r\"(.*?)\" + \"since the previous\",\n",
    "    \"last July,\" + r\"(.*?)\" + \"Monetary Policy\",\n",
    "    \"Turning to monetary policy,\" + r\"(.*?)\" + \"Strengthening the Financial System\",\n",
    "    \"I will finish with an update\" + r\"(.*?)\" + \"Thank you\"\n",
    "]\n",
    "article19_text = process_article(19, \"monetarypolicy\", \"publications\", \"testimony\", patterns_19)\n",
    "#print(article19_text)"
   ]
  },
  {
   "cell_type": "code",
   "execution_count": 291,
   "metadata": {
    "scrolled": true
   },
   "outputs": [],
   "source": [
    "# Article 20 [Yellen, Jul 2014] \n",
    "\n",
    "patterns_20 = [\n",
    "    \"The economy is continuing\" + r\"(.*?)\" + \"Monetary Policy\",\n",
    "    \"I will now turn to monetary policy.\" + r\"(.*?)\" + \"Financial Stability\",\n",
    "    \"The Committee recognizes\" + r\"(.*?)\" + \"Summary\",\n",
    "    \"strengthening the financial system.\" + r\"(.*?)\" + \"Thank you\"\n",
    "]\n",
    "article20_text = process_article(20, \"monetarypolicy\", \"publications\", \"testimony\", patterns_20)\n",
    "#print(article20_text)"
   ]
  },
  {
   "cell_type": "code",
   "execution_count": 292,
   "metadata": {
    "scrolled": true
   },
   "outputs": [],
   "source": [
    "# Article 21 [Bernanke, Feb 2013] \n",
    "\n",
    "patterns_21 = [\n",
    "    \"Since I last reported\" + r\"(.*?)\" + \"Monetary Policy\",\n",
    "    \"With unemployment well\" + r\"(.*?)\" + \"Thoughts on Fiscal Policy\",\n",
    "]\n",
    "article21_text = process_article(21, \"monetarypolicy\", \"publications\", \"testimony\", patterns_21)\n",
    "#print(article21_text)"
   ]
  },
  {
   "cell_type": "code",
   "execution_count": 293,
   "metadata": {
    "scrolled": true
   },
   "outputs": [],
   "source": [
    "# Article 22 [Bernanke, Jul 2013] \n",
    "\n",
    "patterns_22 = [\n",
    "    \"The economic recovery\" + r\"(.*?)\" + \"Monetary Policy\",\n",
    "    \"With unemployment still\" + r\"(.*?)\" + \"Regulatory Reform\",\n",
    "    \"I will finish by\" + r\"(.*?)\" + \"Thank you\"\n",
    "]\n",
    "article22_text = process_article(22, \"monetarypolicy\", \"publications\", \"testimony\", patterns_22)\n",
    "#print(article22_text)"
   ]
  },
  {
   "cell_type": "code",
   "execution_count": 294,
   "metadata": {
    "scrolled": true
   },
   "outputs": [],
   "source": [
    "# Article 23 [Bernanke, Feb 2012] \n",
    "\n",
    "patterns_23 = [\n",
    "    \"The recovery of the U.S.\" + r\"(.*?)\" + \"Monetary Policy\",\n",
    "    \"Against this\" + r\"(.*?)\" + \"Thank you\"\n",
    "    ]\n",
    "article23_text = process_article(23, \"monetarypolicy\", \"publications\", \"testimony\", patterns_23)\n",
    "#print(article23_text)"
   ]
  },
  {
   "cell_type": "code",
   "execution_count": 295,
   "metadata": {
    "scrolled": true
   },
   "outputs": [],
   "source": [
    "# Article 24 [Bernanke, Jul 2012] \n",
    "\n",
    "patterns_24 = [\n",
    "    \"The U.S. economy\" + r\"(.*?)\" + \"Risks to the Outlook\",\n",
    "    \"Participants at the\" + r\"(.*?)\" + \"Monetary Policy\",\n",
    "    \"In view of the\" + r\"(.*?)\" + \"Thank you\"\n",
    "    ]\n",
    "article24_text = process_article(24, \"monetarypolicy\", \"publications\", \"testimony\", patterns_24)\n",
    "#print(article24_text)"
   ]
  },
  {
   "cell_type": "code",
   "execution_count": 296,
   "metadata": {
    "scrolled": true
   },
   "outputs": [],
   "source": [
    "# Article 25 [Bernanke, Mar 2011] \n",
    "\n",
    "patterns_25 = [\n",
    "    \"Following the\" + r\"(.*?)\" + \"Monetary Policy\",\n",
    "    \"As I noted earlier,\" + r\"(.*?)\" + \"Federal Reserve Transparency\",\n",
    "    \"The Congress established\" + r\"(.*?)\" + \"Thank you\"\n",
    "    ]\n",
    "article25_text = process_article(25, \"monetarypolicy\", \"publications\", \"testimony\", patterns_25)\n",
    "#print(article25_text)"
   ]
  },
  {
   "cell_type": "code",
   "execution_count": 297,
   "metadata": {
    "scrolled": true
   },
   "outputs": [],
   "source": [
    "# Article 26 [Bernanke, Jul 2011] \n",
    "\n",
    "patterns_26 = [\n",
    "    \"The U.S. economy\" + r\"(.*?)\" + \"Monetary Policy\",\n",
    "    \"FOMC members' judgments\" + r\"(.*?)\" + \"Thank you\"\n",
    "    ]\n",
    "article26_text = process_article(26, \"monetarypolicy\", \"publications\", \"testimony\", patterns_26)\n",
    "#print(article26_text)"
   ]
  },
  {
   "cell_type": "code",
   "execution_count": 298,
   "metadata": {},
   "outputs": [],
   "source": [
    "# Article 27 [Bernanke, Feb 2010] \n",
    "\n",
    "patterns_27 = [\n",
    "    \"Although the\" + r\"(.*?)\" + \"Monetary Policy\",\n",
    "    \"Over the past year,\" + r\"(.*?)\" + \"Federal Reserve Transparency\",\n",
    "    \"The Federal Reserve is committed\" + r\"(.*?)\" + \"Regulatory Reform\",\n",
    "    \"Strengthening our financial\" + r\"(.*?)\" + \"financial regulatory framework.\"\n",
    "    ]\n",
    "article27_text = process_article(27, \"monetarypolicy\", \"publications\", \"testimony\", patterns_27)\n",
    "#print(article27_text)"
   ]
  },
  {
   "cell_type": "code",
   "execution_count": 299,
   "metadata": {},
   "outputs": [],
   "source": [
    "# Article 28 [Bernanke, Jul 2010] \n",
    "\n",
    "patterns_28 = [\n",
    "    \"The economic\" + r\"(.*?)\" + \"Federal Reserve Policy\",\n",
    "    \"The Federal Reserve's\" + r\"(.*?)\" + \"Financial Reform Legislation\",\n",
    "    \"Last week,\" + r\"(.*?)\" + \"Thank you\"\n",
    "    ]\n",
    "article28_text = process_article(28, \"monetarypolicy\", \"publications\", \"testimony\", patterns_28)\n",
    "#print(article28_text)"
   ]
  },
  {
   "cell_type": "code",
   "execution_count": 300,
   "metadata": {},
   "outputs": [],
   "source": [
    "# Article 29 [Bernanke, Feb 2009] \n",
    "\n",
    "patterns_29 = [\n",
    "    \"As you are aware,\" + r\"(.*?)\" + \"Federal Reserve Transparency\",\n",
    "    \"The Federal Reserve is committed\" + r\"(.*?)\" + \"The Economic Outlook and the FOMC's Quarterly Projections\",\n",
    "    \"In their economic\" + r\"(.*?)\" + \"and price stability.\"\n",
    "    ]\n",
    "article29_text = process_article(29, \"monetarypolicy\", \"publications\", \"testimony\", patterns_29)\n",
    "#print(article29_text)"
   ]
  },
  {
   "cell_type": "code",
   "execution_count": 301,
   "metadata": {},
   "outputs": [],
   "source": [
    "# Article 30 [Bernanke, Jul 2009] \n",
    "\n",
    "patterns_30 = [\n",
    "    \"Aggressive policy actions\" + r\"(.*?)\" + \"the next two years.\",\n",
    "    \"In light of the\" + r\"(.*?)\" + \"and price stability.\",\n",
    "    \"Our economy and\" + r\"(.*?)\" + \"nor durable economic growth.\",\n",
    "    \"The Congress and the American\" + r\"(.*?)\" + \"monetary policy independence.\"\n",
    "    ]\n",
    "article30_text = process_article(30, \"monetarypolicy\", \"publications\", \"testimony\", patterns_30)\n",
    "#print(article30_text)"
   ]
  },
  {
   "cell_type": "code",
   "execution_count": 302,
   "metadata": {},
   "outputs": [],
   "source": [
    "# Article 31 [Bernanke, Feb 2008] \n",
    "\n",
    "patterns_31 = [\n",
    "    \"in their financial dealings.\" + r\"(.*?)\" + \"Thank you.\"\n",
    "    ]\n",
    "article31_text = process_article(31, \"monetarypolicy\", \"publications\", \"testimony\", patterns_31)\n",
    "#print(article31_text)"
   ]
  },
  {
   "cell_type": "code",
   "execution_count": 303,
   "metadata": {},
   "outputs": [],
   "source": [
    "# Article 32 [Bernanke, Jul 2008] \n",
    "\n",
    "patterns_32 = [\n",
    "    \"The U.S. economy\" + r\"(.*?)\" + \"Thank you.\"\n",
    "    ]\n",
    "article32_text = process_article(32, \"monetarypolicy\", \"publications\", \"testimony\", patterns_32)\n",
    "#print(article32_text)"
   ]
  },
  {
   "cell_type": "code",
   "execution_count": 304,
   "metadata": {},
   "outputs": [],
   "source": [
    "# Article 33 [Bernanke, Feb 2007] \n",
    "\n",
    "patterns_33 = [\n",
    "     \"Real activity\" + r\"(.*?)\" + \"Thank you.\"\n",
    "    ]\n",
    "article33_text = process_article(33, \"monetarypolicy\", \"publications\", \"testimony\", patterns_33)\n",
    "#print(article33_text)"
   ]
  },
  {
   "cell_type": "code",
   "execution_count": 305,
   "metadata": {},
   "outputs": [],
   "source": [
    "# Article 34 [Bernanke, Jul 2007] \n",
    "\n",
    "patterns_34 = [\n",
    "      \" As you know,\" + r\"(.*?)\" + \"on these important issues.\"\n",
    "    ]\n",
    "article34_text = process_article(34, \"monetarypolicy\", \"publications\", \"testimony\", patterns_34)\n",
    "#print(article34_text)"
   ]
  },
  {
   "cell_type": "code",
   "execution_count": 306,
   "metadata": {},
   "outputs": [],
   "source": [
    "# Article 35 [Bernanke, Feb 2006] \n",
    "\n",
    "patterns_35 = [\n",
    "      \"the Congress has charged the Federal Reserve System.\" + r\"(.*?)\" + \"in the years to come.\"\n",
    "    ]\n",
    "article35_text = process_article(35, \"monetarypolicy\", \"publications\", \"testimony\", patterns_35)\n",
    "#print(article35_text)"
   ]
  },
  {
   "cell_type": "code",
   "execution_count": 307,
   "metadata": {},
   "outputs": [],
   "source": [
    "# Article 36 [Bernanke, Jul 2006] \n",
    "\n",
    "patterns_36 = [\n",
    "      \"Over the period\" + r\"(.*?)\" + \"Thank you.\"\n",
    "    ]\n",
    "article36_text = process_article(36, \"monetarypolicy\", \"publications\", \"testimony\", patterns_36)\n",
    "#print(article36_text)"
   ]
  },
  {
   "cell_type": "code",
   "execution_count": 308,
   "metadata": {},
   "outputs": [],
   "source": [
    "# Article 37 [Greenspan, Feb 2005] \n",
    "\n",
    "patterns_37 = [\n",
    "      \"Over the first half of 2004,\" + r\"(.*?)\" + \"of our nation and its people.\"\n",
    "    ]\n",
    "article37_text = process_article(37, \"monetarypolicy\", \"publications\", \"testimony\", patterns_37)\n",
    "#print(article37_text)"
   ]
  },
  {
   "cell_type": "code",
   "execution_count": 309,
   "metadata": {},
   "outputs": [],
   "source": [
    "# Article 38 [Greenspan, Jul 2005] \n",
    "\n",
    "patterns_38 = [\n",
    "      \"In mid-February,\" + r\"(.*?)\" + \"to maintain price stability.\"\n",
    "    ]\n",
    "article38_text = process_article(38, \"monetarypolicy\", \"publications\", \"testimony\", patterns_38)\n",
    "#print(article38_text)"
   ]
  },
  {
   "cell_type": "code",
   "execution_count": 310,
   "metadata": {},
   "outputs": [],
   "source": [
    "# Article 39 [Greenspan, Feb 2004] \n",
    "\n",
    "patterns_39 = [\n",
    "      \"When I testified before this committee in July,\" + r\"(.*?)\" + \"export market more receptive.\",\n",
    "        \"Although the prospects\" + r\"(.*?)\" + \"be thwarted and reversed.\",\n",
    "        \"In summary,\" + r\"(.*?)\" + \"of effective price stability.\"  \n",
    "    ]\n",
    "article39_text = process_article(39, \"monetarypolicy\", \"publications\", \"testimony\", patterns_39)\n",
    "#print(article39_text)"
   ]
  },
  {
   "cell_type": "code",
   "execution_count": 311,
   "metadata": {},
   "outputs": [],
   "source": [
    "# Article 40 [Greenspan, Jul 2004] \n",
    "\n",
    "patterns_40 = [\n",
    "      \"Economic developments\" + r\"(.*?)\" + \"nation's continuing prosperity.\"  \n",
    "    ]\n",
    "article40_text = process_article(40, \"monetarypolicy\", \"publications\", \"testimony\", patterns_40)\n",
    "#print(article40_text)"
   ]
  },
  {
   "cell_type": "code",
   "execution_count": 312,
   "metadata": {},
   "outputs": [],
   "source": [
    "# Article 41 [Greenspan, Feb 2003] \n",
    "\n",
    "patterns_41 = [\n",
    "      \"When I testified\" + r\"(.*?)\" + \"my colleagues at the Federal Reserve.\",\n",
    "    \"One notable feature\" + r\"(.*?)\" + \"the consumption of workers.\",\n",
    "    \"These are challenging\" + r\"(.*?)\" + \"of all our citizens.\"\n",
    "    ]\n",
    "article41_text = process_article(41, \"monetarypolicy\", \"publications\", \"testimony\", patterns_41)\n",
    "#print(article41_text)"
   ]
  },
  {
   "cell_type": "code",
   "execution_count": 313,
   "metadata": {},
   "outputs": [],
   "source": [
    "# Article 42 [Greenspan, Apr 2003] \n",
    "\n",
    "patterns_42 = [\n",
    "    \"At that time,\" + r\"(.*?)\" + \"it meets in six days.\"\n",
    "    ]\n",
    "article42_text = process_article(42, \"monetarypolicy\", \"publications\", \"testimony\", patterns_42)\n",
    "#print(article42_text)"
   ]
  },
  {
   "cell_type": "code",
   "execution_count": 314,
   "metadata": {},
   "outputs": [],
   "source": [
    "# Article 43 [Greenspan, Jul 2003] \n",
    "\n",
    "patterns_43 = [\n",
    "    \"When in late April\" + r\"(.*?)\" + \"stoking inflationary pressures.\",\n",
    "    \"The prospects for a\" + r\"(.*?)\" + \"new motor vehicles.\",\n",
    "     \"In addition to balance\" + r\"(.*?)\" + \"in the current environment.\",\n",
    "    \"Much like households,\" + r\"(.*?)\" + \"the civilian labor force.\",\n",
    "    \"Although forward-looking\" + r\"(.*?)\" + \"remains a concern.\",\n",
    "    \"Inflation developments have\" + r\"(.*?)\" + \"satisfactory economic performance.\"\n",
    "    ]\n",
    "article43_text = process_article(43, \"monetarypolicy\", \"publications\", \"testimony\", patterns_43)\n",
    "#print(article43_text)"
   ]
  },
  {
   "cell_type": "code",
   "execution_count": 315,
   "metadata": {},
   "outputs": [],
   "source": [
    "# Article 44 [Greenspan, Feb 2002]\n",
    "\n",
    "patterns_44 = [\n",
    "    \"Since July, when I\" + r\"(.*?)\" + \"goods across our nation.\",\n",
    "    \"Both deregulation and\" + r\"(.*?)\" + \"reason for encouragement.\"\n",
    "    ]\n",
    "article44_text = process_article(44, \"monetarypolicy\", \"publications\", \"testimony\", patterns_44)\n",
    "#print(article44_text)"
   ]
  },
  {
   "cell_type": "code",
   "execution_count": 316,
   "metadata": {},
   "outputs": [],
   "source": [
    "# Article 45 [Greenspan, Feb 2002] \n",
    "\n",
    "patterns_45 = [\n",
    "    \"Over the four and\" + r\"(.*?)\" + \"achieve its full potential.\",\n",
    "    \"A considerable volume\" + r\"(.*?)\" + \", and trade policies.\"\n",
    "    ]\n",
    "article45_text = process_article(45, \"monetarypolicy\", \"publications\", \"testimony\", patterns_45)\n",
    "#print(article45_text)"
   ]
  },
  {
   "cell_type": "code",
   "execution_count": 317,
   "metadata": {},
   "outputs": [],
   "source": [
    "# Article 46 [Greenspan, Feb 2001]\n",
    "\n",
    "patterns_46 = [\n",
    "    \"The past decade\" + r\"(.*?)\" + \"adjustment of its policy.\"\n",
    "    ]\n",
    "article46_text = process_article(46, \"monetarypolicy\", \"publications\", \"testimony\", patterns_46)\n",
    "#print(article46_text)"
   ]
  },
  {
   "cell_type": "code",
   "execution_count": 318,
   "metadata": {},
   "outputs": [],
   "source": [
    "# Article 47 [Greenspan, Jul 2001]\n",
    "\n",
    "patterns_47 = [\n",
    "    \"Monetary policy this\" + r\"(.*?)\" + \"that benefits us all.\"\n",
    "    ]\n",
    "article47_text = process_article(47, \"monetarypolicy\", \"publications\", \"testimony\", patterns_47)\n",
    "#print(article47_text)"
   ]
  },
  {
   "cell_type": "code",
   "execution_count": 319,
   "metadata": {},
   "outputs": [],
   "source": [
    "# Article 48 [Greenspan, Feb 2000]\n",
    "\n",
    "patterns_48 = [\n",
    "    \"There is little evidence\" + r\"(.*?)\" + \"economic weakness.\",\n",
    "    \"Underlying this performance,\" + r\"(.*?)\" + \"economy in the process.\",\n",
    "    \"On a broader front,\" + r\"(.*?)\" + \"later in this testimony.\",\n",
    "     \"On a broader front,\" + r\"(.*?)\" + \"later in this testimony.\",\n",
    "    \"Although the outlook\" + r\"(.*?)\" + \"the evolving technologies.\",\n",
    "     \"Before closing, I\" + r\"(.*?)\" + \"for economic performance.\",\n",
    "    \"As the U.S. economy enters\" + r\"(.*?)\" + \"into the new millennium.\"    \n",
    "    ]\n",
    "article48_text = process_article(48, \"monetarypolicy\", \"publications\", \"testimony\", patterns_48)\n",
    "#print(article48_text)"
   ]
  },
  {
   "cell_type": "code",
   "execution_count": 320,
   "metadata": {},
   "outputs": [],
   "source": [
    "# Article 49 [Greenspan, Jul 2000]\n",
    "\n",
    "patterns_49 = [\n",
    "    \"The Federal Reserve has been\" + r\"(.*?)\" + \"the average of recent years.\",\n",
    "    \"The last decade has been\" + r\"(.*?)\" + \"in pursuit of that goal.\"\n",
    "    ]\n",
    "article49_text = process_article(49, \"monetarypolicy\", \"publications\", \"testimony\", patterns_49)\n",
    "#print(article49_text)"
   ]
  },
  {
   "cell_type": "code",
   "execution_count": 321,
   "metadata": {},
   "outputs": [],
   "source": [
    "# Article 50 [Greenspan, Feb 1999]\n",
    "\n",
    "patterns_50 = [\n",
    "    \"The U.S. economy\" + r\"(.*?)\" + \"the economic expansion.\",\n",
    "    \"A hallmark of our\" + r\"(.*?)\" + \"been significantly reduced.\",\n",
    "    \"These recent domestic\" + r\"(.*?)\" + \"will begin to accelerate.\",\n",
    "    \"At its February meeting,\" + r\"(.*?)\" + \"nominal GDP growth.\",\n",
    "    \"The FOMC at recent\" + r\"(.*?)\" + \"for monetary policy.\",\n",
    "     \"Before closing,\" + r\"(.*?)\" + \"planning efforts.\",\n",
    "    \"Americans can justifiably\" + r\"(.*?)\" + \"progress over time.\"\n",
    "    ]\n",
    "article50_text = process_article(50, \"monetarypolicy\", \"publications\", \"testimony\", patterns_50)\n",
    "#print(article50_text)"
   ]
  },
  {
   "cell_type": "code",
   "execution_count": 322,
   "metadata": {},
   "outputs": [],
   "source": [
    "# Article 51 [Greenspan, Jul 1999]\n",
    "\n",
    "patterns_51 = [\n",
    "    \"To date,\" + r\"(.*?)\" + \"made can be sustained.\",\n",
    "    \"A number of important\" + r\"(.*?)\" + \"enhanced incentives to spend.\"\n",
    "    \"Even if labor\" + r\"(.*?)\" + \"domestic saving rebounds.\",\n",
    "    \"Going forward,\" + r\"(.*?)\" + \"is 2 to 2-1/2 percent.\",\n",
    "    \"In its deliberations this year\" + r\"(.*?)\" + \"transition to the next expansion.\",\n",
    "    \"I would be remiss\" + r\"(.*?)\" + \"formal enforcement actions.\",\n",
    "    \"As a result of our\" + r\"(.*?)\" + \"continuing its remarkable progress.\"\n",
    "    ]\n",
    "article51_text = process_article(51, \"monetarypolicy\", \"publications\", \"testimony\", patterns_51)\n",
    "#print(article51_text)"
   ]
  },
  {
   "cell_type": "code",
   "execution_count": 323,
   "metadata": {},
   "outputs": [],
   "source": [
    "# Article 52 [Greenspan, Feb 1998]\n",
    "\n",
    "patterns_52 = [\n",
    "    \"The U.S. economy delivered\" + r\"(.*?)\" + \"outlook for 1998 shortly.\",\n",
    "    \"History teaches us that\" + r\"(.*?)\" + \"impetus to domestic spending.\",\n",
    "    \"There can be no doubt\" + r\"(.*?)\" + \"the line on inflation.\",\n",
    "    \"The FOMC affirmed the\" + r\"(.*?)\" + \"determining its policy stance.\",\n",
    "     \"With the current situation\" + r\"(.*?)\" + \"to those that occur.\"\n",
    "    ]\n",
    "article52_text = process_article(52, \"monetarypolicy\", \"publications\", \"testimony\", patterns_52)\n",
    "#print(article52_text)"
   ]
  },
  {
   "cell_type": "markdown",
   "metadata": {},
   "source": [
    "#### 1.4 Create Dataframe"
   ]
  },
  {
   "cell_type": "code",
   "execution_count": 324,
   "metadata": {},
   "outputs": [],
   "source": [
    "import pandas as pd"
   ]
  },
  {
   "cell_type": "code",
   "execution_count": 334,
   "metadata": {},
   "outputs": [],
   "source": [
    "# List of indicies in list\n",
    "common_texts = [0, 1, 2, 3, 4, 5, 6, 7, 9, 11, 12, 13, 14]\n",
    "\n",
    "# List to store the article texts for specified indices\n",
    "FED_text_df = [article_texts[f\"article{index}_text\"] for index in common_texts]\n",
    "\n",
    "# Include specific articles saved under different variable names\n",
    "FED_text_df.extend([article8_text, article10_text])\n",
    "\n",
    "# Include remaining articles from 15 to 52\n",
    "for index in range(15, 53):\n",
    "    FED_text_df.append(article_texts.get(f\"article{index}_text\", globals().get(f\"article{index}_text\")))"
   ]
  },
  {
   "cell_type": "code",
   "execution_count": 335,
   "metadata": {},
   "outputs": [],
   "source": [
    "# Date-based dataframe\n",
    "# We could not avoid to imports dates manually, since publication months were seldom differing from the average and hence, the function [f\"{str(month).zfill(2)}/2001\" for month in range(1, 54)] would have been imprecise\n",
    "\n",
    "FED_date_df = [\n",
    "    \"03/2024\", \"03/2023\", \"06/2023\", \"02/2022\", \"06/2022\", \"02/2021\", \"07/2021\", \"02/2020\", \n",
    "    \"06/2020\", \"02/2019\", \"07/2019\", \"02/2018\", \"07/2018\", \"02/2017\", \"07/2017\", \"02/2016\", \n",
    "    \"06/2016\", \"02/2015\", \"07/2015\", \"02/2014\", \"07/2014\", \"02/2013\", \"07/2013\", \"02/2012\", \n",
    "    \"07/2012\", \"03/2011\", \"07/2011\", \"02/2010\", \"07/2010\", \"02/2009\", \"07/2009\", \"02/2008\", \n",
    "    \"07/2008\", \"02/2007\", \"07/2007\", \"02/2006\", \"07/2006\", \"02/2005\", \"07/2005\", \"02/2004\", \n",
    "    \"07/2004\", \"02/2003\", \"04/2003\", \"07/2003\", \"02/2002\", \"07/2002\", \"02/2001\", \"07/2001\", \n",
    "    \"02/2000\", \"07/2000\", \"02/1999\", \"07/1999\", \"07/1998\"\n",
    "]"
   ]
  },
  {
   "cell_type": "code",
   "execution_count": 339,
   "metadata": {},
   "outputs": [
    {
     "name": "stdout",
     "output_type": "stream",
     "text": [
      "['Powell', 'Powell', 'Powell', 'Powell', 'Powell', 'Powell', 'Powell', 'Powell', 'Powell', 'Powell', 'Powell', 'Powell', 'Powell', 'Yellen', 'Yellen', 'Yellen', 'Yellen', 'Yellen', 'Yellen', 'Yellen', 'Yellen', 'Bernanke', 'Bernanke', 'Bernanke', 'Bernanke', 'Bernanke', 'Bernanke', 'Bernanke', 'Bernanke', 'Bernanke', 'Bernanke', 'Bernanke', 'Bernanke', 'Bernanke', 'Bernanke', 'Greenspan', 'Greenspan', 'Greenspan', 'Greenspan', 'Greenspan', 'Greenspan', 'Greenspan', 'Greenspan', 'Greenspan', 'Greenspan', 'Greenspan', 'Greenspan', 'Greenspan', 'Greenspan', 'Greenspan', 'Greenspan', 'Greenspan', 'Greenspan']\n"
     ]
    }
   ],
   "source": [
    "# Chairman-based dataframe\n",
    "FED_chairman_df = (\n",
    "    [\"Powell\"] * 13 +\n",
    "    [\"Yellen\"] * 8 +\n",
    "    [\"Bernanke\"] * 14 +\n",
    "    [\"Greenspan\"] * 18\n",
    ")\n",
    "\n",
    "# Check\n",
    "print(FED_chairman_df)"
   ]
  },
  {
   "cell_type": "code",
   "execution_count": 340,
   "metadata": {},
   "outputs": [],
   "source": [
    "# Final conglomerate data merging \n",
    "FED_data_df = {\"text\": FED_text_df, \n",
    "        \"date\": FED_date_df, \n",
    "        \"chairman\": FED_chairman_df}\n",
    "\n",
    "# Convert to pandas dataframe\n",
    "df_raw = pd.DataFrame(FED_data_df)\n",
    "\n",
    "# Convert Date column to datetime\n",
    "df_raw[\"date\"] = pd.to_datetime(df_raw[\"date\"], format=\"%m/%Y\")\n",
    "\n",
    "# Sort the DataFrame by publication Date\n",
    "df_raw = df_raw.sort_values(by=\"date\")\n",
    "\n",
    "# Set the Date column as the index\n",
    "df_raw = df_raw.set_index(\"date\")"
   ]
  },
  {
   "cell_type": "code",
   "execution_count": 342,
   "metadata": {},
   "outputs": [
    {
     "data": {
      "text/html": [
       "<div>\n",
       "<style scoped>\n",
       "    .dataframe tbody tr th:only-of-type {\n",
       "        vertical-align: middle;\n",
       "    }\n",
       "\n",
       "    .dataframe tbody tr th {\n",
       "        vertical-align: top;\n",
       "    }\n",
       "\n",
       "    .dataframe thead th {\n",
       "        text-align: right;\n",
       "    }\n",
       "</style>\n",
       "<table border=\"1\" class=\"dataframe\">\n",
       "  <thead>\n",
       "    <tr style=\"text-align: right;\">\n",
       "      <th></th>\n",
       "      <th>text</th>\n",
       "      <th>chairman</th>\n",
       "    </tr>\n",
       "    <tr>\n",
       "      <th>date</th>\n",
       "      <th></th>\n",
       "      <th></th>\n",
       "    </tr>\n",
       "  </thead>\n",
       "  <tbody>\n",
       "    <tr>\n",
       "      <th>2022-02-01</th>\n",
       "      <td>Economic activity expanded at a robust 5 1/2 p...</td>\n",
       "      <td>Powell</td>\n",
       "    </tr>\n",
       "    <tr>\n",
       "      <th>2022-06-01</th>\n",
       "      <td>Inflation remains well above our longer-run go...</td>\n",
       "      <td>Powell</td>\n",
       "    </tr>\n",
       "    <tr>\n",
       "      <th>2023-03-01</th>\n",
       "      <td>The data from January on employment, consumer ...</td>\n",
       "      <td>Powell</td>\n",
       "    </tr>\n",
       "    <tr>\n",
       "      <th>2023-06-01</th>\n",
       "      <td>The U.S. economy slowed significantly last yea...</td>\n",
       "      <td>Powell</td>\n",
       "    </tr>\n",
       "    <tr>\n",
       "      <th>2024-03-01</th>\n",
       "      <td>Economic activity expanded at a strong pace ov...</td>\n",
       "      <td>Powell</td>\n",
       "    </tr>\n",
       "  </tbody>\n",
       "</table>\n",
       "</div>"
      ],
      "text/plain": [
       "                                                         text chairman\n",
       "date                                                                  \n",
       "2022-02-01  Economic activity expanded at a robust 5 1/2 p...   Powell\n",
       "2022-06-01  Inflation remains well above our longer-run go...   Powell\n",
       "2023-03-01  The data from January on employment, consumer ...   Powell\n",
       "2023-06-01  The U.S. economy slowed significantly last yea...   Powell\n",
       "2024-03-01  Economic activity expanded at a strong pace ov...   Powell"
      ]
     },
     "execution_count": 342,
     "metadata": {},
     "output_type": "execute_result"
    }
   ],
   "source": [
    "df_raw.tail()"
   ]
  },
  {
   "cell_type": "markdown",
   "metadata": {},
   "source": [
    "### **2. PRELIMINARY ANALYSIS TEXTUAL DATA**"
   ]
  },
  {
   "cell_type": "code",
   "execution_count": 293,
   "metadata": {},
   "outputs": [],
   "source": [
    "# Update the markdown code below once you add all the textual analysis variables (the ones in the thesis file and any other you think of!)\n",
    "# Describe the dictionary used for stopwords etc and each line of code - the more comments the better "
   ]
  },
  {
   "cell_type": "markdown",
   "metadata": {},
   "source": [
    "This section focuses on creating new variables to analyse the textual data from the Federal Reserve (FED). Specifically, it calculates:\n",
    "\n",
    "**1. Word Count**: Total number of words per statement.\n",
    "\n",
    "**2. Sentence Count**: Total number of sentences per statement.\n",
    "\n",
    "**3. Average Words per Sentence**: Average number of words per sentence.\n",
    "\n",
    "**X. Ratio of Complex Words**: Share of complex words (words with three or more syllables) to the total word count.\n",
    "\n",
    "**X. Ratio of Stop Words**: Proportion of stop words (common words like \"and\", \"the\", \"is\", etc.) to the total word count.\n",
    "\n",
    "---\n",
    "\n",
    "After computing these variables, the data are summarised using descriptive statistics tables and visually. This exploratory analysis provides insights into the textual characteristics of the FED data before conducting regression analysis.\n"
   ]
  },
  {
   "cell_type": "markdown",
   "metadata": {},
   "source": [
    "#### 3.1 Create Textual Variables "
   ]
  },
  {
   "cell_type": "markdown",
   "metadata": {},
   "source": [
    "##### 3.1.1 Number of Monetary Policy Reports"
   ]
  },
  {
   "cell_type": "code",
   "execution_count": 231,
   "metadata": {},
   "outputs": [
    {
     "data": {
      "text/plain": [
       "53"
      ]
     },
     "execution_count": 231,
     "metadata": {},
     "output_type": "execute_result"
    }
   ],
   "source": [
    "len(df_raw['text'])"
   ]
  },
  {
   "cell_type": "markdown",
   "metadata": {},
   "source": [
    "##### 3.1.2 Word Count for Each Statement"
   ]
  },
  {
   "cell_type": "code",
   "execution_count": 344,
   "metadata": {},
   "outputs": [
    {
     "data": {
      "text/plain": [
       "date\n",
       "2022-02-01    759\n",
       "2022-06-01    823\n",
       "2023-03-01    860\n",
       "2023-06-01    841\n",
       "2024-03-01    586\n",
       "Name: word_count, dtype: int64"
      ]
     },
     "execution_count": 344,
     "metadata": {},
     "output_type": "execute_result"
    }
   ],
   "source": [
    "# Define a function to calculate word count\n",
    "def word_count(text):\n",
    "    return len(text.split())\n",
    "\n",
    "# Apply the function to each row of the 'text' column\n",
    "df_raw['word_count'] = df_raw['text'].apply(word_count)\n",
    "\n",
    "# Display the DataFrame with word counts\n",
    "df_raw['word_count'].tail(5)"
   ]
  },
  {
   "cell_type": "markdown",
   "metadata": {},
   "source": [
    "##### 3.1.3 Sentence Count for Each Statement"
   ]
  },
  {
   "cell_type": "code",
   "execution_count": 345,
   "metadata": {},
   "outputs": [
    {
     "data": {
      "text/html": [
       "<div>\n",
       "<style scoped>\n",
       "    .dataframe tbody tr th:only-of-type {\n",
       "        vertical-align: middle;\n",
       "    }\n",
       "\n",
       "    .dataframe tbody tr th {\n",
       "        vertical-align: top;\n",
       "    }\n",
       "\n",
       "    .dataframe thead th {\n",
       "        text-align: right;\n",
       "    }\n",
       "</style>\n",
       "<table border=\"1\" class=\"dataframe\">\n",
       "  <thead>\n",
       "    <tr style=\"text-align: right;\">\n",
       "      <th></th>\n",
       "      <th>text</th>\n",
       "      <th>chairman</th>\n",
       "      <th>word_count</th>\n",
       "    </tr>\n",
       "    <tr>\n",
       "      <th>date</th>\n",
       "      <th></th>\n",
       "      <th></th>\n",
       "      <th></th>\n",
       "    </tr>\n",
       "  </thead>\n",
       "  <tbody>\n",
       "    <tr>\n",
       "      <th>1998-07-01</th>\n",
       "      <td>another exemplary\\r\\n          performance in ...</td>\n",
       "      <td>Greenspan</td>\n",
       "      <td>3919</td>\n",
       "    </tr>\n",
       "    <tr>\n",
       "      <th>1999-02-01</th>\n",
       "      <td>over the past year again performed admirably. ...</td>\n",
       "      <td>Greenspan</td>\n",
       "      <td>4577</td>\n",
       "    </tr>\n",
       "    <tr>\n",
       "      <th>1999-07-01</th>\n",
       "      <td>1999 has been an exceptional year for the Amer...</td>\n",
       "      <td>Greenspan</td>\n",
       "      <td>1929</td>\n",
       "    </tr>\n",
       "    <tr>\n",
       "      <th>2000-02-01</th>\n",
       "      <td>that the American economy, which grew more tha...</td>\n",
       "      <td>Greenspan</td>\n",
       "      <td>3768</td>\n",
       "    </tr>\n",
       "    <tr>\n",
       "      <th>2000-07-01</th>\n",
       "      <td>confronting a complex set of challenges in jud...</td>\n",
       "      <td>Greenspan</td>\n",
       "      <td>2773</td>\n",
       "    </tr>\n",
       "  </tbody>\n",
       "</table>\n",
       "</div>"
      ],
      "text/plain": [
       "                                                         text   chairman  \\\n",
       "date                                                                       \n",
       "1998-07-01  another exemplary\\r\\n          performance in ...  Greenspan   \n",
       "1999-02-01  over the past year again performed admirably. ...  Greenspan   \n",
       "1999-07-01  1999 has been an exceptional year for the Amer...  Greenspan   \n",
       "2000-02-01  that the American economy, which grew more tha...  Greenspan   \n",
       "2000-07-01  confronting a complex set of challenges in jud...  Greenspan   \n",
       "\n",
       "            word_count  \n",
       "date                    \n",
       "1998-07-01        3919  \n",
       "1999-02-01        4577  \n",
       "1999-07-01        1929  \n",
       "2000-02-01        3768  \n",
       "2000-07-01        2773  "
      ]
     },
     "execution_count": 345,
     "metadata": {},
     "output_type": "execute_result"
    }
   ],
   "source": [
    "df_raw.head()"
   ]
  },
  {
   "cell_type": "markdown",
   "metadata": {},
   "source": [
    "##### 3.1.X Stop Words in Each Statement"
   ]
  },
  {
   "cell_type": "code",
   "execution_count": null,
   "metadata": {},
   "outputs": [],
   "source": []
  },
  {
   "cell_type": "markdown",
   "metadata": {},
   "source": [
    "##### 3.1.X Other Variables...."
   ]
  },
  {
   "cell_type": "markdown",
   "metadata": {},
   "source": [
    "#### 3.2 Descriptive Statstics "
   ]
  },
  {
   "cell_type": "code",
   "execution_count": null,
   "metadata": {},
   "outputs": [],
   "source": []
  },
  {
   "cell_type": "markdown",
   "metadata": {},
   "source": [
    "#### 3.3 Visualisation of Textual Variables"
   ]
  },
  {
   "cell_type": "code",
   "execution_count": 235,
   "metadata": {},
   "outputs": [],
   "source": [
    "## Create charts - maybe instead of single charts you could find a package which lets you view charts side-by-side? Could make the code look cleaner? \n",
    "# e.g. word count over time, stop word ratio over time etc."
   ]
  },
  {
   "cell_type": "code",
   "execution_count": null,
   "metadata": {},
   "outputs": [],
   "source": []
  },
  {
   "cell_type": "markdown",
   "metadata": {},
   "source": [
    "### **3. PREPARE AND CLEAN TEXTUAL DATA**"
   ]
  },
  {
   "cell_type": "markdown",
   "metadata": {},
   "source": [
    "This section cleans the data so that is ready for analysis. The Monetary Policy Reports are pre-processed by excluding administrative details on the webpage to focus on the core of the text. In addition, several additional steps were undertaken to clean the data prior to estimating the tone of the minutes. This included removing the paragraph headings, converting all letters to lower case letters, excluding punctuation and stopwords, and reducing the words to their stem."
   ]
  },
  {
   "cell_type": "markdown",
   "metadata": {},
   "source": [
    "#### 3.1 Convert Text to Lowercase"
   ]
  },
  {
   "cell_type": "code",
   "execution_count": null,
   "metadata": {},
   "outputs": [],
   "source": []
  },
  {
   "cell_type": "markdown",
   "metadata": {},
   "source": [
    "#### 3.2 Remove Punctuation"
   ]
  },
  {
   "cell_type": "code",
   "execution_count": null,
   "metadata": {},
   "outputs": [],
   "source": []
  },
  {
   "cell_type": "markdown",
   "metadata": {},
   "source": [
    "#### 3.3 Remove Stopwords"
   ]
  },
  {
   "cell_type": "code",
   "execution_count": null,
   "metadata": {},
   "outputs": [],
   "source": []
  },
  {
   "cell_type": "markdown",
   "metadata": {},
   "source": [
    "#### 3.4 Lemmatisation"
   ]
  },
  {
   "cell_type": "code",
   "execution_count": null,
   "metadata": {},
   "outputs": [],
   "source": []
  },
  {
   "cell_type": "markdown",
   "metadata": {},
   "source": [
    "### **4. ANALYSIS CLEANED TEXTUAL DATA**"
   ]
  },
  {
   "cell_type": "code",
   "execution_count": null,
   "metadata": {},
   "outputs": [],
   "source": [
    "# Lina I will let you know once I have cleaned and tokenized the data so you can do this stage."
   ]
  },
  {
   "cell_type": "markdown",
   "metadata": {},
   "source": [
    "#### 4.1 Word Frequencies"
   ]
  },
  {
   "cell_type": "code",
   "execution_count": null,
   "metadata": {},
   "outputs": [],
   "source": [
    "# Inlcude chart of top 20 words and table\n",
    "# Create a wordcloud"
   ]
  },
  {
   "cell_type": "markdown",
   "metadata": {},
   "source": [
    "### **4. CREATE COMMUNICATION VARIABLE**"
   ]
  },
  {
   "cell_type": "markdown",
   "metadata": {},
   "source": [
    "This section converts the qualitative textual data to a quantitative measure. A lexicon-based method is used which relies on a pre-defined list of words called lexicons or dictionaries, each associated with sentiment scores ranging from positive to negative. In particular, the Loughran and McDonald (2011) financial sentiment dictionary is employed in this study as it is the most suitable approach for classifying financial and economic texts.\n",
    "\n",
    "The sentiment score is calculated by subtracting the count of negative words from the count of positive words, and then dividing by the total count of positive and negative words. Mathematically, this is represented as:\n",
    "\n",
    "$$ \\text{Tone} = \\frac{N_{\\text{pos}} - N_{\\text{neg}}}{N_{\\text{pos}} + N_{\\text{neg}}} $$\n",
    "\n",
    "Where:\n",
    "- $N_{\\text{pos}}$ is the number of words in the minutes that are classified as positive according to the Loughran-McDonald sentiment dictionary.\n",
    "- $N_{\\text{neg}}$ is the number of words that are classified as negative.\n",
    "\n",
    "The measure of tone is bounded between [-1:1]. A positive value of the tone measure reflects some optimism in the language used, while a negative value reflects some pessimism.\n",
    "\n",
    "| Scale    | Number of Words | Sample Words                                                                                                               |\n",
    "|----------|------------------|----------------------------------------------------------------------------------------------------------------------------|\n",
    "| Negative | 2,335            | adverse, caution, challenge, collapse, crisis, decline, deteriorate, difficult, diminish, exacerbate, failure, liquidated, loss, negative, punishes, recession, severe, slowdown, stagnate, unemployed |\n",
    "| Positive | 354              | achieve, advantage, attain, boom, constructive, efficient, enhance, favourable, gained, highest, improve, leading, optimistic, positive, profitable, progress, rebound, stabilize, strengthen, strong |\n",
    "\n",
    "*Source: Loughran and McDonald (2011)*"
   ]
  },
  {
   "cell_type": "code",
   "execution_count": null,
   "metadata": {},
   "outputs": [],
   "source": []
  },
  {
   "cell_type": "code",
   "execution_count": null,
   "metadata": {},
   "outputs": [],
   "source": []
  },
  {
   "cell_type": "code",
   "execution_count": null,
   "metadata": {},
   "outputs": [],
   "source": []
  },
  {
   "cell_type": "markdown",
   "metadata": {},
   "source": [
    "### **5. IMPORT MACROECONOMIC DATA**"
   ]
  },
  {
   "cell_type": "markdown",
   "metadata": {},
   "source": [
    "This section imports the macroeconomic variables using an API key from FRED. These data are then converted from a quarterly to a semi-annual basis, consistent with textual data. The inflation and output gaps are next caluclated. The inflation gap is calculated as the absolute difference between contemporaneous inflation and the Fed's 2% longer-run inflation target. The output gap the absolute difference between the logarithmic level of real GDP and its trend value, estimated using the Hodrick-Prescott (HP) filter."
   ]
  },
  {
   "cell_type": "code",
   "execution_count": 16,
   "metadata": {},
   "outputs": [],
   "source": [
    "import pandas as pd\n",
    "import numpy as np\n",
    "import statsmodels.api as sm\n",
    "from pandas_datareader import fred\n",
    "import matplotlib.pyplot as plt"
   ]
  },
  {
   "cell_type": "markdown",
   "metadata": {},
   "source": [
    "#### 5.1 Import Macroeconomic Data"
   ]
  },
  {
   "cell_type": "code",
   "execution_count": 17,
   "metadata": {},
   "outputs": [
    {
     "name": "stdout",
     "output_type": "stream",
     "text": [
      "           DATE      GDPC1  MEDCPIM159SFRBCLE\n",
      "628  2023-12-01        NaN           4.922162\n",
      "629  2024-01-01  22768.866           4.851557\n",
      "630  2024-02-01        NaN           4.578594\n",
      "631  2024-03-01        NaN           4.553789\n",
      "632  2024-04-01        NaN           4.476036\n"
     ]
    }
   ],
   "source": [
    "# Grab data using FredReader\n",
    "data = fred.FredReader(symbols=['GDPC1', #real GDP, $USb, quarterly, SA\n",
    "                                'MEDCPIM159SFRBCLE'], #CPI, yearly change, quarterly, SA\n",
    "                       start='1900-01-01', \n",
    "                       end=None).read()\n",
    "\n",
    "# Save the data to a CSV file\n",
    "data.to_csv('macro_vars.csv')\n",
    "\n",
    "# Read the data back from the CSV file to a DataFrame\n",
    "df_macro_vars = pd.read_csv('macro_vars.csv')\n",
    "\n",
    "# Check data has imported correctly\n",
    "print(df_macro_vars.tail())"
   ]
  },
  {
   "cell_type": "code",
   "execution_count": 18,
   "metadata": {},
   "outputs": [],
   "source": [
    "# Create a list to rename variables\n",
    "new_column_names = ['date', 'GDP', 'CPI']\n",
    "\n",
    "# Rename the columns\n",
    "df_macro_vars = df_macro_vars.rename(columns=dict(zip(df_macro_vars.columns, new_column_names)))"
   ]
  },
  {
   "cell_type": "code",
   "execution_count": 19,
   "metadata": {},
   "outputs": [],
   "source": [
    "# Set date as datetime format and set as index\n",
    "df_macro_vars['date'] = pd.to_datetime(df_macro_vars['date'])\n",
    "df_macro_vars.set_index('date', inplace=True)\n",
    "\n",
    "# Convert data to semi-annual basis, consistent with textual data \n",
    "GDP = df_macro_vars['GDP'].resample('6M').mean()\n",
    "CPI = df_macro_vars['CPI'].resample('6M').mean()\n",
    "\n",
    "# Create new dataframe, with macro data on semi-annual basis\n",
    "df_macro_vars = pd.DataFrame({'GDP': GDP, 'CPI': CPI})\n",
    "\n",
    "# Convert GDP to log level\n",
    "df_macro_vars['GDP'] = np.log(df_macro_vars['GDP'])\n",
    "\n",
    "# Remove final observation as no GDP data \n",
    "df_macro_vars = df_macro_vars[df_macro_vars.index != pd.to_datetime('2024-07-31')]"
   ]
  },
  {
   "cell_type": "code",
   "execution_count": null,
   "metadata": {},
   "outputs": [],
   "source": [
    "df_macro_vars.head()"
   ]
  },
  {
   "cell_type": "markdown",
   "metadata": {},
   "source": [
    "#### 5.2 Create Inflation and Output Gap"
   ]
  },
  {
   "cell_type": "code",
   "execution_count": 20,
   "metadata": {},
   "outputs": [],
   "source": [
    "# Create inflation gap, 2 represents 2% inflation target of the Fed\n",
    "df_macro_vars['CPI_gap'] = df_macro_vars['CPI'] - 2\n",
    "\n",
    "# Apply the HP filter to the 'GDP' column with the adjusted lambda value\n",
    "cycle, trend = sm.tsa.filters.hpfilter(df_macro_vars['GDP'], lamb= 1600)\n",
    "\n",
    "# Calculate the GDP gap\n",
    "df_macro_vars['GDP_gap'] = df_macro_vars['GDP'] - trend"
   ]
  },
  {
   "cell_type": "code",
   "execution_count": 21,
   "metadata": {},
   "outputs": [
    {
     "data": {
      "image/png": "[encoded data removed]",
      "text/plain": [
       "<Figure size 1500x600 with 2 Axes>"
      ]
     },
     "metadata": {},
     "output_type": "display_data"
    }
   ],
   "source": [
    "# Visualise Output Gap\n",
    "plt.figure(figsize=(15, 6))\n",
    "\n",
    "plt.subplot(2, 1, 1)\n",
    "plt.plot(df_macro_vars.index, df_macro_vars['GDP'], label='GDP', color = 'royalblue')\n",
    "plt.plot(df_macro_vars.index, trend, label='Trend', linestyle='--', color='black')\n",
    "plt.title('Real and Trend GDP')\n",
    "plt.legend()\n",
    "\n",
    "plt.subplot(2, 1, 2)\n",
    "plt.plot(df_macro_vars.index, df_macro_vars['GDP_gap'], label='Output Gap', color='royalblue')\n",
    "plt.axhline(0, linestyle='--', color='black')  # Adding zero line for reference\n",
    "plt.title('Output Gap')\n",
    "plt.legend()\n",
    "\n",
    "plt.tight_layout()\n",
    "plt.show()"
   ]
  },
  {
   "cell_type": "markdown",
   "metadata": {},
   "source": [
    "### **6. DESCRIPTIVE STATSTICS**"
   ]
  },
  {
   "cell_type": "markdown",
   "metadata": {},
   "source": [
    "This section provides descriptive statstics for each variable of interest."
   ]
  },
  {
   "cell_type": "markdown",
   "metadata": {},
   "source": [
    "#### 6.1 Summary Table"
   ]
  },
  {
   "cell_type": "code",
   "execution_count": null,
   "metadata": {},
   "outputs": [],
   "source": []
  },
  {
   "cell_type": "markdown",
   "metadata": {},
   "source": [
    "#### 6.2 Density charts "
   ]
  },
  {
   "cell_type": "code",
   "execution_count": null,
   "metadata": {},
   "outputs": [],
   "source": []
  },
  {
   "cell_type": "markdown",
   "metadata": {},
   "source": [
    "#### 6.3 Correlation Analysis"
   ]
  },
  {
   "cell_type": "code",
   "execution_count": null,
   "metadata": {},
   "outputs": [],
   "source": []
  },
  {
   "cell_type": "markdown",
   "metadata": {},
   "source": [
    "#### 6.4 Visualisation of Variables"
   ]
  },
  {
   "cell_type": "code",
   "execution_count": null,
   "metadata": {},
   "outputs": [],
   "source": []
  },
  {
   "cell_type": "markdown",
   "metadata": {},
   "source": [
    "### **7. REGRESSION ANALYSIS**"
   ]
  },
  {
   "cell_type": "markdown",
   "metadata": {},
   "source": [
    "This section presents a more formal analysis of the tone of Fed communication. The objective is to explore the time-varying nature of central bank communication and the role economic conditions play in explaining variations in the tone at the time when communications took place. "
   ]
  },
  {
   "cell_type": "markdown",
   "metadata": {},
   "source": [
    "The study follows a similar approach to Bulir et al. (2013) and arrives at the following specification:\n",
    "\n",
    "$$\n",
    "C_t = \\alpha + \\beta_T T_t + \\beta_C c_{t-1} + \\beta_{\\mu} (\\mu_t - \\mu_t^*) \\beta_{\\pi} (\\pi_t - \\pi_t^*) + \\beta_{FC} \\delta_{FC} + \\beta_{cov} \\delta_{cov} + \\varepsilon_t \n",
    "$$\n",
    "\n",
    "Where:\n",
    "- $C_t$: is the tone of communication measured using the Loughran-McDonald sentiment dictionary, with higher values indicative of a more positive tone, while lower values suggest a more negative sentiment.\n",
    "- $C_{t-1}$: denotes the first lag of the communication.\n",
    "- The model includes two deterministic variables: $\\alpha$ is a constant and $T_t$ is a linear trend.\n",
    "- $\\beta_{\\mu} (\\mu_t - \\mu_t^*)$: difference between the logarithmic level of real Gross Domestic Product (GDP, $\\mu_t$) and its trend value ($\\mu_t^*$), estimated using the Hodrick-Prescott (HP) filter.\n",
    "- $\\beta_{\\pi} (\\pi_t - \\pi_t^*)$: is the absolute difference between contemporaneous inflation ($\\pi_t$) and the Fed's inflation target ($\\pi_t^*$).\n",
    "- $\\delta_{FC}$ is a dummy variable equal to 1 from 2007:H2 to 2009:H1, 0 otherwise, to capture the effects of the financial crisis. $\\delta_{cov}$ is a dummy variable equal to 1 from 2020:H1 to 2023:H2, 0 otherwise, to analyse the Covid-19 period."
   ]
  },
  {
   "cell_type": "markdown",
   "metadata": {},
   "source": [
    "#### 7.1 Create Dummy Variables"
   ]
  },
  {
   "cell_type": "code",
   "execution_count": null,
   "metadata": {},
   "outputs": [],
   "source": []
  },
  {
   "cell_type": "markdown",
   "metadata": {},
   "source": [
    "#### 7.2 Model Results"
   ]
  },
  {
   "cell_type": "code",
   "execution_count": null,
   "metadata": {},
   "outputs": [],
   "source": []
  },
  {
   "cell_type": "markdown",
   "metadata": {},
   "source": [
    "#### 7.3 Robustness Tests"
   ]
  },
  {
   "cell_type": "code",
   "execution_count": null,
   "metadata": {},
   "outputs": [],
   "source": []
  }
 ],
 "metadata": {
  "kernelspec": {
   "display_name": "Python 3 (ipykernel)",
   "language": "python",
   "name": "python3"
  },
  "language_info": {
   "codemirror_mode": {
    "name": "ipython",
    "version": 3
   },
   "file_extension": ".py",
   "mimetype": "text/x-python",
   "name": "python",
   "nbconvert_exporter": "python",
   "pygments_lexer": "ipython3",
   "version": "3.11.7"
  }
 },
 "nbformat": 4,
 "nbformat_minor": 4
}
