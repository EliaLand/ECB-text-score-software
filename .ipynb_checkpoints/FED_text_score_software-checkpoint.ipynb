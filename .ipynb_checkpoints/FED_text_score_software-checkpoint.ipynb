{
 "cells": [
  {
   "cell_type": "markdown",
   "metadata": {},
   "source": [
    "# **FED Textual Analysis Software (Beta version)**"
   ]
  },
  {
   "cell_type": "markdown",
   "metadata": {},
   "source": [
    "We acknowledge the support of Elia Landini, Jessie Cameron & Lina Avril (Pantheon-Sorbonne University) in the development of this project."
   ]
  },
  {
   "cell_type": "markdown",
   "metadata": {},
   "source": [
    "### **INTRODUCTION**"
   ]
  },
  {
   "cell_type": "markdown",
   "metadata": {},
   "source": [
    "The project aims to conduct textual analysis of the Federal Reserve's (FED) Monetary Policy Reports through the deployment of Python-based software. This report is written semi-annually and provided to Congress containing discussions on the \"conduct of monetary policy and economic developments and prospects for the future.\" \n",
    "\n",
    "First, we develop a web scraping script to extract textual data from the FED's website. Subsequently, we use the Natural Language Toolkit (NLTK) package to preprocess the text, including tokenization, stemming, and converting words to lowercase. Next, the Loughran McDonald Sentiment Dictionary is employed to transform the cleaned qualitative text data into a quantitative measure of the FED's communication tone. This communication measure is then be regressed against the output gap and inflation gap, obtained via API, to assess the sensitivity of the FED's communication to these macroeconomic variables. Throughout the project, we employ various visualisation and analysis packages to explore the data and conduct preliminary analysis. \n",
    "\n",
    "Finally, we plan to develop a user-friendly interface for easy access and interpretation of our findings. **IF WE GET TIME**"
   ]
  },
  {
   "cell_type": "markdown",
   "metadata": {},
   "source": [
    "### **INSTALL PACKAGES**"
   ]
  },
  {
   "cell_type": "code",
   "execution_count": 3,
   "metadata": {},
   "outputs": [
    {
     "name": "stdout",
     "output_type": "stream",
     "text": [
      "Requirement already satisfied: pandas in c:\\users\\eland\\miniconda3\\envs\\x\\lib\\site-packages (1.5.3)\n",
      "Requirement already satisfied: python-dateutil>=2.8.1 in c:\\users\\eland\\miniconda3\\envs\\x\\lib\\site-packages (from pandas) (2.8.2)\n",
      "Requirement already satisfied: pytz>=2020.1 in c:\\users\\eland\\miniconda3\\envs\\x\\lib\\site-packages (from pandas) (2023.3.post1)\n",
      "Requirement already satisfied: numpy>=1.20.3 in c:\\users\\eland\\miniconda3\\envs\\x\\lib\\site-packages (from pandas) (1.24.3)\n",
      "Requirement already satisfied: six>=1.5 in c:\\users\\eland\\miniconda3\\envs\\x\\lib\\site-packages (from python-dateutil>=2.8.1->pandas) (1.16.0)\n",
      "Requirement already satisfied: matplotlib in c:\\users\\eland\\miniconda3\\envs\\x\\lib\\site-packages (3.7.5)\n",
      "Requirement already satisfied: contourpy>=1.0.1 in c:\\users\\eland\\miniconda3\\envs\\x\\lib\\site-packages (from matplotlib) (1.1.1)\n",
      "Requirement already satisfied: cycler>=0.10 in c:\\users\\eland\\miniconda3\\envs\\x\\lib\\site-packages (from matplotlib) (0.12.1)\n",
      "Requirement already satisfied: fonttools>=4.22.0 in c:\\users\\eland\\miniconda3\\envs\\x\\lib\\site-packages (from matplotlib) (4.49.0)\n",
      "Requirement already satisfied: kiwisolver>=1.0.1 in c:\\users\\eland\\miniconda3\\envs\\x\\lib\\site-packages (from matplotlib) (1.4.5)\n",
      "Requirement already satisfied: numpy<2,>=1.20 in c:\\users\\eland\\miniconda3\\envs\\x\\lib\\site-packages (from matplotlib) (1.24.3)\n",
      "Requirement already satisfied: packaging>=20.0 in c:\\users\\eland\\miniconda3\\envs\\x\\lib\\site-packages (from matplotlib) (23.1)\n",
      "Requirement already satisfied: pillow>=6.2.0 in c:\\users\\eland\\miniconda3\\envs\\x\\lib\\site-packages (from matplotlib) (10.2.0)\n",
      "Requirement already satisfied: pyparsing>=2.3.1 in c:\\users\\eland\\miniconda3\\envs\\x\\lib\\site-packages (from matplotlib) (3.1.2)\n",
      "Requirement already satisfied: python-dateutil>=2.7 in c:\\users\\eland\\miniconda3\\envs\\x\\lib\\site-packages (from matplotlib) (2.8.2)\n",
      "Requirement already satisfied: importlib-resources>=3.2.0 in c:\\users\\eland\\miniconda3\\envs\\x\\lib\\site-packages (from matplotlib) (6.1.1)\n",
      "Requirement already satisfied: zipp>=3.1.0 in c:\\users\\eland\\miniconda3\\envs\\x\\lib\\site-packages (from importlib-resources>=3.2.0->matplotlib) (3.11.0)\n",
      "Requirement already satisfied: six>=1.5 in c:\\users\\eland\\miniconda3\\envs\\x\\lib\\site-packages (from python-dateutil>=2.7->matplotlib) (1.16.0)\n",
      "Requirement already satisfied: requests-html in c:\\users\\eland\\miniconda3\\envs\\x\\lib\\site-packages (0.10.0)\n",
      "Requirement already satisfied: requests in c:\\users\\eland\\miniconda3\\envs\\x\\lib\\site-packages (from requests-html) (2.31.0)\n",
      "Requirement already satisfied: pyquery in c:\\users\\eland\\miniconda3\\envs\\x\\lib\\site-packages (from requests-html) (2.0.0)\n",
      "Requirement already satisfied: fake-useragent in c:\\users\\eland\\miniconda3\\envs\\x\\lib\\site-packages (from requests-html) (1.4.0)\n",
      "Requirement already satisfied: parse in c:\\users\\eland\\miniconda3\\envs\\x\\lib\\site-packages (from requests-html) (1.20.1)\n",
      "Requirement already satisfied: bs4 in c:\\users\\eland\\miniconda3\\envs\\x\\lib\\site-packages (from requests-html) (0.0.2)\n",
      "Requirement already satisfied: w3lib in c:\\users\\eland\\miniconda3\\envs\\x\\lib\\site-packages (from requests-html) (2.1.2)\n",
      "Requirement already satisfied: pyppeteer>=0.0.14 in c:\\users\\eland\\miniconda3\\envs\\x\\lib\\site-packages (from requests-html) (2.0.0)\n",
      "Requirement already satisfied: appdirs<2.0.0,>=1.4.3 in c:\\users\\eland\\miniconda3\\envs\\x\\lib\\site-packages (from pyppeteer>=0.0.14->requests-html) (1.4.4)\n",
      "Requirement already satisfied: certifi>=2023 in c:\\users\\eland\\miniconda3\\envs\\x\\lib\\site-packages (from pyppeteer>=0.0.14->requests-html) (2023.11.17)\n",
      "Requirement already satisfied: importlib-metadata>=1.4 in c:\\users\\eland\\miniconda3\\envs\\x\\lib\\site-packages (from pyppeteer>=0.0.14->requests-html) (6.0.0)\n",
      "Requirement already satisfied: pyee<12.0.0,>=11.0.0 in c:\\users\\eland\\miniconda3\\envs\\x\\lib\\site-packages (from pyppeteer>=0.0.14->requests-html) (11.1.0)\n",
      "Requirement already satisfied: tqdm<5.0.0,>=4.42.1 in c:\\users\\eland\\miniconda3\\envs\\x\\lib\\site-packages (from pyppeteer>=0.0.14->requests-html) (4.66.2)\n",
      "Requirement already satisfied: urllib3<2.0.0,>=1.25.8 in c:\\users\\eland\\miniconda3\\envs\\x\\lib\\site-packages (from pyppeteer>=0.0.14->requests-html) (1.26.18)\n",
      "Requirement already satisfied: websockets<11.0,>=10.0 in c:\\users\\eland\\miniconda3\\envs\\x\\lib\\site-packages (from pyppeteer>=0.0.14->requests-html) (10.4)\n",
      "Requirement already satisfied: beautifulsoup4 in c:\\users\\eland\\miniconda3\\envs\\x\\lib\\site-packages (from bs4->requests-html) (4.12.2)\n",
      "Requirement already satisfied: importlib-resources>=5.0 in c:\\users\\eland\\miniconda3\\envs\\x\\lib\\site-packages (from fake-useragent->requests-html) (6.1.1)\n",
      "Requirement already satisfied: lxml>=2.1 in c:\\users\\eland\\miniconda3\\envs\\x\\lib\\site-packages (from pyquery->requests-html) (4.9.4)\n",
      "Requirement already satisfied: cssselect>=1.2.0 in c:\\users\\eland\\miniconda3\\envs\\x\\lib\\site-packages (from pyquery->requests-html) (1.2.0)\n",
      "Requirement already satisfied: charset-normalizer<4,>=2 in c:\\users\\eland\\miniconda3\\envs\\x\\lib\\site-packages (from requests->requests-html) (2.0.4)\n",
      "Requirement already satisfied: idna<4,>=2.5 in c:\\users\\eland\\miniconda3\\envs\\x\\lib\\site-packages (from requests->requests-html) (2.10)\n",
      "Requirement already satisfied: zipp>=0.5 in c:\\users\\eland\\miniconda3\\envs\\x\\lib\\site-packages (from importlib-metadata>=1.4->pyppeteer>=0.0.14->requests-html) (3.11.0)\n",
      "Requirement already satisfied: typing-extensions in c:\\users\\eland\\miniconda3\\envs\\x\\lib\\site-packages (from pyee<12.0.0,>=11.0.0->pyppeteer>=0.0.14->requests-html) (4.12.0)\n",
      "Requirement already satisfied: colorama in c:\\users\\eland\\miniconda3\\envs\\x\\lib\\site-packages (from tqdm<5.0.0,>=4.42.1->pyppeteer>=0.0.14->requests-html) (0.4.6)\n",
      "Requirement already satisfied: soupsieve>1.2 in c:\\users\\eland\\miniconda3\\envs\\x\\lib\\site-packages (from beautifulsoup4->bs4->requests-html) (2.5)\n",
      "Requirement already satisfied: seaborn in c:\\users\\eland\\miniconda3\\envs\\x\\lib\\site-packages (0.13.2)\n",
      "Requirement already satisfied: numpy!=1.24.0,>=1.20 in c:\\users\\eland\\miniconda3\\envs\\x\\lib\\site-packages (from seaborn) (1.24.3)\n",
      "Requirement already satisfied: pandas>=1.2 in c:\\users\\eland\\miniconda3\\envs\\x\\lib\\site-packages (from seaborn) (1.5.3)\n",
      "Requirement already satisfied: matplotlib!=3.6.1,>=3.4 in c:\\users\\eland\\miniconda3\\envs\\x\\lib\\site-packages (from seaborn) (3.7.5)\n",
      "Requirement already satisfied: contourpy>=1.0.1 in c:\\users\\eland\\miniconda3\\envs\\x\\lib\\site-packages (from matplotlib!=3.6.1,>=3.4->seaborn) (1.1.1)\n",
      "Requirement already satisfied: cycler>=0.10 in c:\\users\\eland\\miniconda3\\envs\\x\\lib\\site-packages (from matplotlib!=3.6.1,>=3.4->seaborn) (0.12.1)\n",
      "Requirement already satisfied: fonttools>=4.22.0 in c:\\users\\eland\\miniconda3\\envs\\x\\lib\\site-packages (from matplotlib!=3.6.1,>=3.4->seaborn) (4.49.0)\n",
      "Requirement already satisfied: kiwisolver>=1.0.1 in c:\\users\\eland\\miniconda3\\envs\\x\\lib\\site-packages (from matplotlib!=3.6.1,>=3.4->seaborn) (1.4.5)\n",
      "Requirement already satisfied: packaging>=20.0 in c:\\users\\eland\\miniconda3\\envs\\x\\lib\\site-packages (from matplotlib!=3.6.1,>=3.4->seaborn) (23.1)\n",
      "Requirement already satisfied: pillow>=6.2.0 in c:\\users\\eland\\miniconda3\\envs\\x\\lib\\site-packages (from matplotlib!=3.6.1,>=3.4->seaborn) (10.2.0)\n",
      "Requirement already satisfied: pyparsing>=2.3.1 in c:\\users\\eland\\miniconda3\\envs\\x\\lib\\site-packages (from matplotlib!=3.6.1,>=3.4->seaborn) (3.1.2)\n",
      "Requirement already satisfied: python-dateutil>=2.7 in c:\\users\\eland\\miniconda3\\envs\\x\\lib\\site-packages (from matplotlib!=3.6.1,>=3.4->seaborn) (2.8.2)\n",
      "Requirement already satisfied: importlib-resources>=3.2.0 in c:\\users\\eland\\miniconda3\\envs\\x\\lib\\site-packages (from matplotlib!=3.6.1,>=3.4->seaborn) (6.1.1)\n",
      "Requirement already satisfied: pytz>=2020.1 in c:\\users\\eland\\miniconda3\\envs\\x\\lib\\site-packages (from pandas>=1.2->seaborn) (2023.3.post1)\n",
      "Requirement already satisfied: zipp>=3.1.0 in c:\\users\\eland\\miniconda3\\envs\\x\\lib\\site-packages (from importlib-resources>=3.2.0->matplotlib!=3.6.1,>=3.4->seaborn) (3.11.0)\n",
      "Requirement already satisfied: six>=1.5 in c:\\users\\eland\\miniconda3\\envs\\x\\lib\\site-packages (from python-dateutil>=2.7->matplotlib!=3.6.1,>=3.4->seaborn) (1.16.0)\n",
      "Requirement already satisfied: numpy in c:\\users\\eland\\miniconda3\\envs\\x\\lib\\site-packages (1.24.3)\n",
      "Requirement already satisfied: schedule in c:\\users\\eland\\miniconda3\\envs\\x\\lib\\site-packages (1.2.1)\n",
      "Requirement already satisfied: statsmodels in c:\\users\\eland\\miniconda3\\envs\\x\\lib\\site-packages (0.14.1)\n",
      "Requirement already satisfied: numpy<2,>=1.18 in c:\\users\\eland\\miniconda3\\envs\\x\\lib\\site-packages (from statsmodels) (1.24.3)\n",
      "Requirement already satisfied: scipy!=1.9.2,>=1.4 in c:\\users\\eland\\miniconda3\\envs\\x\\lib\\site-packages (from statsmodels) (1.10.1)\n",
      "Requirement already satisfied: pandas!=2.1.0,>=1.0 in c:\\users\\eland\\miniconda3\\envs\\x\\lib\\site-packages (from statsmodels) (1.5.3)\n",
      "Requirement already satisfied: patsy>=0.5.4 in c:\\users\\eland\\miniconda3\\envs\\x\\lib\\site-packages (from statsmodels) (0.5.4)\n",
      "Requirement already satisfied: packaging>=21.3 in c:\\users\\eland\\miniconda3\\envs\\x\\lib\\site-packages (from statsmodels) (23.1)\n",
      "Requirement already satisfied: python-dateutil>=2.8.1 in c:\\users\\eland\\miniconda3\\envs\\x\\lib\\site-packages (from pandas!=2.1.0,>=1.0->statsmodels) (2.8.2)\n",
      "Requirement already satisfied: pytz>=2020.1 in c:\\users\\eland\\miniconda3\\envs\\x\\lib\\site-packages (from pandas!=2.1.0,>=1.0->statsmodels) (2023.3.post1)\n",
      "Requirement already satisfied: six in c:\\users\\eland\\miniconda3\\envs\\x\\lib\\site-packages (from patsy>=0.5.4->statsmodels) (1.16.0)\n",
      "Requirement already satisfied: reportlab in c:\\users\\eland\\miniconda3\\envs\\x\\lib\\site-packages (4.1.0)\n",
      "Requirement already satisfied: pillow>=9.0.0 in c:\\users\\eland\\miniconda3\\envs\\x\\lib\\site-packages (from reportlab) (10.2.0)\n",
      "Requirement already satisfied: chardet in c:\\users\\eland\\miniconda3\\envs\\x\\lib\\site-packages (from reportlab) (3.0.4)\n",
      "Requirement already satisfied: scipy in c:\\users\\eland\\miniconda3\\envs\\x\\lib\\site-packages (1.10.1)\n",
      "Requirement already satisfied: numpy<1.27.0,>=1.19.5 in c:\\users\\eland\\miniconda3\\envs\\x\\lib\\site-packages (from scipy) (1.24.3)\n",
      "Requirement already satisfied: linearmodels in c:\\users\\eland\\miniconda3\\envs\\x\\lib\\site-packages (4.31)\n",
      "Requirement already satisfied: numpy>=1.16 in c:\\users\\eland\\miniconda3\\envs\\x\\lib\\site-packages (from linearmodels) (1.24.3)\n",
      "Requirement already satisfied: pandas>=0.24 in c:\\users\\eland\\miniconda3\\envs\\x\\lib\\site-packages (from linearmodels) (1.5.3)\n",
      "Requirement already satisfied: scipy>=1.2 in c:\\users\\eland\\miniconda3\\envs\\x\\lib\\site-packages (from linearmodels) (1.10.1)\n",
      "Requirement already satisfied: statsmodels>=0.11 in c:\\users\\eland\\miniconda3\\envs\\x\\lib\\site-packages (from linearmodels) (0.14.1)\n",
      "Requirement already satisfied: property-cached>=1.6.3 in c:\\users\\eland\\miniconda3\\envs\\x\\lib\\site-packages (from linearmodels) (1.6.4)\n",
      "Requirement already satisfied: mypy-extensions>=0.4 in c:\\users\\eland\\miniconda3\\envs\\x\\lib\\site-packages (from linearmodels) (1.0.0)\n",
      "Requirement already satisfied: Cython>=0.29.21 in c:\\users\\eland\\miniconda3\\envs\\x\\lib\\site-packages (from linearmodels) (3.0.10)\n",
      "Requirement already satisfied: pyhdfe>=0.1 in c:\\users\\eland\\miniconda3\\envs\\x\\lib\\site-packages (from linearmodels) (0.2.0)\n",
      "Requirement already satisfied: formulaic>=0.3.2 in c:\\users\\eland\\miniconda3\\envs\\x\\lib\\site-packages (from linearmodels) (1.0.1)\n",
      "Requirement already satisfied: setuptools-scm>=7.0.0 in c:\\users\\eland\\miniconda3\\envs\\x\\lib\\site-packages (from setuptools-scm[toml]>=7.0.0->linearmodels) (8.0.4)\n",
      "Requirement already satisfied: astor>=0.8 in c:\\users\\eland\\miniconda3\\envs\\x\\lib\\site-packages (from formulaic>=0.3.2->linearmodels) (0.8.1)\n",
      "Requirement already satisfied: graphlib-backport>=1.0.0 in c:\\users\\eland\\miniconda3\\envs\\x\\lib\\site-packages (from formulaic>=0.3.2->linearmodels) (1.1.0)\n",
      "Requirement already satisfied: interface-meta>=1.2.0 in c:\\users\\eland\\miniconda3\\envs\\x\\lib\\site-packages (from formulaic>=0.3.2->linearmodels) (1.3.0)\n",
      "Requirement already satisfied: typing-extensions>=4.2.0 in c:\\users\\eland\\miniconda3\\envs\\x\\lib\\site-packages (from formulaic>=0.3.2->linearmodels) (4.12.0)\n",
      "Requirement already satisfied: wrapt>=1.0 in c:\\users\\eland\\miniconda3\\envs\\x\\lib\\site-packages (from formulaic>=0.3.2->linearmodels) (1.16.0)\n",
      "Requirement already satisfied: python-dateutil>=2.8.1 in c:\\users\\eland\\miniconda3\\envs\\x\\lib\\site-packages (from pandas>=0.24->linearmodels) (2.8.2)\n",
      "Requirement already satisfied: pytz>=2020.1 in c:\\users\\eland\\miniconda3\\envs\\x\\lib\\site-packages (from pandas>=0.24->linearmodels) (2023.3.post1)\n",
      "Requirement already satisfied: packaging>=20 in c:\\users\\eland\\miniconda3\\envs\\x\\lib\\site-packages (from setuptools-scm>=7.0.0->setuptools-scm[toml]>=7.0.0->linearmodels) (23.1)\n",
      "Requirement already satisfied: setuptools in c:\\users\\eland\\miniconda3\\envs\\x\\lib\\site-packages (from setuptools-scm>=7.0.0->setuptools-scm[toml]>=7.0.0->linearmodels) (68.2.2)\n",
      "Requirement already satisfied: tomli>=1 in c:\\users\\eland\\miniconda3\\envs\\x\\lib\\site-packages (from setuptools-scm>=7.0.0->setuptools-scm[toml]>=7.0.0->linearmodels) (2.0.1)\n",
      "Requirement already satisfied: patsy>=0.5.4 in c:\\users\\eland\\miniconda3\\envs\\x\\lib\\site-packages (from statsmodels>=0.11->linearmodels) (0.5.4)\n",
      "Requirement already satisfied: six in c:\\users\\eland\\miniconda3\\envs\\x\\lib\\site-packages (from patsy>=0.5.4->statsmodels>=0.11->linearmodels) (1.16.0)\n",
      "Requirement already satisfied: openai in c:\\users\\eland\\miniconda3\\envs\\x\\lib\\site-packages (1.16.2)\n",
      "Requirement already satisfied: anyio<5,>=3.5.0 in c:\\users\\eland\\miniconda3\\envs\\x\\lib\\site-packages (from openai) (3.5.0)\n",
      "Requirement already satisfied: distro<2,>=1.7.0 in c:\\users\\eland\\miniconda3\\envs\\x\\lib\\site-packages (from openai) (1.9.0)\n",
      "Requirement already satisfied: httpx<1,>=0.23.0 in c:\\users\\eland\\miniconda3\\envs\\x\\lib\\site-packages (from openai) (0.27.0)\n",
      "Requirement already satisfied: pydantic<3,>=1.9.0 in c:\\users\\eland\\miniconda3\\envs\\x\\lib\\site-packages (from openai) (2.6.3)\n",
      "Requirement already satisfied: sniffio in c:\\users\\eland\\miniconda3\\envs\\x\\lib\\site-packages (from openai) (1.3.1)\n",
      "Requirement already satisfied: tqdm>4 in c:\\users\\eland\\miniconda3\\envs\\x\\lib\\site-packages (from openai) (4.66.2)\n",
      "Requirement already satisfied: typing-extensions<5,>=4.7 in c:\\users\\eland\\miniconda3\\envs\\x\\lib\\site-packages (from openai) (4.12.0)\n",
      "Requirement already satisfied: idna>=2.8 in c:\\users\\eland\\miniconda3\\envs\\x\\lib\\site-packages (from anyio<5,>=3.5.0->openai) (2.10)\n",
      "Requirement already satisfied: certifi in c:\\users\\eland\\miniconda3\\envs\\x\\lib\\site-packages (from httpx<1,>=0.23.0->openai) (2023.11.17)\n",
      "Requirement already satisfied: httpcore==1.* in c:\\users\\eland\\miniconda3\\envs\\x\\lib\\site-packages (from httpx<1,>=0.23.0->openai) (1.0.4)\n",
      "Requirement already satisfied: h11<0.15,>=0.13 in c:\\users\\eland\\miniconda3\\envs\\x\\lib\\site-packages (from httpcore==1.*->httpx<1,>=0.23.0->openai) (0.14.0)\n",
      "Requirement already satisfied: annotated-types>=0.4.0 in c:\\users\\eland\\miniconda3\\envs\\x\\lib\\site-packages (from pydantic<3,>=1.9.0->openai) (0.6.0)\n",
      "Requirement already satisfied: pydantic-core==2.16.3 in c:\\users\\eland\\miniconda3\\envs\\x\\lib\\site-packages (from pydantic<3,>=1.9.0->openai) (2.16.3)\n",
      "Requirement already satisfied: colorama in c:\\users\\eland\\miniconda3\\envs\\x\\lib\\site-packages (from tqdm>4->openai) (0.4.6)\n",
      "Requirement already satisfied: fredapi in c:\\users\\eland\\miniconda3\\envs\\x\\lib\\site-packages (0.5.1)\n",
      "Requirement already satisfied: pandas in c:\\users\\eland\\miniconda3\\envs\\x\\lib\\site-packages (from fredapi) (1.5.3)\n",
      "Requirement already satisfied: python-dateutil>=2.8.1 in c:\\users\\eland\\miniconda3\\envs\\x\\lib\\site-packages (from pandas->fredapi) (2.8.2)\n",
      "Requirement already satisfied: pytz>=2020.1 in c:\\users\\eland\\miniconda3\\envs\\x\\lib\\site-packages (from pandas->fredapi) (2023.3.post1)\n",
      "Requirement already satisfied: numpy>=1.20.3 in c:\\users\\eland\\miniconda3\\envs\\x\\lib\\site-packages (from pandas->fredapi) (1.24.3)\n",
      "Requirement already satisfied: six>=1.5 in c:\\users\\eland\\miniconda3\\envs\\x\\lib\\site-packages (from python-dateutil>=2.8.1->pandas->fredapi) (1.16.0)\n"
     ]
    }
   ],
   "source": [
    "!pip install pandas\n",
    "!pip install matplotlib\n",
    "!pip install requests-html\n",
    "!pip install seaborn\n",
    "!pip install numpy\n",
    "!pip install schedule\n",
    "!pip install statsmodels\n",
    "!pip install reportlab\n",
    "!pip install scipy\n",
    "!pip install linearmodels\n",
    "!pip install openai\n",
    "!pip install fredapi"
   ]
  },
  {
   "cell_type": "markdown",
   "metadata": {},
   "source": [
    "### **1. IMPORT TEXTUAL DATA: FED WEB SCRAPPING**"
   ]
  },
  {
   "cell_type": "markdown",
   "metadata": {},
   "source": [
    "With the following function, we aim to retrieve and filter text-based sources concerning monetary policy decisions undertaken by the FED itself and released to the public on semiannual press conferences.  \n",
    "Customize the function to scrape articles from the ECB/Eurostystem website within the folder named \"Monetary Policy Report\"\n",
    "The function is also designed to include filtering options to select specific text-based sources according to topic and typology of the publication. However in our specific case we will be interesented only in semiannual reports concerning monetary policy.\n",
    "Base URL-FED: https://www.federalreserve.gov/monetarypolicy/publications/mpr_default.htm"
   ]
  },
  {
   "cell_type": "code",
   "execution_count": 4,
   "metadata": {},
   "outputs": [],
   "source": [
    "import requests\n",
    "from bs4 import BeautifulSoup"
   ]
  },
  {
   "cell_type": "code",
   "execution_count": 20,
   "metadata": {},
   "outputs": [],
   "source": [
    "# FED scraping function\n",
    "# With the following function, we aim to retrieve and filter text-based sources concerning monetary policy decisions undertaken by the FED itself and released to the public on semiannual press conferences.  \n",
    "# Customize the function to scrape articles from the ECB/Eurostystem website within the folder named \"Monetary Policy Report\"\n",
    "# The function is also designed to include filtering options to select specific text-based sources according to topic and typology of the publication. However in our specific case we will be interesented only in semiannual reports concerning monetary policy.\n",
    "# Base URL-FED: https://www.federalreserve.gov/monetarypolicy/publications/mpr_default.htm    \n",
    "\n",
    "def fed_get_articles(topic, publication_type, sub_class):\n",
    "    \n",
    "    # Base URL settings \n",
    "    base_url = f\"https://www.federalreserve.gov/{topic}/{publication_type}/mpr_default.htm\"\n",
    "    base_domain = f\"https://www.federalreserve.gov\"\n",
    "    \n",
    "    article_urls = []\n",
    "\n",
    "    # From the base URL, we now extract all the available URLs on the page by deploying Request and BeatifulSoup packages \n",
    "    response = requests.get(base_url)\n",
    "    soup = BeautifulSoup(response.content, \"html.parser\")\n",
    "    print(\"Scraping URL:\", base_url)\n",
    "\n",
    "    # Find and filter article URLs, ruling out other structural URL non-inherent to the analysis\n",
    "    # We are also interested only in full report publications and not summaries. In our case this difference is highlighted by the subclass \"testimony\" in which full report publications are stored\n",
    "    # It is also worth noticing that the publications' URL has slightly changed throughout time (from 2016 onwards)\n",
    "    for link in soup.find_all(\"a\", href=True):\n",
    "        article_url = link[\"href\"]\n",
    "\n",
    "        # To limit the research to the first 5 results, we may want to activate this loop\n",
    "        # if len(article_urls) >= 5:  \n",
    "            # break\n",
    "        if not article_url.startswith(\"http\"):\n",
    "            article_url = base_domain + article_url\n",
    "        \n",
    "        if f\"{sub_class}\" in article_url:\n",
    "            article_urls.append(article_url)\n",
    "\n",
    "    # Delete the first element of the article_urls list representing the general folder    \n",
    "    for url in article_urls:     \n",
    "        if url == f\"https://www.federalreserve.gov/newsevents/{sub_class}.htm\":\n",
    "            article_urls.remove(url)\n",
    "            break\n",
    "\n",
    "    return article_urls"
   ]
  },
  {
   "cell_type": "code",
   "execution_count": 21,
   "metadata": {},
   "outputs": [
    {
     "name": "stdout",
     "output_type": "stream",
     "text": [
      "Scraping URL: https://www.federalreserve.gov/monetarypolicy/publications/mpr_default.htm\n",
      "['https://www.federalreserve.gov/newsevents/testimony/powell20240306a.htm', 'https://www.federalreserve.gov/newsevents/testimony/powell20230307a.htm', 'https://www.federalreserve.gov/newsevents/testimony/powell20230621a.htm', 'https://www.federalreserve.gov/newsevents/testimony/powell20220302a.htm', 'https://www.federalreserve.gov/newsevents/testimony/powell20220622a.htm', 'https://www.federalreserve.gov/newsevents/testimony/powell20210223a.htm', 'https://www.federalreserve.gov/newsevents/testimony/powell20210714a.htm', 'https://www.federalreserve.gov/newsevents/testimony/powell20200211a.htm', 'https://www.federalreserve.gov/newsevents/testimony/powell20200616a.htm', 'https://www.federalreserve.gov/newsevents/testimony/powell20190226a.htm', 'https://www.federalreserve.gov/newsevents/testimony/powell20190710a.htm', 'https://www.federalreserve.gov/newsevents/testimony/powell20180226a.htm', 'https://www.federalreserve.gov/newsevents/testimony/powell20180717a.htm', 'https://www.federalreserve.gov/newsevents/testimony/yellen20170214a.htm', 'https://www.federalreserve.gov/newsevents/testimony/yellen20170712a.htm', 'https://www.federalreserve.gov/newsevents/testimony/yellen20160210a.htm', 'https://www.federalreserve.gov/newsevents/testimony/yellen20160621a.htm', 'https://www.federalreserve.gov/newsevents/testimony/yellen20150224a.htm', 'https://www.federalreserve.gov/newsevents/testimony/yellen20150715a.htm', 'https://www.federalreserve.gov/newsevents/testimony/yellen20140211a.htm', 'https://www.federalreserve.gov/newsevents/testimony/yellen20140715a.htm', 'https://www.federalreserve.gov/newsevents/testimony/bernanke20130226a.htm', 'https://www.federalreserve.gov/newsevents/testimony/bernanke20130717a.htm', 'https://www.federalreserve.gov/newsevents/testimony/bernanke20120229a.htm', 'https://www.federalreserve.gov/newsevents/testimony/bernanke20120717a.htm', 'https://www.federalreserve.gov/newsevents/testimony/bernanke20110301a.htm', 'https://www.federalreserve.gov/newsevents/testimony/bernanke20110713a.htm', 'https://www.federalreserve.gov/newsevents/testimony/bernanke20100224a.htm', 'https://www.federalreserve.gov/newsevents/testimony/bernanke20100721a.htm', 'https://www.federalreserve.gov/newsevents/testimony/bernanke20090224a.htm', 'https://www.federalreserve.gov/newsevents/testimony/bernanke20090721a.htm', 'https://www.federalreserve.gov/newsevents/testimony/bernanke20080227a.htm', 'https://www.federalreserve.gov/newsevents/testimony/bernanke20080715a.htm', 'https://www.federalreserve.gov/newsevents/testimony/bernanke20070214a.htm', 'https://www.federalreserve.gov/newsevents/testimony/bernanke20070718a.htm', 'https://www.federalreserve.gov/newsevents/testimony/bernanke20060215a.htm', 'https://www.federalreserve.gov/newsevents/testimony/bernanke20060719a.htm', 'https://www.federalreserve.gov/boarddocs/hh/2005/february/testimony.htm', 'https://www.federalreserve.gov/boarddocs/hh/2005/july/testimony.htm', 'https://www.federalreserve.gov/boarddocs/hh/2004/february/testimony.htm', 'https://www.federalreserve.gov/boarddocs/hh/2004/july/testimony.htm', 'https://www.federalreserve.gov/boarddocs/hh/2003/february/testimony.htm', 'https://www.federalreserve.gov/boarddocs/hh/2003/april/testimony.htm', 'https://www.federalreserve.gov/boarddocs/hh/2003/july/testimony.htm', 'https://www.federalreserve.gov/boarddocs/hh/2002/february/testimony.htm', 'https://www.federalreserve.gov/boarddocs/hh/2002/july/testimony.htm', 'https://www.federalreserve.gov/boarddocs/hh/2001/february/testimony2.htm', 'https://www.federalreserve.gov/boarddocs/hh/2001/july/testimony.htm', 'https://www.federalreserve.gov/boarddocs/hh/1999/february/testimony.htm', 'https://www.federalreserve.gov/boarddocs/hh/1999/July/testimony.htm', 'https://www.federalreserve.gov/boarddocs/hh/1998/february/testimony.htm', 'https://www.federalreserve.gov/boarddocs/hh/1998/july/testimony.htm', 'https://www.federalreserve.gov/boarddocs/hh/1997/february/testimony.htm', 'https://www.federalreserve.gov/boarddocs/hh/1997/july/testimony.htm', 'https://www.federalreserve.gov/boarddocs/hh/1996/july/testimony.htm']\n"
     ]
    }
   ],
   "source": [
    "# Retrieving FED semiannual reports' URLs through the previous function by specifying the value of each parameter to fit our research scope\n",
    "topic = \"monetarypolicy\"\n",
    "publication_type = \"publications\"\n",
    "sub_class = \"testimony\"\n",
    "\n",
    "print(fed_get_articles(topic, publication_type, sub_class))"
   ]
  },
  {
   "cell_type": "markdown",
   "metadata": {},
   "source": [
    "### **Text-based sources retrieving**"
   ]
  },
  {
   "cell_type": "code",
   "execution_count": 7,
   "metadata": {},
   "outputs": [],
   "source": [
    "import requests\n",
    "from bs4 import BeautifulSoup"
   ]
  },
  {
   "cell_type": "code",
   "execution_count": 22,
   "metadata": {},
   "outputs": [],
   "source": [
    "# Text-based soruces retrieving \n",
    "def fed_article_txt(article_urls):\n",
    "    articles_text = []\n",
    "\n",
    "    for article_url in article_urls:\n",
    "\n",
    "        # Fetch article content (the \"response\" function takes the HTML text from the URL)\n",
    "        response = requests.get(article_url)\n",
    "        soup = BeautifulSoup(response.content, \"html.parser\")\n",
    "        article_text = soup.get_text()\n",
    "        articles_text.append(article_text)\n",
    "    \n",
    "    return articles_text"
   ]
  },
  {
   "cell_type": "code",
   "execution_count": 30,
   "metadata": {},
   "outputs": [
    {
     "name": "stdout",
     "output_type": "stream",
     "text": [
      "Scraping URL: https://www.federalreserve.gov/monetarypolicy/publications/mpr_default.htm\n",
      "['\\n\\n\\n\\n\\n\\n\\n\\n\\n\\n\\n\\n\\n\\n\\n\\n\\n\\n\\nTestimony by Chair Powell on the semiannual Monetary Policy Report to the Congress  - Federal Reserve Board\\n\\n\\n\\n\\n\\n\\n\\n\\n\\n\\n\\n\\n\\n\\nSkip to main content\\n\\n\\n\\nBack to Home\\nBoard of Governors of the Federal Reserve System\\n\\n\\nStay Connected\\n\\n\\n\\n\\nFederal Reserve Facebook Page\\n\\n\\n\\n\\nFederal Reserve Instagram Page\\n\\n\\n\\n\\nFederal Reserve YouTube Page\\n\\n\\n\\n\\nFederal Reserve Flickr Page\\n\\n\\n\\n\\nFederal Reserve LinkedIn Page\\n\\n\\n\\n\\nFederal Reserve Threads Page\\n\\n\\n\\n\\nFederal Reserve Twitter Page\\n\\n\\n\\n\\nSubscribe to RSS\\n\\n\\n\\n\\nSubscribe to Email\\n\\n\\n\\n\\nRecent Postings\\n\\n\\nCalendar\\n\\n\\nPublications\\n\\n\\nSite Map\\n\\n\\nA-Z index\\n\\n\\nCareers\\n\\n\\nFAQs\\n\\n\\nVideos\\n\\n\\nContact\\n\\n\\n\\n\\nSearch\\n\\n\\n\\nSubmit Search Button\\n\\n\\n\\n\\n\\nAdvanced\\n\\n\\n\\n\\nToggle Dropdown Menu\\n\\n\\n\\n\\n\\n\\n\\nBoard of Governors of the Federal Reserve System\\r\\n            \\n\\nThe Federal Reserve, the central bank of the United States, provides\\r\\n          the nation with a safe, flexible, and stable monetary and financial\\r\\n          system.\\n\\n\\n\\n\\n\\n\\n\\nMain Menu Toggle Button\\n\\nSections\\n\\nSearch Toggle Button\\n\\n\\n\\n\\n\\nSearch\\n\\n\\nSearch Submit Button\\nSubmit\\n\\n\\n\\n\\n\\n\\n\\n\\nAboutthe Fed\\n\\n\\n\\n\\n\\nStructure of the Federal Reserve System\\n\\n\\nThe Fed Explained\\n\\n\\nBoard Members\\n\\n\\nAdvisory Councils\\n\\n\\nFederal Reserve Banks\\n\\n\\nFederal Reserve Bank and Branch Directors\\n\\n\\nFederal Reserve Act\\n\\n\\nCurrency\\n\\n\\n\\n\\nBoard Meetings\\n\\n\\nBoard Votes\\n\\n\\nDiversity & Inclusion\\n\\n\\nCareers\\n\\n\\nDo Business with the Board\\n\\n\\nHolidays Observed - K.8\\n\\n\\nEthics & Values\\n\\n\\n\\n\\nContact\\n\\n\\nRequesting Information (FOIA)\\n\\n\\nFAQs\\n\\n\\nEconomic Education\\n\\n\\nFed Financial Statements\\n\\n\\nInnovation\\n\\n\\n\\n\\n\\n\\n\\nNews& Events\\n\\n\\nPress Releases\\n\\n\\nSpeeches\\n\\n\\nTestimony\\n\\n\\nCalendar\\n\\n\\nVideos\\n\\n\\nPhoto Gallery\\n\\n\\nConferences\\n\\n\\n\\n\\nMonetaryPolicy\\n\\n\\n\\n\\n\\n\\nFederal Open Market Committee\\n\\n\\n\\nAbout the FOMC\\n\\n\\nMeeting calendars and information\\n\\n\\nTranscripts and other historical materials\\n\\n\\nFAQs\\n\\n\\n\\nMonetary Policy Principles and Practice\\n\\n\\n\\nNotes\\n\\n\\n\\n\\n\\nPolicy Implementation\\n\\n\\n\\nPolicy Normalization\\n\\n\\nPolicy Tools\\n\\n\\n\\nReports\\n\\n\\n\\nMonetary Policy Report\\n\\n\\nBeige Book\\n\\n\\nFederal Reserve Balance Sheet Developments\\n\\n\\n\\nReview of Monetary Policy Strategy, Tools, and Communications\\n\\n\\n\\nOverview\\n\\n\\n\\n\\n\\n\\n\\nSupervision& Regulation\\n\\n\\n\\n\\n\\n\\nInstitution Supervision\\n\\n\\n\\nNovel Activities Supervision Program\\n\\n\\nCommunity & Regional Financial Institutions\\n\\n\\nLarge Financial Institutions\\n\\n\\nForeign Banking Organizations\\n\\n\\nFinancial Market Utilities\\n\\n\\nConsumer Compliance\\n\\n\\n\\nReports\\n\\n\\n\\nFederal Reserve Supervision and Regulation Report\\n\\n\\n\\n\\n\\nReporting Forms\\n\\n\\n\\nAll Reporting Forms\\n\\n\\nRecent Updates\\n\\n\\nInformation collections under review\\n\\n\\nFinancial Statements\\n\\n\\nApplications/structure change\\n\\n\\nFederal Financial Institutions Examination Council (FFIEC)\\n\\n\\nMunicipal & Government Securities\\n\\n\\n\\n\\n\\nSupervision & Regulation Letters\\n\\n\\n\\nBy Year\\n\\n\\nBy Topic\\n\\n\\n\\nBanking Applications & Legal Developments\\n\\n\\n\\nApplication Process\\n\\n\\nBoard & Reserve Bank Action\\n\\n\\nEnforcement Actions & Legal Developments\\n\\n\\n\\n\\n\\nRegulatory Resources\\n\\n\\n\\nRegulations\\n\\n\\nManuals\\n\\n\\nBasel Regulatory Framework\\n\\n\\nVolcker Rule\\n\\n\\nEducation, Training, and Assistance\\n\\n\\n\\n\\n\\nBanking & Data Structure\\n\\n\\n\\nBeneficial Ownership reports\\n\\n\\nLarge Commercial Banks\\n\\n\\nU.S. Offices of Foreign Entities\\n\\n\\nFinancial Holding Companies\\n\\n\\nInterstate Branching\\n\\n\\nSecurities Underwriting & Dealing Subsidiaries\\n\\n\\nMinority Depository Institutions\\n\\n\\n\\n\\n\\n\\n\\nFinancialStability\\n\\n\\n\\n\\n\\nFinancial Stability Assessments \\n\\n\\n\\nAbout Financial Stability\\n\\n\\nTypes of Financial System Vulnerabilities & Risks\\n\\n\\nMonitoring Risk Across the Financial System\\n\\n\\nProactive Monitoring of Markets & Institutions\\n\\n\\nFinancial Stability & Stress Testing\\n\\n\\n\\n\\n\\nFinancial Stability Coordination & Actions\\n\\n\\n\\nResponding to Financial System Emergencies\\n\\n\\nCooperation on Financial Stability\\n\\n\\n\\nReports\\n\\n\\n\\nFinancial Stability Report\\n\\n\\n\\n\\n\\n\\nPaymentSystems\\n\\n\\n\\n\\n\\n\\nRegulations & Statutes\\n\\n\\n\\nRegulation CC (Availability of Funds and Collection of Checks)\\n\\n\\nRegulation II (Debit Card Interchange Fees and Routing)\\n\\n\\nRegulation HH (Financial Market Utilities)\\n\\n\\nOther Regulations and Statutes\\n\\n\\n\\n\\n\\nPayment Policies\\n\\n\\n\\nFederal Reserve\\'s Key Policies for the Provision of Financial Services\\n\\n\\nGuidelines for Evaluating Joint Account Requests\\n\\n\\nOvernight Overdrafts\\n\\n\\nPayment System Risk\\n\\n\\nSponsorship for Priority Telecommunication Services\\n\\n\\n\\n\\n\\nReserve Bank Payment Services & Data\\n\\n\\n\\nAutomated Clearinghouse Services\\n\\n\\nCheck Services\\n\\n\\nCurrency and Coin Services\\n\\n\\nDaylight Overdrafts and Fees\\n\\n\\nFedNow® Service\\n\\n\\nFedwire Funds Services\\n\\n\\nFedwire Securities Services\\n\\n\\nFiscal Agency Services\\n\\n\\nMaster Account and Services Database\\n\\n\\nNational Settlement Service\\n\\n\\n\\n\\n\\nFinancial Market Utilities & Infrastructures\\n\\n\\n\\nSupervision & Oversight of Financial Market Infrastructures\\n\\n\\nDesignated Financial Market Utilities\\n\\n\\nInternational Standards for Financial Market Infrastructures\\n\\n\\n\\n\\n\\nResearch, Reports, & Committees\\n\\n\\n\\nFederal Reserve Payments Study (FRPS)\\n\\n\\nPayments Research\\n\\n\\nReports\\n\\n\\nPayments System Policy Advisory Committee\\n\\n\\n\\n\\n\\n\\n\\nEconomicResearch\\n\\n\\n\\n\\n\\nMeet the Researchers\\n\\n\\n\\nWorking Papers and Notes\\n\\n\\n\\nFinance and Economics Discussion Series (FEDS)\\n\\n\\nFEDS Notes\\n\\n\\nInternational Finance Discussion Papers (IFDP)\\n\\n\\n\\n\\n\\nData, Models and Tools\\n\\n\\n\\nEconomic Research Data\\n\\n\\nFRB/US Model\\n\\n\\nEstimated Dynamic Optimization (EDO) Model\\n\\n\\nSurvey of Consumer Finances (SCF)\\n\\n\\n\\n\\n\\n\\n\\nData\\n\\n\\n\\n\\n\\nData Download Program\\n\\n\\n\\nBank Assets and Liabilities\\n\\n\\n\\nAggregate Reserves of Depository Institutions and the Monetary Base - H.3\\n\\n\\nAssets and Liabilities of Commercial Banks in the U.S. - H.8\\n\\n\\nAssets and Liabilities of U.S. Branches and Agencies of Foreign Banks\\n\\n\\nCharge-Off and Delinquency Rates on Loans and Leases at Commercial Banks\\n\\n\\nSenior Financial Officer Survey\\n\\n\\nSenior Loan Officer Opinion Survey on Bank Lending Practices\\n\\n\\n\\n\\n\\nBank Structure Data\\n\\n\\n\\nLarge Commercial Banks\\n\\n\\nMinority Depository Institutions\\n\\n\\nStructure and Share Data for the U.S. Offices of Foreign Banks\\n\\n\\n\\nBusiness Finance\\n\\n\\n\\nCommercial Paper\\n\\n\\nFinance Companies - G.20\\n\\n\\nNew Security Issues, State and Local Governments\\n\\n\\nNew Security Issues, U.S. Corporations\\n\\n\\n\\nDealer Financing Terms\\n\\n\\n\\nSenior Credit Officer Opinion Survey on Dealer Financing Terms\\n\\n\\n\\n\\n\\nExchange Rates and International Data\\n\\n\\n\\nForeign Exchange Rates - H.10/G.5\\n\\n\\nInternational Summary Statistics\\n\\n\\nSecurities Holdings and Transactions\\n\\n\\nStatistics Reported by Banks and Other Financial Firms in the United States\\n\\n\\nStructure and Share Data for U.S. Offices of Foreign Banks\\n\\n\\n\\nFinancial Accounts\\n\\n\\n\\nFinancial Accounts of the United States - Z.1\\n\\n\\n\\n\\n\\nHousehold Finance\\n\\n\\n\\nConsumer Credit - G.19\\n\\n\\nHousehold Debt Service and Financial Obligations Ratios\\n\\n\\nMortgage Debt Outstanding\\n\\n\\nSurvey of Consumer Finances (SCF)\\n\\n\\nSurvey of Household Economics and Decisionmaking\\n\\n\\n\\nIndustrial Activity\\n\\n\\n\\nIndustrial Production and Capacity Utilization - G.17\\n\\n\\n\\nInterest Rates\\n\\n\\n\\nSelected Interest Rates - H.15\\n\\n\\n\\n\\n\\nMicro Data Reference Manual (MDRM)\\n\\n\\n\\nMicro and Macro Data Collections\\n\\n\\n\\nMoney Stock and Reserve Balances\\n\\n\\n\\nFactors Affecting Reserve Balances - H.4.1\\n\\n\\nMoney Stock Measures - H.6\\n\\n\\n\\nOther\\n\\n\\n\\nYield Curve Models and Data\\n\\n\\n\\n\\n\\n\\n\\nConsumers & Communities\\n\\n\\n\\n\\n\\n\\nRegulations\\n\\n\\n\\nCommunity Reinvestment Act (CRA)\\n\\n\\nAll Regulations\\n\\n\\n\\nSupervision\\xa0& Enforcement\\n\\n\\n\\nCA Letters\\n\\n\\nEnforcement Actions\\n\\n\\nIndependent Foreclosure Review\\n\\n\\n\\n\\n\\nCommunity Development\\n\\n\\n\\nHousing and Neighborhood Revitalization\\n\\n\\nSmall Business and Entrepreneurship\\n\\n\\nEmployment and Workforce Development\\n\\n\\nCommunity Development Finance\\n\\n\\nRural Community and Economic Development\\n\\n\\n\\n\\nConferences\\n\\n\\n\\nResearch\\xa0& Analysis\\n\\n\\n\\nSurvey of Household Economics and Decisionmaking\\n\\n\\nResearch Publications & Data Analysis\\n\\n\\n\\n\\nCommunity Advisory Council\\n\\n\\n\\nConsumer Resources\\n\\n\\n\\nMortgage and Foreclosure Resources\\n\\n\\nFederal Reserve Community Development Resources\\n\\n\\n\\n\\n\\n\\n\\n\\n\\n\\n\\n\\nHome\\nNews & Events\\nTestimony\\n\\n\\n\\n\\n\\r\\n                            Testimony\\r\\n                        \\n\\n\\n\\n\\nPDF\\n\\n\\n\\n\\n\\n\\n\\nPlease enable JavaScript if it is disabled in your browser or access the information through the links provided below. \\n\\n\\n\\n\\n\\n\\nMarch 06, 2024\\nSemiannual Monetary Policy Report to the Congress\\nChair Jerome H. Powell\\nBefore the Committee on Financial Services, U.S. House of Representatives\\n\\n\\nShare\\n\\n\\n\\n\\n\\n\\n\\n\\n\\n\\n\\n\\n\\n\\n\\n\\n\\n\\n\\n\\n\\n\\n\\n\\nWatch Live\\n\\n\\n\\n\\nChair Powell submitted identical remarks to the Committee on Banking, Housing, and Urban Affairs, U.S. Senate, on March 7, 2024.\\nChairman McHenry, Ranking Member Waters, and other members of the Committee, I appreciate the opportunity to present the Federal Reserve\\'s semiannual Monetary Policy Report.\\nThe Federal Reserve remains squarely focused on our dual mandate to promote maximum employment and stable prices for the American people. The economy has made considerable progress toward these objectives over the past year.\\nWhile inflation remains above the Federal Open Market Committee\\'s (FOMC) objective of 2 percent, it has eased substantially, and the slowing in inflation has occurred without a significant increase in unemployment. As labor market tightness has eased and progress on inflation has continued, the risks to achieving our employment and inflation goals have been moving into better balance.\\nEven so, the Committee remains highly attentive to inflation risks and is acutely aware that high inflation imposes significant hardship, especially on those least able to meet the higher costs of essentials, like food, housing, and transportation. The FOMC is strongly committed to returning inflation to its 2 percent objective. Restoring price stability is essential to achieve a sustained period of strong labor market conditions that benefit all.\\nI will review the current economic situation before turning to monetary policy.\\nCurrent Economic Situation and Outlook\\r\\nEconomic activity expanded at a strong pace over the past year. For 2023 as a whole, gross domestic product increased 3.1 percent, bolstered by solid consumer demand and improving supply conditions. Activity in the housing sector was subdued over the past year, largely reflecting high mortgage rates. High interest rates also appear to have been weighing on business fixed investment.\\nThe labor market remains relatively tight, but supply and demand conditions have continued to come into better balance. Since the middle of last year, payroll job gains have averaged 239,000 jobs per month, and the unemployment rate has remained near historical lows, at 3.7 percent. Strong job creation has been accompanied by an increase in the supply of workers, particularly among individuals aged 25 to 54, and a continued strong pace of immigration. Job vacancies have declined, and nominal wage growth has been easing. Although the jobs-to-workers gap has narrowed, labor demand still exceeds the supply of available workers. The strong labor market over the past two years has also helped narrow long-standing disparities in employment and earnings across demographic groups.1\\nInflation has eased notably over the past year but remains above the FOMC\\'s longer-run goal of 2 percent. Total personal consumption expenditures (PCE) prices rose 2.4 percent over the 12 months ending in January. Excluding the volatile food and energy categories, core PCE prices rose 2.8 percent, a notable slowing from 2022 that was widespread across both goods and services prices. Longer-term inflation expectations appear to have remained well anchored, as reflected by a broad range of surveys of households, businesses, and forecasters, as well as measures from financial markets.\\nMonetary Policy\\r\\nAfter significantly tightening the stance of monetary policy since early 2022, the FOMC has maintained the target range for the federal funds rate at 5-1/4 to 5-1/2 percent since its meeting last July. We have also continued to shrink our balance sheet at a brisk pace and in a predictable manner. Our restrictive stance of monetary policy is putting downward pressure on economic activity and inflation.\\nWe believe that our policy rate is likely at its peak for this tightening cycle. If the economy evolves broadly as expected, it will likely be appropriate to begin dialing back policy restraint at some point this year. But the economic outlook is uncertain, and ongoing progress toward our 2 percent inflation objective is not assured. Reducing policy restraint too soon or too much could result in a reversal of progress we have seen in inflation and ultimately require even tighter policy to get inflation back to 2 percent. At the same time, reducing policy restraint too late or too little could unduly weaken economic activity and employment. In considering any adjustments to the target range for the policy rate, we will carefully assess the incoming data, the evolving outlook, and the balance of risks. The Committee does not expect that it will be appropriate to reduce the target range until it has gained greater confidence that inflation is moving sustainably toward 2 percent.\\nWe remain committed to bringing inflation back down to our 2 percent goal and to keeping longer-term inflation expectations well anchored. Restoring price stability is essential to set the stage for achieving maximum employment and stable prices over the longer run.\\nTo conclude, we understand that our actions affect communities, families, and businesses across the country. Everything we do is in service to our public mission. We at the Federal Reserve will do everything we can to achieve our maximum employment and price stability goals.\\nThank you. I am happy to take your questions.\\n\\n1. A box in our latest Monetary Policy Report, \"Employment and Earnings across Demographic Groups,\" discusses differences in labor market outcomes among segments of the population. Return to text\\n\\n\\n\\n\\nRelated Content\\n\\n\\n\\nCongressional Hearing Transcripts\\nHearing transcripts are posted to this website as they become available.\\n\\n\\n\\n\\n\\n\\nBack to Top\\n\\nLast Update:\\r\\n                March 07, 2024\\r\\n            \\n\\n\\n\\n\\n\\nBoard of Governors of the Federal Reserve System\\n\\nAbout the FedNews & EventsMonetary PolicySupervision & RegulationFinancial StabilityPayment SystemsEconomic ResearchDataConsumers & CommunitiesConnect with the Board\\n\\n\\n\\nTools and Information\\n\\nContact\\nPublications\\nFreedom of Information (FOIA)\\nOffice of Inspector General\\nBudget & Performance | Audit\\nNo FEAR Act\\nEspañol\\nWebsite Policies  | Privacy Program\\nAccessibility\\n\\n\\n\\n\\nStay Connected\\nFederal Reserve Facebook Page\\nFederal Reserve Instagram Page\\nFederal Reserve YouTube Page\\nFederal Reserve Flickr Page\\nFederal Reserve LinkedIn Page\\nFederal Reserve Threads Page\\nLink to Federal Reserve Twitter Page\\nSubscribe to RSS\\nSubscribe to Email\\n\\n\\n\\n\\n\\n\\n\\n\\n\\n\\n\\nBoard of Governors of the Federal Reserve System\\n20th Street and Constitution Avenue N.W., Washington, DC 20551\\n\\n\\n\\n\\n\\n\\n\\n\\n\\n\\n\\n\\n\\n']\n"
     ]
    }
   ],
   "source": [
    "# Article 1 example\n",
    "article_urls = fed_get_articles(topic, publication_type, sub_class)[0:1]\n",
    "print(fed_article_txt(article_urls))"
   ]
  },
  {
   "cell_type": "markdown",
   "metadata": {},
   "source": [
    "### **2. PREPARE AND CLEAN TEXTUAL DATA**"
   ]
  },
  {
   "cell_type": "markdown",
   "metadata": {},
   "source": [
    "This section cleans the data so that is ready for analysis. It involves doing X, Y, Z."
   ]
  },
  {
   "cell_type": "markdown",
   "metadata": {},
   "source": [
    "#### 2.1 Remove Paragraph Headings"
   ]
  },
  {
   "cell_type": "code",
   "execution_count": null,
   "metadata": {},
   "outputs": [],
   "source": []
  },
  {
   "cell_type": "markdown",
   "metadata": {},
   "source": [
    "#### 2.2 Textual Adjustments"
   ]
  },
  {
   "cell_type": "code",
   "execution_count": null,
   "metadata": {},
   "outputs": [],
   "source": []
  },
  {
   "cell_type": "markdown",
   "metadata": {},
   "source": [
    "#### 2.3 Convert Text to Lowercase"
   ]
  },
  {
   "cell_type": "code",
   "execution_count": null,
   "metadata": {},
   "outputs": [],
   "source": []
  },
  {
   "cell_type": "markdown",
   "metadata": {},
   "source": [
    "#### 2.4 Remove Punctuation"
   ]
  },
  {
   "cell_type": "code",
   "execution_count": null,
   "metadata": {},
   "outputs": [],
   "source": []
  },
  {
   "cell_type": "markdown",
   "metadata": {},
   "source": [
    "#### 2.5 Remove Stopwords"
   ]
  },
  {
   "cell_type": "code",
   "execution_count": null,
   "metadata": {},
   "outputs": [],
   "source": []
  },
  {
   "cell_type": "markdown",
   "metadata": {},
   "source": [
    "#### 2.6 Lemmatisation"
   ]
  },
  {
   "cell_type": "code",
   "execution_count": null,
   "metadata": {},
   "outputs": [],
   "source": []
  },
  {
   "cell_type": "markdown",
   "metadata": {},
   "source": [
    "### **3. PRELIMINARY ANALYSIS TEXTUAL DATA**"
   ]
  },
  {
   "cell_type": "code",
   "execution_count": 18,
   "metadata": {},
   "outputs": [],
   "source": [
    "# Jessie - I have added this to help with structure. \n",
    "# These analysis need to be done BEFORE Elia's cleaning just using the raw textual data before any cleaning\n",
    "# Update the markdown code below once you add all the textual analysis variables (the ones in the thesis file and any other you think of!)\n",
    "# Describe the dictionary used for stopwords etc and each line of code - the more comments the better \r\n"
   ]
  },
  {
   "cell_type": "markdown",
   "metadata": {},
   "source": [
    "This section focuses on creating new variables to analyse the textual data from the Federal Reserve (FED). Specifically, it calculates:\n",
    "\n",
    "**1. Word Count**: Total number of words per statement.\n",
    "\n",
    "**2. Sentence Count**: Total number of sentences per statement.\n",
    "\n",
    "**3. Average Words per Sentence**: Average number of words per sentence.\n",
    "\n",
    "**X. Ratio of Complex Words**: Share of complex words (words with three or more syllables) to the total word count.\n",
    "\n",
    "**X. Ratio of Stop Words**: Proportion of stop words (common words like \"and\", \"the\", \"is\", etc.) to the total word count.\n",
    "\n",
    "---\n",
    "\n",
    "After computing these variables, the data are summarised using descriptive statistics tables and visually. This exploratory analysis provides insights into the textual characteristics of the FED data before conducting regression analysis.\n"
   ]
  },
  {
   "cell_type": "markdown",
   "metadata": {},
   "source": [
    "#### 3.1 Create Textual Variables "
   ]
  },
  {
   "cell_type": "markdown",
   "metadata": {},
   "source": [
    "#### 3.1.1 Number of Meeting Minutes"
   ]
  },
  {
   "cell_type": "code",
   "execution_count": null,
   "metadata": {},
   "outputs": [],
   "source": []
  },
  {
   "cell_type": "markdown",
   "metadata": {},
   "source": [
    "#### 3.1.2 Word Count for Each Statement"
   ]
  },
  {
   "cell_type": "code",
   "execution_count": null,
   "metadata": {},
   "outputs": [],
   "source": []
  },
  {
   "cell_type": "markdown",
   "metadata": {},
   "source": [
    "#### 3.1.3 Sentence Count for Each Statement"
   ]
  },
  {
   "cell_type": "code",
   "execution_count": null,
   "metadata": {},
   "outputs": [],
   "source": []
  },
  {
   "cell_type": "markdown",
   "metadata": {},
   "source": [
    "#### 3.1.X Stop Words in Each Statement"
   ]
  },
  {
   "cell_type": "code",
   "execution_count": null,
   "metadata": {},
   "outputs": [],
   "source": []
  },
  {
   "cell_type": "markdown",
   "metadata": {},
   "source": [
    "#### 3.1.X Other Variables...."
   ]
  },
  {
   "cell_type": "markdown",
   "metadata": {},
   "source": [
    "#### 3.2 Descriptive Statstics "
   ]
  },
  {
   "cell_type": "code",
   "execution_count": null,
   "metadata": {},
   "outputs": [],
   "source": [
    "# Summary table of data\n",
    "df.describe().round(2)"
   ]
  },
  {
   "cell_type": "markdown",
   "metadata": {},
   "source": [
    "#### 3.3 Visualisation of Textual Variables"
   ]
  },
  {
   "cell_type": "code",
   "execution_count": 2,
   "metadata": {},
   "outputs": [],
   "source": [
    "## Create charts - maybe instead of single charts you could find a package which lets you view charts side-by-side? Could make the code look cleaner? \n",
    "# e.g. word count over time, stop word ratio over time etc."
   ]
  },
  {
   "cell_type": "markdown",
   "metadata": {},
   "source": [
    "#### 3.4 Word Frequency"
   ]
  },
  {
   "cell_type": "code",
   "execution_count": null,
   "metadata": {},
   "outputs": [],
   "source": [
    "# table with top 20 words, word cloud map"
   ]
  },
  {
   "cell_type": "code",
   "execution_count": null,
   "metadata": {},
   "outputs": [],
   "source": []
  },
  {
   "cell_type": "markdown",
   "metadata": {},
   "source": [
    "### **4. CREATE COMMUNICATION VARIABLES**"
   ]
  },
  {
   "cell_type": "markdown",
   "metadata": {},
   "source": [
    "This section converts the qualtative text data to quantiative measure of readability for analysis. "
   ]
  },
  {
   "cell_type": "markdown",
   "metadata": {},
   "source": [
    "#### 4.1 Readability Measure"
   ]
  },
  {
   "cell_type": "code",
   "execution_count": null,
   "metadata": {},
   "outputs": [],
   "source": []
  },
  {
   "cell_type": "markdown",
   "metadata": {},
   "source": [
    "#### 4.2 Sentiment Measure"
   ]
  },
  {
   "cell_type": "code",
   "execution_count": null,
   "metadata": {},
   "outputs": [],
   "source": []
  },
  {
   "cell_type": "code",
   "execution_count": null,
   "metadata": {},
   "outputs": [],
   "source": []
  },
  {
   "cell_type": "markdown",
   "metadata": {},
   "source": [
    "### **5. IMPORT MACROECONOMIC DATA**"
   ]
  },
  {
   "cell_type": "markdown",
   "metadata": {},
   "source": [
    "This section imports the macroeconomic variables using an API .... "
   ]
  },
  {
   "cell_type": "code",
   "execution_count": 10,
   "metadata": {},
   "outputs": [
    {
     "name": "stdout",
     "output_type": "stream",
     "text": [
      "Requirement already satisfied: pandas_datareader in c:\\users\\jessi\\miniconda3\\envs\\econ\\lib\\site-packages (0.10.0)\n",
      "Requirement already satisfied: lxml in c:\\users\\jessi\\miniconda3\\envs\\econ\\lib\\site-packages (from pandas_datareader) (5.0.0)\n",
      "Requirement already satisfied: pandas>=0.23 in c:\\users\\jessi\\miniconda3\\envs\\econ\\lib\\site-packages (from pandas_datareader) (2.1.4)\n",
      "Requirement already satisfied: requests>=2.19.0 in c:\\users\\jessi\\miniconda3\\envs\\econ\\lib\\site-packages (from pandas_datareader) (2.31.0)\n",
      "Requirement already satisfied: numpy<2,>=1.23.2 in c:\\users\\jessi\\miniconda3\\envs\\econ\\lib\\site-packages (from pandas>=0.23->pandas_datareader) (1.26.2)\n",
      "Requirement already satisfied: python-dateutil>=2.8.2 in c:\\users\\jessi\\miniconda3\\envs\\econ\\lib\\site-packages (from pandas>=0.23->pandas_datareader) (2.8.2)\n",
      "Requirement already satisfied: pytz>=2020.1 in c:\\users\\jessi\\miniconda3\\envs\\econ\\lib\\site-packages (from pandas>=0.23->pandas_datareader) (2023.3.post1)\n",
      "Requirement already satisfied: tzdata>=2022.1 in c:\\users\\jessi\\miniconda3\\envs\\econ\\lib\\site-packages (from pandas>=0.23->pandas_datareader) (2023.3)\n",
      "Requirement already satisfied: charset-normalizer<4,>=2 in c:\\users\\jessi\\miniconda3\\envs\\econ\\lib\\site-packages (from requests>=2.19.0->pandas_datareader) (3.3.2)\n",
      "Requirement already satisfied: idna<4,>=2.5 in c:\\users\\jessi\\miniconda3\\envs\\econ\\lib\\site-packages (from requests>=2.19.0->pandas_datareader) (3.6)\n",
      "Requirement already satisfied: urllib3<3,>=1.21.1 in c:\\users\\jessi\\miniconda3\\envs\\econ\\lib\\site-packages (from requests>=2.19.0->pandas_datareader) (2.1.0)\n",
      "Requirement already satisfied: certifi>=2017.4.17 in c:\\users\\jessi\\miniconda3\\envs\\econ\\lib\\site-packages (from requests>=2.19.0->pandas_datareader) (2023.11.17)\n",
      "Requirement already satisfied: six>=1.5 in c:\\users\\jessi\\miniconda3\\envs\\econ\\lib\\site-packages (from python-dateutil>=2.8.2->pandas>=0.23->pandas_datareader) (1.16.0)\n"
     ]
    }
   ],
   "source": [
    "# Install Required Packages\n",
    "!pip install pandas_datareader\n",
    "import pandas as pd\n",
    "from pandas_datareader import fred"
   ]
  },
  {
   "cell_type": "code",
   "execution_count": 13,
   "metadata": {},
   "outputs": [
    {
     "name": "stdout",
     "output_type": "stream",
     "text": [
      "           DATE      GDPC1  FPCPITOTLZGUSA\n",
      "304  2023-01-01  22112.329             NaN\n",
      "305  2023-04-01  22225.350             NaN\n",
      "306  2023-07-01  22490.692             NaN\n",
      "307  2023-10-01  22679.255             NaN\n",
      "308  2024-01-01  22768.866             NaN\n"
     ]
    }
   ],
   "source": [
    "# Grab data using FredReader\n",
    "data = fred.FredReader(symbols=['GDPC1', \n",
    "                                'FPCPITOTLZGUSA'], \n",
    "                       start='1900-01-01', \n",
    "                       end=None).read()\n",
    "\n",
    "# Save the data to a CSV file\n",
    "data.to_csv('macro_vars.csv')\n",
    "\n",
    "# Read the data back from the CSV file to a DataFrame\n",
    "df_macro_vars = pd.read_csv('macro_vars.csv')\n",
    "\n",
    "# Check data has imported correctly\n",
    "print(df_macro_vars.tail())"
   ]
  },
  {
   "cell_type": "code",
   "execution_count": 17,
   "metadata": {},
   "outputs": [
    {
     "data": {
      "text/html": [
       "<div>\n",
       "<style scoped>\n",
       "    .dataframe tbody tr th:only-of-type {\n",
       "        vertical-align: middle;\n",
       "    }\n",
       "\n",
       "    .dataframe tbody tr th {\n",
       "        vertical-align: top;\n",
       "    }\n",
       "\n",
       "    .dataframe thead th {\n",
       "        text-align: right;\n",
       "    }\n",
       "</style>\n",
       "<table border=\"1\" class=\"dataframe\">\n",
       "  <thead>\n",
       "    <tr style=\"text-align: right;\">\n",
       "      <th></th>\n",
       "      <th>date</th>\n",
       "      <th>GDP</th>\n",
       "      <th>CPI</th>\n",
       "    </tr>\n",
       "  </thead>\n",
       "  <tbody>\n",
       "    <tr>\n",
       "      <th>0</th>\n",
       "      <td>1947-01-01</td>\n",
       "      <td>2182.681</td>\n",
       "      <td>NaN</td>\n",
       "    </tr>\n",
       "    <tr>\n",
       "      <th>1</th>\n",
       "      <td>1947-04-01</td>\n",
       "      <td>2176.892</td>\n",
       "      <td>NaN</td>\n",
       "    </tr>\n",
       "    <tr>\n",
       "      <th>2</th>\n",
       "      <td>1947-07-01</td>\n",
       "      <td>2172.432</td>\n",
       "      <td>NaN</td>\n",
       "    </tr>\n",
       "    <tr>\n",
       "      <th>3</th>\n",
       "      <td>1947-10-01</td>\n",
       "      <td>2206.452</td>\n",
       "      <td>NaN</td>\n",
       "    </tr>\n",
       "    <tr>\n",
       "      <th>4</th>\n",
       "      <td>1948-01-01</td>\n",
       "      <td>2239.682</td>\n",
       "      <td>NaN</td>\n",
       "    </tr>\n",
       "  </tbody>\n",
       "</table>\n",
       "</div>"
      ],
      "text/plain": [
       "         date       GDP  CPI\n",
       "0  1947-01-01  2182.681  NaN\n",
       "1  1947-04-01  2176.892  NaN\n",
       "2  1947-07-01  2172.432  NaN\n",
       "3  1947-10-01  2206.452  NaN\n",
       "4  1948-01-01  2239.682  NaN"
      ]
     },
     "execution_count": 17,
     "metadata": {},
     "output_type": "execute_result"
    }
   ],
   "source": [
    "# Assuming df_vars is your DataFrame\n",
    "new_column_names = ['date', 'GDP', 'CPI']\n",
    "\n",
    "# Rename the columns\n",
    "df_macro_vars = df_macro_vars.rename(columns=dict(zip(df_macro_vars.columns, new_column_names)))\n",
    "df_macro_vars.head(5)"
   ]
  },
  {
   "cell_type": "markdown",
   "metadata": {},
   "source": [
    "### **6. DESCRIPTIVE STATSTICS**"
   ]
  },
  {
   "cell_type": "code",
   "execution_count": null,
   "metadata": {},
   "outputs": [],
   "source": [
    "This section does... "
   ]
  },
  {
   "cell_type": "markdown",
   "metadata": {},
   "source": [
    "#### 6.1 Summary Table"
   ]
  },
  {
   "cell_type": "markdown",
   "metadata": {},
   "source": [
    "#### 6.2 Density charts "
   ]
  },
  {
   "cell_type": "markdown",
   "metadata": {},
   "source": [
    "#### 6.3 Correlation Analysis"
   ]
  },
  {
   "cell_type": "markdown",
   "metadata": {},
   "source": [
    "#### 6.4 Visualisation of Variables"
   ]
  },
  {
   "cell_type": "markdown",
   "metadata": {},
   "source": [
    "### **7. REGRESSION ANALYSIS**"
   ]
  },
  {
   "cell_type": "markdown",
   "metadata": {},
   "source": [
    "Description of model equations... "
   ]
  },
  {
   "cell_type": "markdown",
   "metadata": {},
   "source": [
    "#### 7.1 Model Specification"
   ]
  },
  {
   "cell_type": "markdown",
   "metadata": {},
   "source": [
    "#### 7.2 Robustness Tests"
   ]
  },
  {
   "cell_type": "code",
   "execution_count": null,
   "metadata": {},
   "outputs": [],
   "source": []
  }
 ],
 "metadata": {
  "kernelspec": {
   "display_name": "Python 3 (ipykernel)",
   "language": "python",
   "name": "python3"
  },
  "language_info": {
   "codemirror_mode": {
    "name": "ipython",
    "version": 3
   },
   "file_extension": ".py",
   "mimetype": "text/x-python",
   "name": "python",
   "nbconvert_exporter": "python",
   "pygments_lexer": "ipython3",
   "version": "3.11.7"
  }
 },
 "nbformat": 4,
 "nbformat_minor": 4
}
