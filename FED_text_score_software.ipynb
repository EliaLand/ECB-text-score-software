{
 "cells": [
  {
   "cell_type": "markdown",
   "metadata": {},
   "source": [
    "# **FED Text Score Software (Beta version)**"
   ]
  },
  {
   "cell_type": "markdown",
   "metadata": {},
   "source": [
    "We acknowledge the support of Elia Landini, Jessie Cameron & Lina Avril (Pantheon-Sorbonne University) in the development of this project."
   ]
  },
  {
   "cell_type": "markdown",
   "metadata": {},
   "source": [
    "### **Introduction**"
   ]
  },
  {
   "cell_type": "markdown",
   "metadata": {},
   "source": [
    "The project aims to conduct textual analysis of the American Federal Reserve's (FED) Monetary Policy Statements through the deployment of Python-based software. These monetary policy decisions take place every six months and following the meeting, the Federal Reserve Board explain eventual decisions to the Congress at the press conference and answer questions from journalists. Firstly, we will develop a web scraping script to extract textual data from the FED's website. Subsequently, we'll use the Natural Language Toolkit (NLTK) package to preprocess the text, including tokenization, stemming, and converting words to lowercase. Next, the Loughran McDonald Sentiment Dictionary will be employed to transform the cleaned qualitative text data into a quantitative measure of the FED's communication tone. This communication measure will then be regressed against the output gap and inflation gap, obtained via API, to assess the sensitivity of the FED's communication to these macroeconomic variables. Throughout the project, we'll employ various visualization and analysis packages to explore the data and conduct preliminary analysis. Finally, we plan to develop a user-friendly interface for easy access and interpretation of our findings."
   ]
  },
  {
   "cell_type": "markdown",
   "metadata": {},
   "source": [
    "### **Preliminary steps**"
   ]
  },
  {
   "cell_type": "code",
   "execution_count": 149,
   "metadata": {},
   "outputs": [
    {
     "name": "stdout",
     "output_type": "stream",
     "text": [
      "Requirement already satisfied: pandas in c:\\users\\eland\\miniconda3\\envs\\x\\lib\\site-packages (1.5.3)\n",
      "Requirement already satisfied: python-dateutil>=2.8.1 in c:\\users\\eland\\miniconda3\\envs\\x\\lib\\site-packages (from pandas) (2.8.2)\n",
      "Requirement already satisfied: pytz>=2020.1 in c:\\users\\eland\\miniconda3\\envs\\x\\lib\\site-packages (from pandas) (2023.3.post1)\n",
      "Requirement already satisfied: numpy>=1.20.3 in c:\\users\\eland\\miniconda3\\envs\\x\\lib\\site-packages (from pandas) (1.24.3)\n",
      "Requirement already satisfied: six>=1.5 in c:\\users\\eland\\miniconda3\\envs\\x\\lib\\site-packages (from python-dateutil>=2.8.1->pandas) (1.16.0)\n",
      "Requirement already satisfied: matplotlib in c:\\users\\eland\\miniconda3\\envs\\x\\lib\\site-packages (3.7.5)\n",
      "Requirement already satisfied: contourpy>=1.0.1 in c:\\users\\eland\\miniconda3\\envs\\x\\lib\\site-packages (from matplotlib) (1.1.1)\n",
      "Requirement already satisfied: cycler>=0.10 in c:\\users\\eland\\miniconda3\\envs\\x\\lib\\site-packages (from matplotlib) (0.12.1)\n",
      "Requirement already satisfied: fonttools>=4.22.0 in c:\\users\\eland\\miniconda3\\envs\\x\\lib\\site-packages (from matplotlib) (4.49.0)\n",
      "Requirement already satisfied: kiwisolver>=1.0.1 in c:\\users\\eland\\miniconda3\\envs\\x\\lib\\site-packages (from matplotlib) (1.4.5)\n",
      "Requirement already satisfied: numpy<2,>=1.20 in c:\\users\\eland\\miniconda3\\envs\\x\\lib\\site-packages (from matplotlib) (1.24.3)\n",
      "Requirement already satisfied: packaging>=20.0 in c:\\users\\eland\\miniconda3\\envs\\x\\lib\\site-packages (from matplotlib) (23.1)\n",
      "Requirement already satisfied: pillow>=6.2.0 in c:\\users\\eland\\miniconda3\\envs\\x\\lib\\site-packages (from matplotlib) (10.2.0)\n",
      "Requirement already satisfied: pyparsing>=2.3.1 in c:\\users\\eland\\miniconda3\\envs\\x\\lib\\site-packages (from matplotlib) (3.1.2)\n",
      "Requirement already satisfied: python-dateutil>=2.7 in c:\\users\\eland\\miniconda3\\envs\\x\\lib\\site-packages (from matplotlib) (2.8.2)\n",
      "Requirement already satisfied: importlib-resources>=3.2.0 in c:\\users\\eland\\miniconda3\\envs\\x\\lib\\site-packages (from matplotlib) (6.1.1)\n",
      "Requirement already satisfied: zipp>=3.1.0 in c:\\users\\eland\\miniconda3\\envs\\x\\lib\\site-packages (from importlib-resources>=3.2.0->matplotlib) (3.11.0)\n",
      "Requirement already satisfied: six>=1.5 in c:\\users\\eland\\miniconda3\\envs\\x\\lib\\site-packages (from python-dateutil>=2.7->matplotlib) (1.16.0)\n",
      "Requirement already satisfied: requests-html in c:\\users\\eland\\miniconda3\\envs\\x\\lib\\site-packages (0.10.0)\n",
      "Requirement already satisfied: requests in c:\\users\\eland\\miniconda3\\envs\\x\\lib\\site-packages (from requests-html) (2.31.0)\n",
      "Requirement already satisfied: pyquery in c:\\users\\eland\\miniconda3\\envs\\x\\lib\\site-packages (from requests-html) (2.0.0)\n",
      "Requirement already satisfied: fake-useragent in c:\\users\\eland\\miniconda3\\envs\\x\\lib\\site-packages (from requests-html) (1.4.0)\n",
      "Requirement already satisfied: parse in c:\\users\\eland\\miniconda3\\envs\\x\\lib\\site-packages (from requests-html) (1.20.1)\n",
      "Requirement already satisfied: bs4 in c:\\users\\eland\\miniconda3\\envs\\x\\lib\\site-packages (from requests-html) (0.0.2)\n",
      "Requirement already satisfied: w3lib in c:\\users\\eland\\miniconda3\\envs\\x\\lib\\site-packages (from requests-html) (2.1.2)\n",
      "Requirement already satisfied: pyppeteer>=0.0.14 in c:\\users\\eland\\miniconda3\\envs\\x\\lib\\site-packages (from requests-html) (2.0.0)\n",
      "Requirement already satisfied: appdirs<2.0.0,>=1.4.3 in c:\\users\\eland\\miniconda3\\envs\\x\\lib\\site-packages (from pyppeteer>=0.0.14->requests-html) (1.4.4)\n",
      "Requirement already satisfied: certifi>=2023 in c:\\users\\eland\\miniconda3\\envs\\x\\lib\\site-packages (from pyppeteer>=0.0.14->requests-html) (2023.11.17)\n",
      "Requirement already satisfied: importlib-metadata>=1.4 in c:\\users\\eland\\miniconda3\\envs\\x\\lib\\site-packages (from pyppeteer>=0.0.14->requests-html) (6.0.0)\n",
      "Requirement already satisfied: pyee<12.0.0,>=11.0.0 in c:\\users\\eland\\miniconda3\\envs\\x\\lib\\site-packages (from pyppeteer>=0.0.14->requests-html) (11.1.0)\n",
      "Requirement already satisfied: tqdm<5.0.0,>=4.42.1 in c:\\users\\eland\\miniconda3\\envs\\x\\lib\\site-packages (from pyppeteer>=0.0.14->requests-html) (4.66.2)\n",
      "Requirement already satisfied: urllib3<2.0.0,>=1.25.8 in c:\\users\\eland\\miniconda3\\envs\\x\\lib\\site-packages (from pyppeteer>=0.0.14->requests-html) (1.26.18)\n",
      "Requirement already satisfied: websockets<11.0,>=10.0 in c:\\users\\eland\\miniconda3\\envs\\x\\lib\\site-packages (from pyppeteer>=0.0.14->requests-html) (10.4)\n",
      "Requirement already satisfied: beautifulsoup4 in c:\\users\\eland\\miniconda3\\envs\\x\\lib\\site-packages (from bs4->requests-html) (4.12.2)\n",
      "Requirement already satisfied: importlib-resources>=5.0 in c:\\users\\eland\\miniconda3\\envs\\x\\lib\\site-packages (from fake-useragent->requests-html) (6.1.1)\n",
      "Requirement already satisfied: lxml>=2.1 in c:\\users\\eland\\miniconda3\\envs\\x\\lib\\site-packages (from pyquery->requests-html) (4.9.4)\n",
      "Requirement already satisfied: cssselect>=1.2.0 in c:\\users\\eland\\miniconda3\\envs\\x\\lib\\site-packages (from pyquery->requests-html) (1.2.0)\n",
      "Requirement already satisfied: charset-normalizer<4,>=2 in c:\\users\\eland\\miniconda3\\envs\\x\\lib\\site-packages (from requests->requests-html) (2.0.4)\n",
      "Requirement already satisfied: idna<4,>=2.5 in c:\\users\\eland\\miniconda3\\envs\\x\\lib\\site-packages (from requests->requests-html) (2.10)\n",
      "Requirement already satisfied: zipp>=0.5 in c:\\users\\eland\\miniconda3\\envs\\x\\lib\\site-packages (from importlib-metadata>=1.4->pyppeteer>=0.0.14->requests-html) (3.11.0)\n",
      "Requirement already satisfied: typing-extensions in c:\\users\\eland\\miniconda3\\envs\\x\\lib\\site-packages (from pyee<12.0.0,>=11.0.0->pyppeteer>=0.0.14->requests-html) (4.12.0)\n",
      "Requirement already satisfied: colorama in c:\\users\\eland\\miniconda3\\envs\\x\\lib\\site-packages (from tqdm<5.0.0,>=4.42.1->pyppeteer>=0.0.14->requests-html) (0.4.6)\n",
      "Requirement already satisfied: soupsieve>1.2 in c:\\users\\eland\\miniconda3\\envs\\x\\lib\\site-packages (from beautifulsoup4->bs4->requests-html) (2.5)\n",
      "Requirement already satisfied: seaborn in c:\\users\\eland\\miniconda3\\envs\\x\\lib\\site-packages (0.13.2)\n",
      "Requirement already satisfied: numpy!=1.24.0,>=1.20 in c:\\users\\eland\\miniconda3\\envs\\x\\lib\\site-packages (from seaborn) (1.24.3)\n",
      "Requirement already satisfied: pandas>=1.2 in c:\\users\\eland\\miniconda3\\envs\\x\\lib\\site-packages (from seaborn) (1.5.3)\n",
      "Requirement already satisfied: matplotlib!=3.6.1,>=3.4 in c:\\users\\eland\\miniconda3\\envs\\x\\lib\\site-packages (from seaborn) (3.7.5)\n",
      "Requirement already satisfied: contourpy>=1.0.1 in c:\\users\\eland\\miniconda3\\envs\\x\\lib\\site-packages (from matplotlib!=3.6.1,>=3.4->seaborn) (1.1.1)\n",
      "Requirement already satisfied: cycler>=0.10 in c:\\users\\eland\\miniconda3\\envs\\x\\lib\\site-packages (from matplotlib!=3.6.1,>=3.4->seaborn) (0.12.1)\n",
      "Requirement already satisfied: fonttools>=4.22.0 in c:\\users\\eland\\miniconda3\\envs\\x\\lib\\site-packages (from matplotlib!=3.6.1,>=3.4->seaborn) (4.49.0)\n",
      "Requirement already satisfied: kiwisolver>=1.0.1 in c:\\users\\eland\\miniconda3\\envs\\x\\lib\\site-packages (from matplotlib!=3.6.1,>=3.4->seaborn) (1.4.5)\n",
      "Requirement already satisfied: packaging>=20.0 in c:\\users\\eland\\miniconda3\\envs\\x\\lib\\site-packages (from matplotlib!=3.6.1,>=3.4->seaborn) (23.1)\n",
      "Requirement already satisfied: pillow>=6.2.0 in c:\\users\\eland\\miniconda3\\envs\\x\\lib\\site-packages (from matplotlib!=3.6.1,>=3.4->seaborn) (10.2.0)\n",
      "Requirement already satisfied: pyparsing>=2.3.1 in c:\\users\\eland\\miniconda3\\envs\\x\\lib\\site-packages (from matplotlib!=3.6.1,>=3.4->seaborn) (3.1.2)\n",
      "Requirement already satisfied: python-dateutil>=2.7 in c:\\users\\eland\\miniconda3\\envs\\x\\lib\\site-packages (from matplotlib!=3.6.1,>=3.4->seaborn) (2.8.2)\n",
      "Requirement already satisfied: importlib-resources>=3.2.0 in c:\\users\\eland\\miniconda3\\envs\\x\\lib\\site-packages (from matplotlib!=3.6.1,>=3.4->seaborn) (6.1.1)\n",
      "Requirement already satisfied: pytz>=2020.1 in c:\\users\\eland\\miniconda3\\envs\\x\\lib\\site-packages (from pandas>=1.2->seaborn) (2023.3.post1)\n",
      "Requirement already satisfied: zipp>=3.1.0 in c:\\users\\eland\\miniconda3\\envs\\x\\lib\\site-packages (from importlib-resources>=3.2.0->matplotlib!=3.6.1,>=3.4->seaborn) (3.11.0)\n",
      "Requirement already satisfied: six>=1.5 in c:\\users\\eland\\miniconda3\\envs\\x\\lib\\site-packages (from python-dateutil>=2.7->matplotlib!=3.6.1,>=3.4->seaborn) (1.16.0)\n",
      "Requirement already satisfied: numpy in c:\\users\\eland\\miniconda3\\envs\\x\\lib\\site-packages (1.24.3)\n",
      "Requirement already satisfied: schedule in c:\\users\\eland\\miniconda3\\envs\\x\\lib\\site-packages (1.2.1)\n",
      "Requirement already satisfied: statsmodels in c:\\users\\eland\\miniconda3\\envs\\x\\lib\\site-packages (0.14.1)\n",
      "Requirement already satisfied: numpy<2,>=1.18 in c:\\users\\eland\\miniconda3\\envs\\x\\lib\\site-packages (from statsmodels) (1.24.3)\n",
      "Requirement already satisfied: scipy!=1.9.2,>=1.4 in c:\\users\\eland\\miniconda3\\envs\\x\\lib\\site-packages (from statsmodels) (1.10.1)\n",
      "Requirement already satisfied: pandas!=2.1.0,>=1.0 in c:\\users\\eland\\miniconda3\\envs\\x\\lib\\site-packages (from statsmodels) (1.5.3)\n",
      "Requirement already satisfied: patsy>=0.5.4 in c:\\users\\eland\\miniconda3\\envs\\x\\lib\\site-packages (from statsmodels) (0.5.4)\n",
      "Requirement already satisfied: packaging>=21.3 in c:\\users\\eland\\miniconda3\\envs\\x\\lib\\site-packages (from statsmodels) (23.1)\n",
      "Requirement already satisfied: python-dateutil>=2.8.1 in c:\\users\\eland\\miniconda3\\envs\\x\\lib\\site-packages (from pandas!=2.1.0,>=1.0->statsmodels) (2.8.2)\n",
      "Requirement already satisfied: pytz>=2020.1 in c:\\users\\eland\\miniconda3\\envs\\x\\lib\\site-packages (from pandas!=2.1.0,>=1.0->statsmodels) (2023.3.post1)\n",
      "Requirement already satisfied: six in c:\\users\\eland\\miniconda3\\envs\\x\\lib\\site-packages (from patsy>=0.5.4->statsmodels) (1.16.0)\n",
      "Requirement already satisfied: reportlab in c:\\users\\eland\\miniconda3\\envs\\x\\lib\\site-packages (4.1.0)\n",
      "Requirement already satisfied: pillow>=9.0.0 in c:\\users\\eland\\miniconda3\\envs\\x\\lib\\site-packages (from reportlab) (10.2.0)\n",
      "Requirement already satisfied: chardet in c:\\users\\eland\\miniconda3\\envs\\x\\lib\\site-packages (from reportlab) (3.0.4)\n",
      "Requirement already satisfied: scipy in c:\\users\\eland\\miniconda3\\envs\\x\\lib\\site-packages (1.10.1)\n",
      "Requirement already satisfied: numpy<1.27.0,>=1.19.5 in c:\\users\\eland\\miniconda3\\envs\\x\\lib\\site-packages (from scipy) (1.24.3)\n",
      "Requirement already satisfied: linearmodels in c:\\users\\eland\\miniconda3\\envs\\x\\lib\\site-packages (4.31)\n",
      "Requirement already satisfied: numpy>=1.16 in c:\\users\\eland\\miniconda3\\envs\\x\\lib\\site-packages (from linearmodels) (1.24.3)\n",
      "Requirement already satisfied: pandas>=0.24 in c:\\users\\eland\\miniconda3\\envs\\x\\lib\\site-packages (from linearmodels) (1.5.3)\n",
      "Requirement already satisfied: scipy>=1.2 in c:\\users\\eland\\miniconda3\\envs\\x\\lib\\site-packages (from linearmodels) (1.10.1)\n",
      "Requirement already satisfied: statsmodels>=0.11 in c:\\users\\eland\\miniconda3\\envs\\x\\lib\\site-packages (from linearmodels) (0.14.1)\n",
      "Requirement already satisfied: property-cached>=1.6.3 in c:\\users\\eland\\miniconda3\\envs\\x\\lib\\site-packages (from linearmodels) (1.6.4)\n",
      "Requirement already satisfied: mypy-extensions>=0.4 in c:\\users\\eland\\miniconda3\\envs\\x\\lib\\site-packages (from linearmodels) (1.0.0)\n",
      "Requirement already satisfied: Cython>=0.29.21 in c:\\users\\eland\\miniconda3\\envs\\x\\lib\\site-packages (from linearmodels) (3.0.10)\n",
      "Requirement already satisfied: pyhdfe>=0.1 in c:\\users\\eland\\miniconda3\\envs\\x\\lib\\site-packages (from linearmodels) (0.2.0)\n",
      "Requirement already satisfied: formulaic>=0.3.2 in c:\\users\\eland\\miniconda3\\envs\\x\\lib\\site-packages (from linearmodels) (1.0.1)\n",
      "Requirement already satisfied: setuptools-scm>=7.0.0 in c:\\users\\eland\\miniconda3\\envs\\x\\lib\\site-packages (from setuptools-scm[toml]>=7.0.0->linearmodels) (8.0.4)\n",
      "Requirement already satisfied: astor>=0.8 in c:\\users\\eland\\miniconda3\\envs\\x\\lib\\site-packages (from formulaic>=0.3.2->linearmodels) (0.8.1)\n",
      "Requirement already satisfied: graphlib-backport>=1.0.0 in c:\\users\\eland\\miniconda3\\envs\\x\\lib\\site-packages (from formulaic>=0.3.2->linearmodels) (1.1.0)\n",
      "Requirement already satisfied: interface-meta>=1.2.0 in c:\\users\\eland\\miniconda3\\envs\\x\\lib\\site-packages (from formulaic>=0.3.2->linearmodels) (1.3.0)\n",
      "Requirement already satisfied: typing-extensions>=4.2.0 in c:\\users\\eland\\miniconda3\\envs\\x\\lib\\site-packages (from formulaic>=0.3.2->linearmodels) (4.12.0)\n",
      "Requirement already satisfied: wrapt>=1.0 in c:\\users\\eland\\miniconda3\\envs\\x\\lib\\site-packages (from formulaic>=0.3.2->linearmodels) (1.16.0)\n",
      "Requirement already satisfied: python-dateutil>=2.8.1 in c:\\users\\eland\\miniconda3\\envs\\x\\lib\\site-packages (from pandas>=0.24->linearmodels) (2.8.2)\n",
      "Requirement already satisfied: pytz>=2020.1 in c:\\users\\eland\\miniconda3\\envs\\x\\lib\\site-packages (from pandas>=0.24->linearmodels) (2023.3.post1)\n",
      "Requirement already satisfied: packaging>=20 in c:\\users\\eland\\miniconda3\\envs\\x\\lib\\site-packages (from setuptools-scm>=7.0.0->setuptools-scm[toml]>=7.0.0->linearmodels) (23.1)\n",
      "Requirement already satisfied: setuptools in c:\\users\\eland\\miniconda3\\envs\\x\\lib\\site-packages (from setuptools-scm>=7.0.0->setuptools-scm[toml]>=7.0.0->linearmodels) (68.2.2)\n",
      "Requirement already satisfied: tomli>=1 in c:\\users\\eland\\miniconda3\\envs\\x\\lib\\site-packages (from setuptools-scm>=7.0.0->setuptools-scm[toml]>=7.0.0->linearmodels) (2.0.1)\n",
      "Requirement already satisfied: patsy>=0.5.4 in c:\\users\\eland\\miniconda3\\envs\\x\\lib\\site-packages (from statsmodels>=0.11->linearmodels) (0.5.4)\n",
      "Requirement already satisfied: six in c:\\users\\eland\\miniconda3\\envs\\x\\lib\\site-packages (from patsy>=0.5.4->statsmodels>=0.11->linearmodels) (1.16.0)\n",
      "Requirement already satisfied: openai in c:\\users\\eland\\miniconda3\\envs\\x\\lib\\site-packages (1.16.2)\n",
      "Requirement already satisfied: anyio<5,>=3.5.0 in c:\\users\\eland\\miniconda3\\envs\\x\\lib\\site-packages (from openai) (3.5.0)\n",
      "Requirement already satisfied: distro<2,>=1.7.0 in c:\\users\\eland\\miniconda3\\envs\\x\\lib\\site-packages (from openai) (1.9.0)\n",
      "Requirement already satisfied: httpx<1,>=0.23.0 in c:\\users\\eland\\miniconda3\\envs\\x\\lib\\site-packages (from openai) (0.27.0)\n",
      "Requirement already satisfied: pydantic<3,>=1.9.0 in c:\\users\\eland\\miniconda3\\envs\\x\\lib\\site-packages (from openai) (2.6.3)\n",
      "Requirement already satisfied: sniffio in c:\\users\\eland\\miniconda3\\envs\\x\\lib\\site-packages (from openai) (1.3.1)\n",
      "Requirement already satisfied: tqdm>4 in c:\\users\\eland\\miniconda3\\envs\\x\\lib\\site-packages (from openai) (4.66.2)\n",
      "Requirement already satisfied: typing-extensions<5,>=4.7 in c:\\users\\eland\\miniconda3\\envs\\x\\lib\\site-packages (from openai) (4.12.0)\n",
      "Requirement already satisfied: idna>=2.8 in c:\\users\\eland\\miniconda3\\envs\\x\\lib\\site-packages (from anyio<5,>=3.5.0->openai) (2.10)\n",
      "Requirement already satisfied: certifi in c:\\users\\eland\\miniconda3\\envs\\x\\lib\\site-packages (from httpx<1,>=0.23.0->openai) (2023.11.17)\n",
      "Requirement already satisfied: httpcore==1.* in c:\\users\\eland\\miniconda3\\envs\\x\\lib\\site-packages (from httpx<1,>=0.23.0->openai) (1.0.4)\n",
      "Requirement already satisfied: h11<0.15,>=0.13 in c:\\users\\eland\\miniconda3\\envs\\x\\lib\\site-packages (from httpcore==1.*->httpx<1,>=0.23.0->openai) (0.14.0)\n",
      "Requirement already satisfied: annotated-types>=0.4.0 in c:\\users\\eland\\miniconda3\\envs\\x\\lib\\site-packages (from pydantic<3,>=1.9.0->openai) (0.6.0)\n",
      "Requirement already satisfied: pydantic-core==2.16.3 in c:\\users\\eland\\miniconda3\\envs\\x\\lib\\site-packages (from pydantic<3,>=1.9.0->openai) (2.16.3)\n",
      "Requirement already satisfied: colorama in c:\\users\\eland\\miniconda3\\envs\\x\\lib\\site-packages (from tqdm>4->openai) (0.4.6)\n",
      "Requirement already satisfied: fredapi in c:\\users\\eland\\miniconda3\\envs\\x\\lib\\site-packages (0.5.1)\n",
      "Requirement already satisfied: pandas in c:\\users\\eland\\miniconda3\\envs\\x\\lib\\site-packages (from fredapi) (1.5.3)\n",
      "Requirement already satisfied: python-dateutil>=2.8.1 in c:\\users\\eland\\miniconda3\\envs\\x\\lib\\site-packages (from pandas->fredapi) (2.8.2)\n",
      "Requirement already satisfied: pytz>=2020.1 in c:\\users\\eland\\miniconda3\\envs\\x\\lib\\site-packages (from pandas->fredapi) (2023.3.post1)\n",
      "Requirement already satisfied: numpy>=1.20.3 in c:\\users\\eland\\miniconda3\\envs\\x\\lib\\site-packages (from pandas->fredapi) (1.24.3)\n",
      "Requirement already satisfied: six>=1.5 in c:\\users\\eland\\miniconda3\\envs\\x\\lib\\site-packages (from python-dateutil>=2.8.1->pandas->fredapi) (1.16.0)\n"
     ]
    }
   ],
   "source": [
    "!pip install pandas\n",
    "!pip install matplotlib\n",
    "!pip install requests-html\n",
    "!pip install seaborn\n",
    "!pip install numpy\n",
    "!pip install schedule\n",
    "!pip install statsmodels\n",
    "!pip install reportlab\n",
    "!pip install scipy\n",
    "!pip install linearmodels\n",
    "!pip install openai\n",
    "!pip install fredapi"
   ]
  },
  {
   "cell_type": "markdown",
   "metadata": {},
   "source": [
    "### **FED web scraping**"
   ]
  },
  {
   "cell_type": "code",
   "execution_count": 145,
   "metadata": {},
   "outputs": [],
   "source": [
    "import requests\n",
    "from bs4 import BeautifulSoup\n",
    "from datetime import datetime, timedelta"
   ]
  },
  {
   "cell_type": "code",
   "execution_count": 232,
   "metadata": {},
   "outputs": [],
   "source": [
    "# FED scraping function\n",
    "# With the following function, we aim to retrieve and filter text-based sources concerning monetary policy decisions undertaken by the FED itself and released to the public on semiannual press conferences.  \n",
    "# Customize the function to scrape articles from the ECB/Eurostystem website within the folder named \"Monetary Policy Report\"\n",
    "# The function is also designed to include filtering options to select specific text-based sources according to topic and typology of the publication. However in our specific case we will be interesented only in semiannual reports concerning monetary policy.\n",
    "# Base URL-FED: https://www.federalreserve.gov/monetarypolicy/publications/mpr_default.htm    \n",
    "\n",
    "def fed_get_articles(topic, publication_type, sub_class):\n",
    "    \n",
    "    # Base URL settings \n",
    "    base_url = f\"https://www.federalreserve.gov/{topic}/{publication_type}/mpr_default.htm\"\n",
    "    base_domain = f\"https://www.federalreserve.gov\"\n",
    "    \n",
    "    article_urls = []\n",
    "\n",
    "    # From the base URL, we now extract all the available URLs on the page by deploying Request and BeatifulSoup packages \n",
    "    response = requests.get(base_url)\n",
    "    soup = BeautifulSoup(response.content, \"html.parser\")\n",
    "    print(\"Scraping URL:\", base_url)\n",
    "\n",
    "    # Find and filter article URLs, ruling out other structural URL non-inherent to the analysis\n",
    "    # We are also interested only in full report publications and not summaries. In our case this difference is highlighted by the subclass \"testimony\" in which full report publications are stored\n",
    "    # It is also worth noticing that the publications' URL has slightly changed throughout time (from 2016 onwards)\n",
    "    for link in soup.find_all(\"a\", href=True):\n",
    "        article_url = link[\"href\"]\n",
    "\n",
    "        # To limit the research to the first 5 results, we may want to activate this loop\n",
    "        # if len(article_urls) >= 5:  \n",
    "            # break\n",
    "        if not article_url.startswith(\"http\"):\n",
    "            article_url = base_domain + article_url\n",
    "        \n",
    "        if f\"{sub_class}\" in article_url:\n",
    "            print(article_url)\n",
    "            article_urls.append(article_url)\n",
    "\n",
    "    # Delete the first element of the article_urls list representing the general folder    \n",
    "    for url in article_urls:     \n",
    "        if url == f\"https://www.federalreserve.gov/newsevents/{sub_class}.htm\":\n",
    "            article_urls.remove(url)\n",
    "            break\n",
    "\n",
    "    return article_urls"
   ]
  },
  {
   "cell_type": "code",
   "execution_count": 233,
   "metadata": {},
   "outputs": [
    {
     "name": "stdout",
     "output_type": "stream",
     "text": [
      "Scraping URL: https://www.federalreserve.gov/monetarypolicy/publications/mpr_default.htm\n",
      "https://www.federalreserve.gov/newsevents/testimony.htm\n",
      "https://www.federalreserve.gov/newsevents/testimony/powell20240306a.htm\n",
      "https://www.federalreserve.gov/newsevents/testimony/powell20230307a.htm\n",
      "https://www.federalreserve.gov/newsevents/testimony/powell20230621a.htm\n",
      "https://www.federalreserve.gov/newsevents/testimony/powell20220302a.htm\n",
      "https://www.federalreserve.gov/newsevents/testimony/powell20220622a.htm\n",
      "https://www.federalreserve.gov/newsevents/testimony/powell20210223a.htm\n",
      "https://www.federalreserve.gov/newsevents/testimony/powell20210714a.htm\n",
      "https://www.federalreserve.gov/newsevents/testimony/powell20200211a.htm\n",
      "https://www.federalreserve.gov/newsevents/testimony/powell20200616a.htm\n",
      "https://www.federalreserve.gov/newsevents/testimony/powell20190226a.htm\n",
      "https://www.federalreserve.gov/newsevents/testimony/powell20190710a.htm\n",
      "https://www.federalreserve.gov/newsevents/testimony/powell20180226a.htm\n",
      "https://www.federalreserve.gov/newsevents/testimony/powell20180717a.htm\n",
      "https://www.federalreserve.gov/newsevents/testimony/yellen20170214a.htm\n",
      "https://www.federalreserve.gov/newsevents/testimony/yellen20170712a.htm\n",
      "https://www.federalreserve.gov/newsevents/testimony/yellen20160210a.htm\n",
      "https://www.federalreserve.gov/newsevents/testimony/yellen20160621a.htm\n",
      "https://www.federalreserve.gov/newsevents/testimony/yellen20150224a.htm\n",
      "https://www.federalreserve.gov/newsevents/testimony/yellen20150715a.htm\n",
      "https://www.federalreserve.gov/newsevents/testimony/yellen20140211a.htm\n",
      "https://www.federalreserve.gov/newsevents/testimony/yellen20140715a.htm\n",
      "https://www.federalreserve.gov/newsevents/testimony/bernanke20130226a.htm\n",
      "https://www.federalreserve.gov/newsevents/testimony/bernanke20130717a.htm\n",
      "https://www.federalreserve.gov/newsevents/testimony/bernanke20120229a.htm\n",
      "https://www.federalreserve.gov/newsevents/testimony/bernanke20120717a.htm\n",
      "https://www.federalreserve.gov/newsevents/testimony/bernanke20110301a.htm\n",
      "https://www.federalreserve.gov/newsevents/testimony/bernanke20110713a.htm\n",
      "https://www.federalreserve.gov/newsevents/testimony/bernanke20100224a.htm\n",
      "https://www.federalreserve.gov/newsevents/testimony/bernanke20100721a.htm\n",
      "https://www.federalreserve.gov/newsevents/testimony/bernanke20090224a.htm\n",
      "https://www.federalreserve.gov/newsevents/testimony/bernanke20090721a.htm\n",
      "https://www.federalreserve.gov/newsevents/testimony/bernanke20080227a.htm\n",
      "https://www.federalreserve.gov/newsevents/testimony/bernanke20080715a.htm\n",
      "https://www.federalreserve.gov/newsevents/testimony/bernanke20070214a.htm\n",
      "https://www.federalreserve.gov/newsevents/testimony/bernanke20070718a.htm\n",
      "https://www.federalreserve.gov/newsevents/testimony/bernanke20060215a.htm\n",
      "https://www.federalreserve.gov/newsevents/testimony/bernanke20060719a.htm\n",
      "https://www.federalreserve.gov/boarddocs/hh/2005/february/testimony.htm\n",
      "https://www.federalreserve.gov/boarddocs/hh/2005/july/testimony.htm\n",
      "https://www.federalreserve.gov/boarddocs/hh/2004/february/testimony.htm\n",
      "https://www.federalreserve.gov/boarddocs/hh/2004/july/testimony.htm\n",
      "https://www.federalreserve.gov/boarddocs/hh/2003/february/testimony.htm\n",
      "https://www.federalreserve.gov/boarddocs/hh/2003/april/testimony.htm\n",
      "https://www.federalreserve.gov/boarddocs/hh/2003/july/testimony.htm\n",
      "https://www.federalreserve.gov/boarddocs/hh/2002/february/testimony.htm\n",
      "https://www.federalreserve.gov/boarddocs/hh/2002/july/testimony.htm\n",
      "https://www.federalreserve.gov/boarddocs/hh/2001/february/testimony2.htm\n",
      "https://www.federalreserve.gov/boarddocs/hh/2001/july/testimony.htm\n",
      "https://www.federalreserve.gov/boarddocs/hh/1999/february/testimony.htm\n",
      "https://www.federalreserve.gov/boarddocs/hh/1999/July/testimony.htm\n",
      "https://www.federalreserve.gov/boarddocs/hh/1998/february/testimony.htm\n",
      "https://www.federalreserve.gov/boarddocs/hh/1998/july/testimony.htm\n",
      "https://www.federalreserve.gov/boarddocs/hh/1997/february/testimony.htm\n",
      "https://www.federalreserve.gov/boarddocs/hh/1997/july/testimony.htm\n",
      "https://www.federalreserve.gov/boarddocs/hh/1996/july/testimony.htm\n",
      "['https://www.federalreserve.gov/newsevents/testimony/powell20240306a.htm', 'https://www.federalreserve.gov/newsevents/testimony/powell20230307a.htm', 'https://www.federalreserve.gov/newsevents/testimony/powell20230621a.htm', 'https://www.federalreserve.gov/newsevents/testimony/powell20220302a.htm', 'https://www.federalreserve.gov/newsevents/testimony/powell20220622a.htm', 'https://www.federalreserve.gov/newsevents/testimony/powell20210223a.htm', 'https://www.federalreserve.gov/newsevents/testimony/powell20210714a.htm', 'https://www.federalreserve.gov/newsevents/testimony/powell20200211a.htm', 'https://www.federalreserve.gov/newsevents/testimony/powell20200616a.htm', 'https://www.federalreserve.gov/newsevents/testimony/powell20190226a.htm', 'https://www.federalreserve.gov/newsevents/testimony/powell20190710a.htm', 'https://www.federalreserve.gov/newsevents/testimony/powell20180226a.htm', 'https://www.federalreserve.gov/newsevents/testimony/powell20180717a.htm', 'https://www.federalreserve.gov/newsevents/testimony/yellen20170214a.htm', 'https://www.federalreserve.gov/newsevents/testimony/yellen20170712a.htm', 'https://www.federalreserve.gov/newsevents/testimony/yellen20160210a.htm', 'https://www.federalreserve.gov/newsevents/testimony/yellen20160621a.htm', 'https://www.federalreserve.gov/newsevents/testimony/yellen20150224a.htm', 'https://www.federalreserve.gov/newsevents/testimony/yellen20150715a.htm', 'https://www.federalreserve.gov/newsevents/testimony/yellen20140211a.htm', 'https://www.federalreserve.gov/newsevents/testimony/yellen20140715a.htm', 'https://www.federalreserve.gov/newsevents/testimony/bernanke20130226a.htm', 'https://www.federalreserve.gov/newsevents/testimony/bernanke20130717a.htm', 'https://www.federalreserve.gov/newsevents/testimony/bernanke20120229a.htm', 'https://www.federalreserve.gov/newsevents/testimony/bernanke20120717a.htm', 'https://www.federalreserve.gov/newsevents/testimony/bernanke20110301a.htm', 'https://www.federalreserve.gov/newsevents/testimony/bernanke20110713a.htm', 'https://www.federalreserve.gov/newsevents/testimony/bernanke20100224a.htm', 'https://www.federalreserve.gov/newsevents/testimony/bernanke20100721a.htm', 'https://www.federalreserve.gov/newsevents/testimony/bernanke20090224a.htm', 'https://www.federalreserve.gov/newsevents/testimony/bernanke20090721a.htm', 'https://www.federalreserve.gov/newsevents/testimony/bernanke20080227a.htm', 'https://www.federalreserve.gov/newsevents/testimony/bernanke20080715a.htm', 'https://www.federalreserve.gov/newsevents/testimony/bernanke20070214a.htm', 'https://www.federalreserve.gov/newsevents/testimony/bernanke20070718a.htm', 'https://www.federalreserve.gov/newsevents/testimony/bernanke20060215a.htm', 'https://www.federalreserve.gov/newsevents/testimony/bernanke20060719a.htm', 'https://www.federalreserve.gov/boarddocs/hh/2005/february/testimony.htm', 'https://www.federalreserve.gov/boarddocs/hh/2005/july/testimony.htm', 'https://www.federalreserve.gov/boarddocs/hh/2004/february/testimony.htm', 'https://www.federalreserve.gov/boarddocs/hh/2004/july/testimony.htm', 'https://www.federalreserve.gov/boarddocs/hh/2003/february/testimony.htm', 'https://www.federalreserve.gov/boarddocs/hh/2003/april/testimony.htm', 'https://www.federalreserve.gov/boarddocs/hh/2003/july/testimony.htm', 'https://www.federalreserve.gov/boarddocs/hh/2002/february/testimony.htm', 'https://www.federalreserve.gov/boarddocs/hh/2002/july/testimony.htm', 'https://www.federalreserve.gov/boarddocs/hh/2001/february/testimony2.htm', 'https://www.federalreserve.gov/boarddocs/hh/2001/july/testimony.htm', 'https://www.federalreserve.gov/boarddocs/hh/1999/february/testimony.htm', 'https://www.federalreserve.gov/boarddocs/hh/1999/July/testimony.htm', 'https://www.federalreserve.gov/boarddocs/hh/1998/february/testimony.htm', 'https://www.federalreserve.gov/boarddocs/hh/1998/july/testimony.htm', 'https://www.federalreserve.gov/boarddocs/hh/1997/february/testimony.htm', 'https://www.federalreserve.gov/boarddocs/hh/1997/july/testimony.htm', 'https://www.federalreserve.gov/boarddocs/hh/1996/july/testimony.htm']\n"
     ]
    }
   ],
   "source": [
    "# Retrieving FED semiannual reports' URLs through the previous function by specifying the value of each parameter to fit our research scope\n",
    "topic = \"monetarypolicy\"\n",
    "publication_type = \"publications\"\n",
    "sub_class = \"testimony\"\n",
    "\n",
    "print(fed_get_articles(topic, publication_type, sub_class))"
   ]
  },
  {
   "cell_type": "markdown",
   "metadata": {},
   "source": [
    "### **Text Retrieving**"
   ]
  },
  {
   "cell_type": "code",
   "execution_count": null,
   "metadata": {},
   "outputs": [],
   "source": []
  },
  {
   "cell_type": "markdown",
   "metadata": {},
   "source": [
    "### **FED Data Import**"
   ]
  },
  {
   "cell_type": "code",
   "execution_count": 150,
   "metadata": {},
   "outputs": [],
   "source": [
    "import os\n",
    "import fredapi as fa\n",
    "import pandas as pd\n",
    "from fredapi import Fred"
   ]
  },
  {
   "cell_type": "code",
   "execution_count": 151,
   "metadata": {},
   "outputs": [],
   "source": [
    "# Freadpi settings\n",
    "# DISCLAIMER: the so API key is strictly personal and you should refrain from sharing it with strangers \n",
    "\n",
    "# FRED API key  setting\n",
    "# you can generate an API key on https://fred.stlouisfed.org/docs/api/api_key.html by registrating a valid account\n",
    "# FRED API key-example: a8f0cdf1d0b64d1188b9c64ed64c77b6\n",
    "\n",
    "fred = Fred(api_key=\"a8f0cdf1d0b64d1188b9c64ed64c77b6\")"
   ]
  },
  {
   "cell_type": "markdown",
   "metadata": {},
   "source": [
    "1) EXAMPLE: Japanese Yen to U.S. Dollar Spot Exchange Rate "
   ]
  },
  {
   "cell_type": "code",
   "execution_count": 152,
   "metadata": {},
   "outputs": [
    {
     "name": "stdout",
     "output_type": "stream",
     "text": [
      "                   0\n",
      "1971-01-01  358.0200\n",
      "1971-02-01  357.5450\n",
      "1971-03-01  357.5187\n",
      "1971-04-01  357.5032\n",
      "1971-05-01  357.4130\n"
     ]
    }
   ],
   "source": [
    "# Retrieving data for Japanese Yen to U.S. Dollar Spot Exchange Rate \n",
    "# https://fred.stlouisfed.org/series/EXJPUS \n",
    "# frequency: monthly\n",
    "# time span (year): 1971-2024\n",
    "# dataframe tag: yen\n",
    "\n",
    "dfyen = fred.get_series(\"EXJPUS\")\n",
    "dfyen = dfyen.to_frame()\n",
    "print(dfyen.head())"
   ]
  },
  {
   "cell_type": "code",
   "execution_count": 153,
   "metadata": {},
   "outputs": [
    {
     "name": "stdout",
     "output_type": "stream",
     "text": [
      "[RangeIndex(start=0, stop=1, step=1)]\n",
      "         Month       Yen\n",
      "0   1971-01-01  358.0200\n",
      "1   1971-02-01  357.5450\n",
      "2   1971-03-01  357.5187\n",
      "3   1971-04-01  357.5032\n",
      "4   1971-05-01  357.4130\n",
      "..         ...       ...\n",
      "635 2023-12-01  143.9815\n",
      "636 2024-01-01  146.2943\n",
      "637 2024-02-01  149.6150\n",
      "638 2024-03-01  149.8186\n",
      "639 2024-04-01  153.8900\n",
      "\n",
      "[640 rows x 2 columns]\n"
     ]
    }
   ],
   "source": [
    "# Data manipulation \n",
    "\n",
    "# get the columns names \n",
    "dfyen_column_names = dfyen.columns\n",
    "print([dfyen_column_names])\n",
    "\n",
    "# Rename columns to better fit our vocabulary\n",
    "dfyen1 = dfyen.rename(columns={dfyen.columns[0]: \"Yen\"})\n",
    "\n",
    "# Reset the index, making the time index a regular column and assign to that new column the name \"Year\"\n",
    "dfyen1.reset_index(inplace=True) \n",
    "dfyen1.rename(columns={\"index\": \"Month\"}, inplace=True) \n",
    "dfyenX = dfyen1\n",
    "print(dfyenX)"
   ]
  }
 ],
 "metadata": {
  "kernelspec": {
   "display_name": "X",
   "language": "python",
   "name": "python3"
  },
  "language_info": {
   "codemirror_mode": {
    "name": "ipython",
    "version": 3
   },
   "file_extension": ".py",
   "mimetype": "text/x-python",
   "name": "python",
   "nbconvert_exporter": "python",
   "pygments_lexer": "ipython3",
   "version": "3.8.0"
  }
 },
 "nbformat": 4,
 "nbformat_minor": 2
}
